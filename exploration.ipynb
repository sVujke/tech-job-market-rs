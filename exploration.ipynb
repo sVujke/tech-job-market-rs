{
 "cells": [
  {
   "cell_type": "code",
   "execution_count": 1,
   "metadata": {
    "collapsed": false
   },
   "outputs": [],
   "source": [
    "import numpy as np\n",
    "import pandas as pd \n",
    "from pandas import DataFrame, Series\n",
    "import matplotlib\n"
   ]
  },
  {
   "cell_type": "code",
   "execution_count": 2,
   "metadata": {
    "collapsed": false
   },
   "outputs": [
    {
     "data": {
      "text/html": [
       "<div>\n",
       "<table border=\"1\" class=\"dataframe\">\n",
       "  <thead>\n",
       "    <tr style=\"text-align: right;\">\n",
       "      <th></th>\n",
       "      <th>﻿12/12/2015</th>\n",
       "      <th>79</th>\n",
       "      <th>39</th>\n",
       "      <th>6</th>\n",
       "      <th>65</th>\n",
       "      <th>32</th>\n",
       "      <th>26</th>\n",
       "      <th>20</th>\n",
       "      <th>12</th>\n",
       "      <th>67</th>\n",
       "      <th>57</th>\n",
       "      <th>17</th>\n",
       "      <th>10</th>\n",
       "      <th>11</th>\n",
       "      <th>Unnamed: 14</th>\n",
       "    </tr>\n",
       "  </thead>\n",
       "  <tbody>\n",
       "    <tr>\n",
       "      <th>0</th>\n",
       "      <td>14/12/2015</td>\n",
       "      <td>79</td>\n",
       "      <td>39</td>\n",
       "      <td>6</td>\n",
       "      <td>65</td>\n",
       "      <td>33</td>\n",
       "      <td>27</td>\n",
       "      <td>20</td>\n",
       "      <td>12</td>\n",
       "      <td>67</td>\n",
       "      <td>57</td>\n",
       "      <td>17</td>\n",
       "      <td>10</td>\n",
       "      <td>11</td>\n",
       "      <td>NaN</td>\n",
       "    </tr>\n",
       "    <tr>\n",
       "      <th>1</th>\n",
       "      <td>16/12/2015</td>\n",
       "      <td>79</td>\n",
       "      <td>38</td>\n",
       "      <td>6</td>\n",
       "      <td>62</td>\n",
       "      <td>34</td>\n",
       "      <td>28</td>\n",
       "      <td>21</td>\n",
       "      <td>11</td>\n",
       "      <td>64</td>\n",
       "      <td>57</td>\n",
       "      <td>17</td>\n",
       "      <td>9</td>\n",
       "      <td>11</td>\n",
       "      <td>NaN</td>\n",
       "    </tr>\n",
       "  </tbody>\n",
       "</table>\n",
       "</div>"
      ],
      "text/plain": [
       "  ﻿12/12/2015  79  39  6  65  32  26  20  12  67  57  17  10  11  Unnamed: 14\n",
       "0  14/12/2015  79  39  6  65  33  27  20  12  67  57  17  10  11          NaN\n",
       "1  16/12/2015  79  38  6  62  34  28  21  11  64  57  17   9  11          NaN"
      ]
     },
     "execution_count": 2,
     "metadata": {},
     "output_type": "execute_result"
    }
   ],
   "source": [
    "data = pd.read_csv(\"data/data.txt\", sep=\",\")\n",
    "data.head(2)"
   ]
  },
  {
   "cell_type": "code",
   "execution_count": 3,
   "metadata": {
    "collapsed": false
   },
   "outputs": [
    {
     "data": {
      "text/html": [
       "<div>\n",
       "<table border=\"1\" class=\"dataframe\">\n",
       "  <thead>\n",
       "    <tr style=\"text-align: right;\">\n",
       "      <th></th>\n",
       "      <th>﻿12/12/2015</th>\n",
       "      <th>79</th>\n",
       "      <th>39</th>\n",
       "      <th>6</th>\n",
       "      <th>65</th>\n",
       "      <th>32</th>\n",
       "      <th>26</th>\n",
       "      <th>20</th>\n",
       "      <th>12</th>\n",
       "      <th>67</th>\n",
       "      <th>57</th>\n",
       "      <th>17</th>\n",
       "      <th>10</th>\n",
       "      <th>11</th>\n",
       "    </tr>\n",
       "  </thead>\n",
       "  <tbody>\n",
       "    <tr>\n",
       "      <th>0</th>\n",
       "      <td>14/12/2015</td>\n",
       "      <td>79</td>\n",
       "      <td>39</td>\n",
       "      <td>6</td>\n",
       "      <td>65</td>\n",
       "      <td>33</td>\n",
       "      <td>27</td>\n",
       "      <td>20</td>\n",
       "      <td>12</td>\n",
       "      <td>67</td>\n",
       "      <td>57</td>\n",
       "      <td>17</td>\n",
       "      <td>10</td>\n",
       "      <td>11</td>\n",
       "    </tr>\n",
       "    <tr>\n",
       "      <th>1</th>\n",
       "      <td>16/12/2015</td>\n",
       "      <td>79</td>\n",
       "      <td>38</td>\n",
       "      <td>6</td>\n",
       "      <td>62</td>\n",
       "      <td>34</td>\n",
       "      <td>28</td>\n",
       "      <td>21</td>\n",
       "      <td>11</td>\n",
       "      <td>64</td>\n",
       "      <td>57</td>\n",
       "      <td>17</td>\n",
       "      <td>9</td>\n",
       "      <td>11</td>\n",
       "    </tr>\n",
       "  </tbody>\n",
       "</table>\n",
       "</div>"
      ],
      "text/plain": [
       "  ﻿12/12/2015  79  39  6  65  32  26  20  12  67  57  17  10  11\n",
       "0  14/12/2015  79  39  6  65  33  27  20  12  67  57  17  10  11\n",
       "1  16/12/2015  79  38  6  62  34  28  21  11  64  57  17   9  11"
      ]
     },
     "execution_count": 3,
     "metadata": {},
     "output_type": "execute_result"
    }
   ],
   "source": [
    "data = data.drop(\"Unnamed: 14\", 1)\n",
    "data.head(2)\n"
   ]
  },
  {
   "cell_type": "code",
   "execution_count": 4,
   "metadata": {
    "collapsed": false
   },
   "outputs": [],
   "source": [
    "data.columns = ['date','java','.net', 'c','frontend','android','ios','qa','linux','js','php','python','ruby','game-dev']"
   ]
  },
  {
   "cell_type": "code",
   "execution_count": 5,
   "metadata": {
    "collapsed": false
   },
   "outputs": [],
   "source": [
    "data = data.drop(\"frontend\", 1)"
   ]
  },
  {
   "cell_type": "code",
   "execution_count": 6,
   "metadata": {
    "collapsed": false
   },
   "outputs": [
    {
     "data": {
      "text/html": [
       "<div>\n",
       "<table border=\"1\" class=\"dataframe\">\n",
       "  <thead>\n",
       "    <tr style=\"text-align: right;\">\n",
       "      <th></th>\n",
       "      <th>date</th>\n",
       "      <th>java</th>\n",
       "      <th>.net</th>\n",
       "      <th>c</th>\n",
       "      <th>android</th>\n",
       "      <th>ios</th>\n",
       "      <th>qa</th>\n",
       "      <th>linux</th>\n",
       "      <th>js</th>\n",
       "      <th>php</th>\n",
       "      <th>python</th>\n",
       "      <th>ruby</th>\n",
       "      <th>game-dev</th>\n",
       "    </tr>\n",
       "  </thead>\n",
       "  <tbody>\n",
       "    <tr>\n",
       "      <th>0</th>\n",
       "      <td>14/12/2015</td>\n",
       "      <td>79</td>\n",
       "      <td>39</td>\n",
       "      <td>6</td>\n",
       "      <td>33</td>\n",
       "      <td>27</td>\n",
       "      <td>20</td>\n",
       "      <td>12</td>\n",
       "      <td>67</td>\n",
       "      <td>57</td>\n",
       "      <td>17</td>\n",
       "      <td>10</td>\n",
       "      <td>11</td>\n",
       "    </tr>\n",
       "    <tr>\n",
       "      <th>1</th>\n",
       "      <td>16/12/2015</td>\n",
       "      <td>79</td>\n",
       "      <td>38</td>\n",
       "      <td>6</td>\n",
       "      <td>34</td>\n",
       "      <td>28</td>\n",
       "      <td>21</td>\n",
       "      <td>11</td>\n",
       "      <td>64</td>\n",
       "      <td>57</td>\n",
       "      <td>17</td>\n",
       "      <td>9</td>\n",
       "      <td>11</td>\n",
       "    </tr>\n",
       "  </tbody>\n",
       "</table>\n",
       "</div>"
      ],
      "text/plain": [
       "         date  java  .net  c  android  ios  qa  linux  js  php  python  ruby  \\\n",
       "0  14/12/2015    79    39  6       33   27  20     12  67   57      17    10   \n",
       "1  16/12/2015    79    38  6       34   28  21     11  64   57      17     9   \n",
       "\n",
       "   game-dev  \n",
       "0        11  \n",
       "1        11  "
      ]
     },
     "execution_count": 6,
     "metadata": {},
     "output_type": "execute_result"
    }
   ],
   "source": [
    "data.head(2)"
   ]
  },
  {
   "cell_type": "code",
   "execution_count": 7,
   "metadata": {
    "collapsed": true
   },
   "outputs": [],
   "source": [
    "data_aws = pd.read_csv(\"data/data_aws.txt\", sep=\",\")\n",
    "data_aws = data_aws.drop(\"Unnamed: 14\", 1)\n",
    "data_aws.columns = ['date','java','.net', 'c','frontend','android','ios','qa','linux','js','php','python','ruby','game-dev']"
   ]
  },
  {
   "cell_type": "code",
   "execution_count": 8,
   "metadata": {
    "collapsed": false
   },
   "outputs": [
    {
     "data": {
      "text/html": [
       "<div>\n",
       "<table border=\"1\" class=\"dataframe\">\n",
       "  <thead>\n",
       "    <tr style=\"text-align: right;\">\n",
       "      <th></th>\n",
       "      <th>date</th>\n",
       "      <th>java</th>\n",
       "      <th>.net</th>\n",
       "      <th>c</th>\n",
       "      <th>frontend</th>\n",
       "      <th>android</th>\n",
       "      <th>ios</th>\n",
       "      <th>qa</th>\n",
       "      <th>linux</th>\n",
       "      <th>js</th>\n",
       "      <th>php</th>\n",
       "      <th>python</th>\n",
       "      <th>ruby</th>\n",
       "      <th>game-dev</th>\n",
       "    </tr>\n",
       "  </thead>\n",
       "  <tbody>\n",
       "    <tr>\n",
       "      <th>0</th>\n",
       "      <td>11/03/2016</td>\n",
       "      <td>86</td>\n",
       "      <td>44</td>\n",
       "      <td>15</td>\n",
       "      <td>62</td>\n",
       "      <td>41</td>\n",
       "      <td>30</td>\n",
       "      <td>23</td>\n",
       "      <td>14</td>\n",
       "      <td>80</td>\n",
       "      <td>76</td>\n",
       "      <td>16</td>\n",
       "      <td>13</td>\n",
       "      <td>10</td>\n",
       "    </tr>\n",
       "    <tr>\n",
       "      <th>1</th>\n",
       "      <td>12/03/2016</td>\n",
       "      <td>85</td>\n",
       "      <td>44</td>\n",
       "      <td>15</td>\n",
       "      <td>62</td>\n",
       "      <td>41</td>\n",
       "      <td>30</td>\n",
       "      <td>23</td>\n",
       "      <td>15</td>\n",
       "      <td>79</td>\n",
       "      <td>78</td>\n",
       "      <td>16</td>\n",
       "      <td>13</td>\n",
       "      <td>10</td>\n",
       "    </tr>\n",
       "  </tbody>\n",
       "</table>\n",
       "</div>"
      ],
      "text/plain": [
       "         date  java  .net   c  frontend  android  ios  qa  linux  js  php  \\\n",
       "0  11/03/2016    86    44  15        62       41   30  23     14  80   76   \n",
       "1  12/03/2016    85    44  15        62       41   30  23     15  79   78   \n",
       "\n",
       "   python  ruby  game-dev  \n",
       "0      16    13        10  \n",
       "1      16    13        10  "
      ]
     },
     "execution_count": 8,
     "metadata": {},
     "output_type": "execute_result"
    }
   ],
   "source": [
    "data_aws.head(2)"
   ]
  },
  {
   "cell_type": "code",
   "execution_count": 9,
   "metadata": {
    "collapsed": true
   },
   "outputs": [],
   "source": [
    "frames = [data, data_aws]\n",
    "result = pd.concat(frames)"
   ]
  },
  {
   "cell_type": "code",
   "execution_count": 10,
   "metadata": {
    "collapsed": false
   },
   "outputs": [
    {
     "data": {
      "text/html": [
       "<div>\n",
       "<table border=\"1\" class=\"dataframe\">\n",
       "  <thead>\n",
       "    <tr style=\"text-align: right;\">\n",
       "      <th></th>\n",
       "      <th>.net</th>\n",
       "      <th>android</th>\n",
       "      <th>c</th>\n",
       "      <th>date</th>\n",
       "      <th>frontend</th>\n",
       "      <th>game-dev</th>\n",
       "      <th>ios</th>\n",
       "      <th>java</th>\n",
       "      <th>js</th>\n",
       "      <th>linux</th>\n",
       "      <th>php</th>\n",
       "      <th>python</th>\n",
       "      <th>qa</th>\n",
       "      <th>ruby</th>\n",
       "    </tr>\n",
       "  </thead>\n",
       "  <tbody>\n",
       "    <tr>\n",
       "      <th>0</th>\n",
       "      <td>39</td>\n",
       "      <td>33</td>\n",
       "      <td>6</td>\n",
       "      <td>14/12/2015</td>\n",
       "      <td>NaN</td>\n",
       "      <td>11</td>\n",
       "      <td>27</td>\n",
       "      <td>79</td>\n",
       "      <td>67</td>\n",
       "      <td>12</td>\n",
       "      <td>57</td>\n",
       "      <td>17</td>\n",
       "      <td>20</td>\n",
       "      <td>10</td>\n",
       "    </tr>\n",
       "    <tr>\n",
       "      <th>1</th>\n",
       "      <td>38</td>\n",
       "      <td>34</td>\n",
       "      <td>6</td>\n",
       "      <td>16/12/2015</td>\n",
       "      <td>NaN</td>\n",
       "      <td>11</td>\n",
       "      <td>28</td>\n",
       "      <td>79</td>\n",
       "      <td>64</td>\n",
       "      <td>11</td>\n",
       "      <td>57</td>\n",
       "      <td>17</td>\n",
       "      <td>21</td>\n",
       "      <td>9</td>\n",
       "    </tr>\n",
       "  </tbody>\n",
       "</table>\n",
       "</div>"
      ],
      "text/plain": [
       "   .net  android  c        date  frontend  game-dev  ios  java  js  linux  \\\n",
       "0    39       33  6  14/12/2015       NaN        11   27    79  67     12   \n",
       "1    38       34  6  16/12/2015       NaN        11   28    79  64     11   \n",
       "\n",
       "   php  python  qa  ruby  \n",
       "0   57      17  20    10  \n",
       "1   57      17  21     9  "
      ]
     },
     "execution_count": 10,
     "metadata": {},
     "output_type": "execute_result"
    }
   ],
   "source": [
    "result.head(2)"
   ]
  },
  {
   "cell_type": "code",
   "execution_count": 12,
   "metadata": {
    "collapsed": false
   },
   "outputs": [],
   "source": [
    "df_stat = result.describe()\n",
    "df_stat.to_csv(\"data/descriptive.csv\")\n",
    "t = df_stat.transpose()\n",
    "df_stat\n",
    "t.to_csv(\"data/trans.csv\")"
   ]
  },
  {
   "cell_type": "code",
   "execution_count": 11,
   "metadata": {
    "collapsed": false
   },
   "outputs": [
    {
     "data": {
      "text/plain": [
       "<matplotlib.figure.Figure at 0x9a11ef0>"
      ]
     },
     "metadata": {},
     "output_type": "display_data"
    },
    {
     "data": {
      "image/png": "[encoded data removed]",
      "text/plain": [
       "<matplotlib.figure.Figure at 0x992c668>"
      ]
     },
     "metadata": {},
     "output_type": "display_data"
    }
   ],
   "source": [
    "import matplotlib.pyplot as plt\n",
    "%matplotlib inline\n",
    "#result.cumsum()\n",
    "plt.figure(); result.plot();"
   ]
  },
  {
   "cell_type": "code",
   "execution_count": null,
   "metadata": {
    "collapsed": false
   },
   "outputs": [],
   "source": []
  },
  {
   "cell_type": "code",
   "execution_count": 12,
   "metadata": {
    "collapsed": true
   },
   "outputs": [],
   "source": [
    "result.to_csv(\"data/all.csv\")"
   ]
  },
  {
   "cell_type": "code",
   "execution_count": null,
   "metadata": {
    "collapsed": true
   },
   "outputs": [],
   "source": []
  }
 ],
 "metadata": {
  "kernelspec": {
   "display_name": "Python 2",
   "language": "python",
   "name": "python2"
  },
  "language_info": {
   "codemirror_mode": {
    "name": "ipython",
    "version": 2
   },
   "file_extension": ".py",
   "mimetype": "text/x-python",
   "name": "python",
   "nbconvert_exporter": "python",
   "pygments_lexer": "ipython2",
   "version": "2.7.11"
  }
 },
 "nbformat": 4,
 "nbformat_minor": 0
}
