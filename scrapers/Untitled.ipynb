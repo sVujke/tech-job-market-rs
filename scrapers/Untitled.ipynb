{
 "cells": [
  {
   "cell_type": "code",
   "execution_count": 1,
   "metadata": {
    "collapsed": true
   },
   "outputs": [],
   "source": [
    "from bs4 import BeautifulSoup\n",
    "import requests, time\n",
    "import scrape_lib"
   ]
  },
  {
   "cell_type": "code",
   "execution_count": 2,
   "metadata": {
    "collapsed": false
   },
   "outputs": [],
   "source": [
    "url=\"http://startit.rs/poslovi/\"\n",
    "\n",
    "\n",
    "response = requests.get(url)\n",
    "\n",
    "result = response.content\n",
    "\n",
    "soup = BeautifulSoup(result, 'html.parser')"
   ]
  },
  {
   "cell_type": "code",
   "execution_count": 3,
   "metadata": {
    "collapsed": false
   },
   "outputs": [
    {
     "data": {
      "text/plain": [
       "<div class=\"listing-oglas-premium\">\n",
       "<a href=\"http://startit.rs/poslovi-oglasi/software-engineer-java-mid-level-namics/\" target=\"_blank\"><img src=\"http://startit.rs/wp-content/uploads/namics-premium1.png\"/></a>\n",
       "<!--\n",
       "-->\n",
       "<!-- -->\n",
       "<div class=\"listing-oglas-premium-text\">\n",
       "<h1><a href=\"http://startit.rs/poslovi-oglasi/software-engineer-java-mid-level-namics/\" target=\"_blank\">Software Engineer Java ­ Mid-level f/m</a></h1>\n",
       "<div class=\"listing-ime-firme\"><a href=\"http://startit.rs/?post_type=page&amp;p=36841\" target=\"_blank\"><span style=\"background: #ffff90; padding: 3px 5px 1px; border-bottom: 2px solid #ffde00; color: #000; font-style: none;\">Namics → profil kompanije</span></a></div><div class=\"listing-ime-firme\" style=\"color: #999; \">do 21/08 · Beograd</div><small><a href=\"http://startit.rs/poslovi/aem\">aem</a></small><small><a href=\"http://startit.rs/poslovi/java\">java</a></small><small><a href=\"http://startit.rs/poslovi/spring\">spring</a></small> </div>\n",
       "</div>"
      ]
     },
     "execution_count": 3,
     "metadata": {},
     "output_type": "execute_result"
    }
   ],
   "source": [
    "premium_oglasi = soup.find_all(\"div\", class_=\"listing-oglas-premium\")\n",
    "po = premium_oglasi[0]\n",
    "po"
   ]
  },
  {
   "cell_type": "code",
   "execution_count": 4,
   "metadata": {
    "collapsed": false
   },
   "outputs": [
    {
     "data": {
      "text/plain": [
       "[<a href=\"http://startit.rs/poslovi-oglasi/software-engineer-java-mid-level-namics/\" target=\"_blank\"><img src=\"http://startit.rs/wp-content/uploads/namics-premium1.png\"/></a>,\n",
       " <a href=\"http://startit.rs/poslovi-oglasi/software-engineer-java-mid-level-namics/\" target=\"_blank\">Software Engineer Java ­ Mid-level f/m</a>,\n",
       " <a href=\"http://startit.rs/?post_type=page&amp;p=36841\" target=\"_blank\"><span style=\"background: #ffff90; padding: 3px 5px 1px; border-bottom: 2px solid #ffde00; color: #000; font-style: none;\">Namics → profil kompanije</span></a>,\n",
       " <a href=\"http://startit.rs/poslovi/aem\">aem</a>,\n",
       " <a href=\"http://startit.rs/poslovi/java\">java</a>,\n",
       " <a href=\"http://startit.rs/poslovi/spring\">spring</a>]"
      ]
     },
     "execution_count": 4,
     "metadata": {},
     "output_type": "execute_result"
    }
   ],
   "source": [
    "po.find_all('a')"
   ]
  },
  {
   "cell_type": "code",
   "execution_count": 5,
   "metadata": {
    "collapsed": false
   },
   "outputs": [],
   "source": [
    "#def get_position(pa):\n",
    "#    return pa.h1.get_text()\n",
    "\n",
    "#position = get_position(po)\n",
    "#position"
   ]
  },
  {
   "cell_type": "code",
   "execution_count": 6,
   "metadata": {
    "collapsed": false
   },
   "outputs": [],
   "source": [
    "firm_city = po.find_all('div',class_=\"listing-ime-firme\")"
   ]
  },
  {
   "cell_type": "code",
   "execution_count": 7,
   "metadata": {
    "collapsed": false
   },
   "outputs": [
    {
     "data": {
      "text/plain": [
       "u'Namics \\u2192 profil kompanije'"
      ]
     },
     "execution_count": 7,
     "metadata": {},
     "output_type": "execute_result"
    }
   ],
   "source": [
    "def get_firm(po):\n",
    "    firm_city = po.find_all('div',class_=\"listing-ime-firme\")\n",
    "    return firm_city[0].get_text()\n",
    "firm = get_firm(po)\n",
    "firm"
   ]
  },
  {
   "cell_type": "code",
   "execution_count": 114,
   "metadata": {
    "collapsed": false
   },
   "outputs": [
    {
     "data": {
      "text/plain": [
       "u'Beograd'"
      ]
     },
     "execution_count": 114,
     "metadata": {},
     "output_type": "execute_result"
    }
   ],
   "source": [
    "def get_city(po):\n",
    "    firm_city = po.find_all('div',class_=\"listing-ime-firme\")\n",
    "    city = firm_city[1].get_text()\n",
    "    #print city\n",
    "    city = city.split(' ')[3:]\n",
    "    #print city\n",
    "    cities = \"\"\n",
    "    #print ' '.join(city)\n",
    "    #for c in city:\n",
    "    #    print \"EVO: \", c\n",
    "    #    cities = cities+str(c).encode('utf8')\n",
    "    return ' '.join(city)\n",
    "city = get_city(po)\n",
    "city"
   ]
  },
  {
   "cell_type": "code",
   "execution_count": 9,
   "metadata": {
    "collapsed": false
   },
   "outputs": [
    {
     "data": {
      "text/plain": [
       "'aem java spring '"
      ]
     },
     "execution_count": 9,
     "metadata": {},
     "output_type": "execute_result"
    }
   ],
   "source": [
    "def get_tags(po):\n",
    "    tags = po.find_all('a')[3:]\n",
    "    tag_str = \"\"\n",
    "    for tag in tags:\n",
    "        tag_str = tag_str + str(tag.get_text())+\" \"\n",
    "    tag_str = tag_str.lower()\n",
    "    return tag_str\n",
    "tags = get_tags(po)\n",
    "tags"
   ]
  },
  {
   "cell_type": "code",
   "execution_count": 10,
   "metadata": {
    "collapsed": false
   },
   "outputs": [
    {
     "name": "stdout",
     "output_type": "stream",
     "text": [
      "aem\n",
      "java\n",
      "spring\n"
     ]
    }
   ],
   "source": [
    "tags = po.find_all('a')[3:]\n",
    "for tag in tags:\n",
    "    print tag.get_text().lower()"
   ]
  },
  {
   "cell_type": "code",
   "execution_count": 11,
   "metadata": {
    "collapsed": false
   },
   "outputs": [
    {
     "data": {
      "text/plain": [
       "[u'aem', u'java', u'spring']"
      ]
     },
     "execution_count": 11,
     "metadata": {},
     "output_type": "execute_result"
    }
   ],
   "source": [
    "def get_tag_list(po):\n",
    "    tag_list = []\n",
    "    tags = po.find_all('a')[3:]\n",
    "    for tag in tags:\n",
    "         tag_list.append(tag.get_text().lower())\n",
    "    return tag_list\n",
    "tags = get_tag_list(po)\n",
    "tags"
   ]
  },
  {
   "cell_type": "code",
   "execution_count": 12,
   "metadata": {
    "collapsed": false
   },
   "outputs": [
    {
     "data": {
      "text/plain": [
       "[<a href=\"http://startit.rs/poslovi-oglasi/content-support-german-qube/\" target=\"_blank\"><img src=\"http://startit.rs/wp-content/uploads/qube-standard.png\"/></a>,\n",
       " <a href=\"http://startit.rs/poslovi-oglasi/content-support-german-qube/\" target=\"_blank\">Content &amp; Support German</a>,\n",
       " <a href=\"http://qube3dstudio.com/\" target=\"_blank\">Qube doo</a>,\n",
       " <a href=\"http://startit.rs/poslovi/content\">content</a>,\n",
       " <a href=\"http://startit.rs/poslovi/marketing\">marketing</a>,\n",
       " <a href=\"http://startit.rs/poslovi/support\">support</a>]"
      ]
     },
     "execution_count": 12,
     "metadata": {},
     "output_type": "execute_result"
    }
   ],
   "source": [
    "standard_adds = soup.find_all(\"div\", class_=\"listing-oglas-standard\")\n",
    "ad = standard_adds[0].find_all('a')\n",
    "ad"
   ]
  },
  {
   "cell_type": "code",
   "execution_count": 13,
   "metadata": {
    "collapsed": false
   },
   "outputs": [
    {
     "data": {
      "text/plain": [
       "u'Content & Support German'"
      ]
     },
     "execution_count": 13,
     "metadata": {},
     "output_type": "execute_result"
    }
   ],
   "source": [
    "def get_position(ad):\n",
    "    return ad[1].get_text()\n",
    "pos = get_position(ad)\n",
    "pos"
   ]
  },
  {
   "cell_type": "code",
   "execution_count": 44,
   "metadata": {
    "collapsed": false
   },
   "outputs": [],
   "source": [
    "def get_firm(ad):\n",
    "    firm = ad[2].get_text()\n",
    "    #firm = get_firm(ad)\n",
    "\n",
    "    #firm = \"Nesto trulo random profil kompanije\"\n",
    "    firm = firm.split(' ')\n",
    "    #print firm\n",
    "\n",
    "    #if \"ne\" is \"ne\":\n",
    "     #   print \"sit\"\n",
    "    x = -1\n",
    "    for f in firm:\n",
    "        if f == \"profil\":\n",
    "            x = firm.index(f) - 1\n",
    "    if x is not -1:\n",
    "        firm.pop(x)\n",
    "        firm.pop(x)\n",
    "        firm.pop(x)\n",
    "    #print ' '.join(firm)\n",
    "    return ' '.join(firm)\n",
    "\n",
    "firm = get_firm(ad)"
   ]
  },
  {
   "cell_type": "code",
   "execution_count": 45,
   "metadata": {
    "collapsed": false
   },
   "outputs": [
    {
     "data": {
      "text/plain": [
       "'content marketing support '"
      ]
     },
     "execution_count": 45,
     "metadata": {},
     "output_type": "execute_result"
    }
   ],
   "source": [
    "def get_tags(ad):\n",
    "    tags = ad[3:]\n",
    "    tag_str = \"\"\n",
    "    for tag in tags:\n",
    "        tag_str = tag_str + str(tag.get_text())+\" \"\n",
    "    tag_str = tag_str.lower()\n",
    "    return tag_str\n",
    "tags = get_tags(ad)\n",
    "tags"
   ]
  },
  {
   "cell_type": "code",
   "execution_count": 46,
   "metadata": {
    "collapsed": false
   },
   "outputs": [
    {
     "data": {
      "text/plain": [
       "[u'content', u'marketing', u'support']"
      ]
     },
     "execution_count": 46,
     "metadata": {},
     "output_type": "execute_result"
    }
   ],
   "source": [
    "def get_tags_list(ad):\n",
    "    tag_list = []\n",
    "    tags = ad[3:]\n",
    "    for tag in tags:\n",
    "        t = tag.get_text().lower()\n",
    "        tag_list.append(t)\n",
    "    return tag_list\n",
    "get_tags_list(ad)"
   ]
  },
  {
   "cell_type": "code",
   "execution_count": 47,
   "metadata": {
    "collapsed": false
   },
   "outputs": [
    {
     "data": {
      "text/plain": [
       "<div class=\"listing-oglas-standard\">\n",
       "<a href=\"http://startit.rs/poslovi-oglasi/content-support-german-qube/\" target=\"_blank\"><img src=\"http://startit.rs/wp-content/uploads/qube-standard.png\"/></a>\n",
       "<!-- -->\n",
       "<div class=\"listing-oglas-standard-text\">\n",
       "<h1><a href=\"http://startit.rs/poslovi-oglasi/content-support-german-qube/\" target=\"_blank\">Content &amp; Support German</a></h1>\n",
       "<div class=\"listing-ime-firme\"><a href=\"http://qube3dstudio.com/\" target=\"_blank\">Qube doo</a></div><div class=\"listing-ime-firme\" style=\"color: #999; \">do 27/07 · Belgrade</div><small><a href=\"http://startit.rs/poslovi/content\">content</a></small><small><a href=\"http://startit.rs/poslovi/marketing\">marketing</a></small><small><a href=\"http://startit.rs/poslovi/support\">support</a></small>\n",
       "</div>\n",
       "</div>"
      ]
     },
     "execution_count": 47,
     "metadata": {},
     "output_type": "execute_result"
    }
   ],
   "source": [
    "standard_adds[0]"
   ]
  },
  {
   "cell_type": "code",
   "execution_count": 48,
   "metadata": {
    "collapsed": false
   },
   "outputs": [
    {
     "data": {
      "text/plain": [
       "'Belgrade'"
      ]
     },
     "execution_count": 48,
     "metadata": {},
     "output_type": "execute_result"
    }
   ],
   "source": [
    "get_city(standard_adds[0])"
   ]
  },
  {
   "cell_type": "code",
   "execution_count": 85,
   "metadata": {
    "collapsed": false
   },
   "outputs": [
    {
     "data": {
      "text/plain": [
       "[{'city': 'Belgrade',\n",
       "  'date': '23/07/16',\n",
       "  'firm': u'Qube doo',\n",
       "  'position': u'Content & Support German',\n",
       "  'tags': [u'content', u'marketing', u'support']},\n",
       " {'city': 'Belgrade',\n",
       "  'date': '23/07/16',\n",
       "  'firm': u'Holycode ',\n",
       "  'position': u'Senior Frontend Developer',\n",
       "  'tags': [u'css3', u'frontend', u'html5', u'js']},\n",
       " {'city': 'Belgrade',\n",
       "  'date': '23/07/16',\n",
       "  'firm': u'Qube doo',\n",
       "  'position': u'Content & Support American/English',\n",
       "  'tags': [u'content', u'marketing', u'support']},\n",
       " {'city': 'Belgrade',\n",
       "  'date': '23/07/16',\n",
       "  'firm': u'Qube doo',\n",
       "  'position': u'Android Developer',\n",
       "  'tags': [u'android', u'mobile', u'qa']},\n",
       " {'city': 'Beograd/NoviSad',\n",
       "  'date': '23/07/16',\n",
       "  'firm': u'Ivy exec',\n",
       "  'position': u'Project Manager',\n",
       "  'tags': [u'management', u'project']},\n",
       " {'city': 'Belgrade',\n",
       "  'date': '23/07/16',\n",
       "  'firm': u'Holycode ',\n",
       "  'position': u'Senior Web Designer',\n",
       "  'tags': [u'dizajn', u'frontend']},\n",
       " {'city': 'Belgrade',\n",
       "  'date': '23/07/16',\n",
       "  'firm': u'Qube doo',\n",
       "  'position': u'CMS Web Developer',\n",
       "  'tags': [u'angularjs', u'cms', u'csharp', u'frontend']},\n",
       " {'city': 'Beograd',\n",
       "  'date': '23/07/16',\n",
       "  'firm': u'PEAK Sourcing',\n",
       "  'position': u'Senior Java Developer',\n",
       "  'tags': [u'java', u'rest']},\n",
       " {'city': 'Beograd',\n",
       "  'date': '23/07/16',\n",
       "  'firm': u'Eontek',\n",
       "  'position': u'Web Designer',\n",
       "  'tags': [u'css', u'design', u'dizajn', u'html']},\n",
       " {'city': 'Beograd',\n",
       "  'date': '23/07/16',\n",
       "  'firm': u'Cosmic Development',\n",
       "  'position': u'PHP Developer',\n",
       "  'tags': [u'laravel', u'mysql', u'php']},\n",
       " {'city': 'Remote/Prag',\n",
       "  'date': '23/07/16',\n",
       "  'firm': u'studio d76 s.r.o',\n",
       "  'position': u'C++/OpenGL Software Developer',\n",
       "  'tags': [u'cplusplus', u'opengl']},\n",
       " {'city': 'Belgrade',\n",
       "  'date': '23/07/16',\n",
       "  'firm': u'Qube doo',\n",
       "  'position': u'QA Tester',\n",
       "  'tags': [u'android', u'ios', u'mobile', u'qa']}]"
      ]
     },
     "execution_count": 85,
     "metadata": {},
     "output_type": "execute_result"
    }
   ],
   "source": [
    "from datetime import date\n",
    "\n",
    "def current_date_str():\n",
    "    d = date.today()\n",
    "    d = d.strftime(\"%d/%m/%y\")\n",
    "    return d\n",
    "\n",
    "def get_ad_list(ad_type):\n",
    "    standard_adds_list = []\n",
    "    i = 0\n",
    "    for ad in ad_type:\n",
    "        std_add_dict = {}\n",
    "        add = ad.find_all('a')\n",
    "        std_add_dict['date'] = current_date_str()\n",
    "        std_add_dict['position'] = get_position(add)\n",
    "        #print get_position(add)\n",
    "        std_add_dict['firm'] = get_firm(add)\n",
    "        #print get_firm(add)\n",
    "        std_add_dict['city'] = get_city(ad)\n",
    "        std_add_dict['tags'] = get_tags_list(add)\n",
    "        #print std_add_dict\n",
    "        standard_adds_list.append(std_add_dict)\n",
    "        #print standard_adds_list\n",
    "        #i = i+1\n",
    "        #print i\n",
    "    \n",
    "    return standard_adds_list\n",
    "\n",
    "k = get_ad_list(standard_adds)\n",
    "k"
   ]
  },
  {
   "cell_type": "code",
   "execution_count": 51,
   "metadata": {
    "collapsed": false
   },
   "outputs": [
    {
     "data": {
      "text/plain": [
       "[<a href=\"http://htec.rs/front-end-developer/\" target=\"_blank\">Front-End Developer</a>,\n",
       " <a href=\"http://startit.rs/poslovi/Beograd\">Beograd</a>,\n",
       " <a href=\"http://startit.rs/poslovi/angular\">angular</a>,\n",
       " <a href=\"http://startit.rs/poslovi/backbone\">backbone</a>,\n",
       " <a href=\"http://startit.rs/poslovi/frontend\">frontend</a>,\n",
       " <a href=\"http://startit.rs/poslovi/js\">js</a>]"
      ]
     },
     "execution_count": 51,
     "metadata": {},
     "output_type": "execute_result"
    }
   ],
   "source": [
    "mini_adds = soup.find_all(\"div\", class_=\"oglas-mini\")\n",
    "ad = mini_adds[0].find_all('a')\n",
    "ad"
   ]
  },
  {
   "cell_type": "code",
   "execution_count": 52,
   "metadata": {
    "collapsed": false
   },
   "outputs": [
    {
     "data": {
      "text/plain": [
       "'backbone frontend js '"
      ]
     },
     "execution_count": 52,
     "metadata": {},
     "output_type": "execute_result"
    }
   ],
   "source": [
    "def get_city_s(ad):\n",
    "    return ad[1].get_text()\n",
    "def get_position_s(ad):\n",
    "    return ad[0].get_text()\n",
    "def get_tags_s(ad):\n",
    "    tags = ad[2:]\n",
    "    tag_str = \"\"\n",
    "    for tag in tags:\n",
    "        tag_str = tag_str + str(tag.get_text())+\" \"\n",
    "    tag_str = tag_str.lower()\n",
    "    return tag_str\n",
    "tags = get_tags(ad)\n",
    "tags"
   ]
  },
  {
   "cell_type": "code",
   "execution_count": 53,
   "metadata": {
    "collapsed": false
   },
   "outputs": [
    {
     "data": {
      "text/plain": [
       "u'Beograd'"
      ]
     },
     "execution_count": 53,
     "metadata": {},
     "output_type": "execute_result"
    }
   ],
   "source": [
    "k = get_city_s(ad)\n",
    "k"
   ]
  },
  {
   "cell_type": "code",
   "execution_count": 54,
   "metadata": {
    "collapsed": false
   },
   "outputs": [
    {
     "data": {
      "text/plain": [
       "u'Front-End Developer'"
      ]
     },
     "execution_count": 54,
     "metadata": {},
     "output_type": "execute_result"
    }
   ],
   "source": [
    "get_position_s(ad)"
   ]
  },
  {
   "cell_type": "code",
   "execution_count": 55,
   "metadata": {
    "collapsed": false
   },
   "outputs": [
    {
     "data": {
      "text/plain": [
       "u'HTEC'"
      ]
     },
     "execution_count": 55,
     "metadata": {},
     "output_type": "execute_result"
    }
   ],
   "source": [
    "mini_adds = soup.find_all(\"div\", class_=\"oglas-mini\")\n",
    "#mini_adds[0].find('div',class_=\"oglas-mini-header\").get_text\n",
    "def get_firm_s(ad):\n",
    "    return ad.find('div',class_=\"oglas-mini-header\").get_text()\n",
    "get_firm_s(mini_adds[0])"
   ]
  },
  {
   "cell_type": "code",
   "execution_count": 56,
   "metadata": {
    "collapsed": false
   },
   "outputs": [],
   "source": [
    "def find_ads(css_class_name, soup):\n",
    "    return soup.find_all(\"div\", class_=\"css_class_name\")\n",
    "\n",
    "premium_ads = soup.find_all(\"div\", class_=\"listing-oglas-premium\")\n",
    "standard_ads = soup.find_all(\"div\", class_=\"listing-oglas-standard\")\n",
    "mini_ads = soup.find_all(\"div\", class_=\"oglas-mini\")"
   ]
  },
  {
   "cell_type": "code",
   "execution_count": 57,
   "metadata": {
    "collapsed": false
   },
   "outputs": [
    {
     "data": {
      "text/plain": [
       "'.'"
      ]
     },
     "execution_count": 57,
     "metadata": {},
     "output_type": "execute_result"
    }
   ],
   "source": [
    "import os\n",
    "os.curdir"
   ]
  },
  {
   "cell_type": "code",
   "execution_count": 58,
   "metadata": {
    "collapsed": true
   },
   "outputs": [],
   "source": [
    "f = open('fajl2.txt','w+')"
   ]
  },
  {
   "cell_type": "code",
   "execution_count": 59,
   "metadata": {
    "collapsed": true
   },
   "outputs": [],
   "source": [
    "f.write(\"cevap\")"
   ]
  },
  {
   "cell_type": "code",
   "execution_count": 69,
   "metadata": {
    "collapsed": false
   },
   "outputs": [],
   "source": [
    "#for p in premium_ads:\n",
    "#    print \"mrs\""
   ]
  },
  {
   "cell_type": "code",
   "execution_count": 61,
   "metadata": {
    "collapsed": false
   },
   "outputs": [
    {
     "data": {
      "text/plain": [
       "4"
      ]
     },
     "execution_count": 61,
     "metadata": {},
     "output_type": "execute_result"
    }
   ],
   "source": [
    "2+2"
   ]
  },
  {
   "cell_type": "code",
   "execution_count": 62,
   "metadata": {
    "collapsed": false
   },
   "outputs": [
    {
     "data": {
      "text/plain": [
       "<method 'ctime' of 'datetime.date' objects>"
      ]
     },
     "execution_count": 62,
     "metadata": {},
     "output_type": "execute_result"
    }
   ],
   "source": [
    "from datetime import date\n",
    "date.ctime"
   ]
  },
  {
   "cell_type": "code",
   "execution_count": 63,
   "metadata": {
    "collapsed": false
   },
   "outputs": [
    {
     "name": "stdout",
     "output_type": "stream",
     "text": [
      "2016-07-23\n"
     ]
    }
   ],
   "source": [
    "d = date.today()\n",
    "print d"
   ]
  },
  {
   "cell_type": "code",
   "execution_count": 64,
   "metadata": {
    "collapsed": false
   },
   "outputs": [
    {
     "data": {
      "text/plain": [
       "'23/07/16'"
      ]
     },
     "execution_count": 64,
     "metadata": {},
     "output_type": "execute_result"
    }
   ],
   "source": [
    "d.strftime(\"%d/%m/%y\")"
   ]
  },
  {
   "cell_type": "code",
   "execution_count": 65,
   "metadata": {
    "collapsed": false
   },
   "outputs": [],
   "source": [
    "from datetime import date\n",
    "\n",
    "def curent_date_str():\n",
    "    d = date.today()\n",
    "    d = d.strftime(\"%d/%m/%y\")\n",
    "    return d\n",
    "k = curent_date_str()"
   ]
  },
  {
   "cell_type": "code",
   "execution_count": 66,
   "metadata": {
    "collapsed": false
   },
   "outputs": [
    {
     "data": {
      "text/plain": [
       "'23/07/16'"
      ]
     },
     "execution_count": 66,
     "metadata": {},
     "output_type": "execute_result"
    }
   ],
   "source": [
    "k"
   ]
  },
  {
   "cell_type": "code",
   "execution_count": 67,
   "metadata": {
    "collapsed": false
   },
   "outputs": [],
   "source": [
    "f = open(\"fajl3.txt\",'w+')"
   ]
  },
  {
   "cell_type": "code",
   "execution_count": 68,
   "metadata": {
    "collapsed": false
   },
   "outputs": [
    {
     "name": "stdout",
     "output_type": "stream",
     "text": [
      "1\n",
      "1\n"
     ]
    },
    {
     "ename": "UnicodeEncodeError",
     "evalue": "'ascii' codec can't encode character u'\\xad' in position 23: ordinal not in range(128)",
     "output_type": "error",
     "traceback": [
      "\u001b[1;31m---------------------------------------------------------------------------\u001b[0m",
      "\u001b[1;31mUnicodeEncodeError\u001b[0m                        Traceback (most recent call last)",
      "\u001b[1;32m<ipython-input-68-418dd035cc23>\u001b[0m in \u001b[0;36m<module>\u001b[1;34m()\u001b[0m\n\u001b[0;32m      5\u001b[0m     \u001b[0mfirm_city\u001b[0m \u001b[1;33m=\u001b[0m \u001b[0mpo\u001b[0m\u001b[1;33m.\u001b[0m\u001b[0mfind_all\u001b[0m\u001b[1;33m(\u001b[0m\u001b[1;34m'div'\u001b[0m\u001b[1;33m,\u001b[0m\u001b[0mclass_\u001b[0m\u001b[1;33m=\u001b[0m\u001b[1;34m\"listing-ime-firme\"\u001b[0m\u001b[1;33m)\u001b[0m\u001b[1;33m\u001b[0m\u001b[0m\n\u001b[0;32m      6\u001b[0m     \u001b[1;32mprint\u001b[0m \u001b[1;34m\"1\"\u001b[0m\u001b[1;33m\u001b[0m\u001b[0m\n\u001b[1;32m----> 7\u001b[1;33m     \u001b[1;32mprint\u001b[0m \u001b[0mstr\u001b[0m\u001b[1;33m(\u001b[0m\u001b[0mget_position\u001b[0m\u001b[1;33m(\u001b[0m\u001b[0mk\u001b[0m\u001b[1;33m)\u001b[0m\u001b[1;33m)\u001b[0m\u001b[1;33m+\u001b[0m\u001b[1;34m\"1\"\u001b[0m\u001b[1;33m\u001b[0m\u001b[0m\n\u001b[0m\u001b[0;32m      8\u001b[0m     \u001b[0mf\u001b[0m\u001b[1;33m.\u001b[0m\u001b[0mwrite\u001b[0m\u001b[1;33m(\u001b[0m\u001b[0mget_position\u001b[0m\u001b[1;33m(\u001b[0m\u001b[0mk\u001b[0m\u001b[1;33m)\u001b[0m\u001b[1;33m)\u001b[0m\u001b[1;33m\u001b[0m\u001b[0m\n",
      "\u001b[1;31mUnicodeEncodeError\u001b[0m: 'ascii' codec can't encode character u'\\xad' in position 23: ordinal not in range(128)"
     ]
    }
   ],
   "source": [
    "\n",
    "print 1\n",
    "for pa in premium_ads:\n",
    "    k = pa.find_all('a')\n",
    "    firm_city = po.find_all('div',class_=\"listing-ime-firme\")\n",
    "    print \"1\"\n",
    "    print str(get_position(k))+\"1\"\n",
    "    f.write(get_position(k))"
   ]
  },
  {
   "cell_type": "code",
   "execution_count": null,
   "metadata": {
    "collapsed": false
   },
   "outputs": [],
   "source": [
    "2+2"
   ]
  },
  {
   "cell_type": "code",
   "execution_count": 258,
   "metadata": {
    "collapsed": true
   },
   "outputs": [],
   "source": [
    "for pa in premium_ads:\n",
    "    k = pa.find_all('a')\n",
    "    firm_city = po.find_all('div',class_=\"listing-ime-firme\")\n",
    "    print \"1\""
   ]
  },
  {
   "cell_type": "code",
   "execution_count": 86,
   "metadata": {
    "collapsed": true
   },
   "outputs": [],
   "source": [
    "### test\n",
    "premium_ads = soup.find_all(\"div\", class_=\"listing-oglas-premium\")\n",
    "standard_ads = soup.find_all(\"div\", class_=\"listing-oglas-standard\")\n",
    "mini_ads = soup.find_all(\"div\", class_=\"oglas-mini\")"
   ]
  },
  {
   "cell_type": "code",
   "execution_count": 134,
   "metadata": {
    "collapsed": false
   },
   "outputs": [
    {
     "name": "stdout",
     "output_type": "stream",
     "text": [
      "44\n",
      "12\n"
     ]
    }
   ],
   "source": [
    "def make_ad_list(ads):\n",
    "\n",
    "    ads_list = []\n",
    "    i = 0\n",
    "    for ad in ads:\n",
    "            ad_dict = {}\n",
    "            add = ad.find_all('a')\n",
    "            ad_dict['date'] = current_date_str()\n",
    "            #print get_position(add)\n",
    "            ad_dict['position'] = get_position(add)\n",
    "            ad_dict['firm'] = get_firm(add)\n",
    "            #print get_city(ad)\n",
    "            ad_dict['city'] = get_city(ad).encode('utf-8')\n",
    "            ad_dict['tags'] = get_tags_list(add)\n",
    "            #print unicode(ad_dict, 'utf-8')\n",
    "            #print unicode(ad_dict, 'utf-8').encode('utf-8')\n",
    "            ads_list.append(ad_dict)\n",
    "            #print standard_adds_list\n",
    "            #i = i+1\n",
    "            #print i\n",
    "    return ads_list\n",
    "\n",
    "print len(make_ad_list(premium_ads))\n",
    "print len(make_ad_list(standard_ads))"
   ]
  },
  {
   "cell_type": "code",
   "execution_count": 100,
   "metadata": {
    "collapsed": false
   },
   "outputs": [
    {
     "data": {
      "text/plain": [
       "'\\\\u0161'"
      ]
     },
     "execution_count": 100,
     "metadata": {},
     "output_type": "execute_result"
    }
   ],
   "source": [
    "'\\u0161'.encode('utf-8')"
   ]
  },
  {
   "cell_type": "code",
   "execution_count": 101,
   "metadata": {
    "collapsed": false
   },
   "outputs": [
    {
     "data": {
      "text/plain": [
       "'\\xe2\\x80\\x93'"
      ]
     },
     "execution_count": 101,
     "metadata": {},
     "output_type": "execute_result"
    }
   ],
   "source": [
    "u'\\u2013'.encode('utf8')\n"
   ]
  },
  {
   "cell_type": "code",
   "execution_count": 103,
   "metadata": {
    "collapsed": false
   },
   "outputs": [
    {
     "name": "stdout",
     "output_type": "stream",
     "text": [
      "š\n"
     ]
    }
   ],
   "source": [
    "print u'\\u0161'.encode('utf8')"
   ]
  },
  {
   "cell_type": "code",
   "execution_count": null,
   "metadata": {
    "collapsed": true
   },
   "outputs": [],
   "source": []
  }
 ],
 "metadata": {
  "kernelspec": {
   "display_name": "Python 2",
   "language": "python",
   "name": "python2"
  },
  "language_info": {
   "codemirror_mode": {
    "name": "ipython",
    "version": 2
   },
   "file_extension": ".py",
   "mimetype": "text/x-python",
   "name": "python",
   "nbconvert_exporter": "python",
   "pygments_lexer": "ipython2",
   "version": "2.7.12"
  }
 },
 "nbformat": 4,
 "nbformat_minor": 0
}
