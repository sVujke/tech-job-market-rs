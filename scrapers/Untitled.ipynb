{
 "cells": [
  {
   "cell_type": "code",
   "execution_count": 3,
   "metadata": {
    "collapsed": true
   },
   "outputs": [],
   "source": [
    "from bs4 import BeautifulSoup\n",
    "import requests, time\n",
    "import scrape_lib"
   ]
  },
  {
   "cell_type": "code",
   "execution_count": 4,
   "metadata": {
    "collapsed": true
   },
   "outputs": [],
   "source": [
    "url=\"http://startit.rs/poslovi/\"\n",
    "\n",
    "\n",
    "response = requests.get(url)\n",
    "\n",
    "result = response.content\n",
    "\n",
    "soup = BeautifulSoup(result, 'html.parser')"
   ]
  },
  {
   "cell_type": "code",
   "execution_count": 5,
   "metadata": {
    "collapsed": false
   },
   "outputs": [
    {
     "data": {
      "text/plain": [
       "<div class=\"listing-oglas-premium\">\n",
       "<a href=\"http://startit.rs/poslovi-oglasi/web-designer-tally-fox/\" target=\"_blank\"><img src=\"http://startit.rs/wp-content/uploads/tallyfox-premium.png\"/></a>\n",
       "<!--\n",
       "-->\n",
       "<!-- \t\t\t\t\t\t\t\t<div class=\"oglas-nov-premium\" title=\"Nov oglas\"></div>\t\t\t -->\n",
       "<div class=\"listing-oglas-premium-text\">\n",
       "<h1><a href=\"http://startit.rs/poslovi-oglasi/web-designer-tally-fox/\" target=\"_blank\">Web Designer</a></h1>\n",
       "<div class=\"listing-ime-firme\"><a href=\"https://www.tallyfox.com/\" target=\"_blank\">TallyFox</a></div><div class=\"listing-ime-firme\" style=\"color: #999; \">do 15/05 · Novi Sad</div><small><a href=\"http://startit.rs/poslovi/css\">css</a></small><small><a href=\"http://startit.rs/poslovi/dizajn-poslovi\">dizajn</a></small><small><a href=\"http://startit.rs/poslovi/frontend\">frontend</a></small><small><a href=\"http://startit.rs/poslovi/html\">html</a></small><small><a href=\"http://startit.rs/poslovi/js\">js</a></small> </div>\n",
       "</div>"
      ]
     },
     "execution_count": 5,
     "metadata": {},
     "output_type": "execute_result"
    }
   ],
   "source": [
    "premium_oglasi = soup.find_all(\"div\", class_=\"listing-oglas-premium\")\n",
    "po = premium_oglasi[0]\n",
    "po"
   ]
  },
  {
   "cell_type": "code",
   "execution_count": 6,
   "metadata": {
    "collapsed": false
   },
   "outputs": [
    {
     "data": {
      "text/plain": [
       "[<a href=\"http://startit.rs/poslovi-oglasi/web-designer-tally-fox/\" target=\"_blank\"><img src=\"http://startit.rs/wp-content/uploads/tallyfox-premium.png\"/></a>,\n",
       " <a href=\"http://startit.rs/poslovi-oglasi/web-designer-tally-fox/\" target=\"_blank\">Web Designer</a>,\n",
       " <a href=\"https://www.tallyfox.com/\" target=\"_blank\">TallyFox</a>,\n",
       " <a href=\"http://startit.rs/poslovi/css\">css</a>,\n",
       " <a href=\"http://startit.rs/poslovi/dizajn-poslovi\">dizajn</a>,\n",
       " <a href=\"http://startit.rs/poslovi/frontend\">frontend</a>,\n",
       " <a href=\"http://startit.rs/poslovi/html\">html</a>,\n",
       " <a href=\"http://startit.rs/poslovi/js\">js</a>]"
      ]
     },
     "execution_count": 6,
     "metadata": {},
     "output_type": "execute_result"
    }
   ],
   "source": [
    "po.find_all('a')"
   ]
  },
  {
   "cell_type": "code",
   "execution_count": 7,
   "metadata": {
    "collapsed": false
   },
   "outputs": [],
   "source": [
    "#def get_position(pa):\n",
    "#    return pa.h1.get_text()\n",
    "\n",
    "#position = get_position(po)\n",
    "#position"
   ]
  },
  {
   "cell_type": "code",
   "execution_count": 8,
   "metadata": {
    "collapsed": false
   },
   "outputs": [],
   "source": [
    "firm_city = po.find_all('div',class_=\"listing-ime-firme\")"
   ]
  },
  {
   "cell_type": "code",
   "execution_count": 9,
   "metadata": {
    "collapsed": false
   },
   "outputs": [
    {
     "data": {
      "text/plain": [
       "u'TallyFox'"
      ]
     },
     "execution_count": 9,
     "metadata": {},
     "output_type": "execute_result"
    }
   ],
   "source": [
    "def get_firm(po):\n",
    "    firm_city = po.find_all('div',class_=\"listing-ime-firme\")\n",
    "    return firm_city[0].get_text()\n",
    "firm = get_firm(po)\n",
    "firm"
   ]
  },
  {
   "cell_type": "code",
   "execution_count": 10,
   "metadata": {
    "collapsed": false
   },
   "outputs": [
    {
     "data": {
      "text/plain": [
       "'NoviSad'"
      ]
     },
     "execution_count": 10,
     "metadata": {},
     "output_type": "execute_result"
    }
   ],
   "source": [
    "def get_city(po):\n",
    "    firm_city = po.find_all('div',class_=\"listing-ime-firme\")\n",
    "    city = firm_city[1].get_text()\n",
    "    city = city.split(' ')[3:]\n",
    "    cities = \"\"\n",
    "    for c in city:\n",
    "        cities = cities+str(c)\n",
    "    return cities\n",
    "city = get_city(po)\n",
    "city"
   ]
  },
  {
   "cell_type": "code",
   "execution_count": 11,
   "metadata": {
    "collapsed": false
   },
   "outputs": [
    {
     "data": {
      "text/plain": [
       "'css dizajn frontend html js '"
      ]
     },
     "execution_count": 11,
     "metadata": {},
     "output_type": "execute_result"
    }
   ],
   "source": [
    "def get_tags(po):\n",
    "    tags = po.find_all('a')[3:]\n",
    "    tag_str = \"\"\n",
    "    for tag in tags:\n",
    "        tag_str = tag_str + str(tag.get_text())+\" \"\n",
    "    tag_str = tag_str.lower()\n",
    "    return tag_str\n",
    "tags = get_tags(po)\n",
    "tags"
   ]
  },
  {
   "cell_type": "code",
   "execution_count": 12,
   "metadata": {
    "collapsed": false
   },
   "outputs": [
    {
     "ename": "NameError",
     "evalue": "name 'get_position' is not defined",
     "output_type": "error",
     "traceback": [
      "\u001b[1;31m---------------------------------------------------------------------------\u001b[0m",
      "\u001b[1;31mNameError\u001b[0m                                 Traceback (most recent call last)",
      "\u001b[1;32m<ipython-input-12-bd1fde37d080>\u001b[0m in \u001b[0;36m<module>\u001b[1;34m()\u001b[0m\n\u001b[0;32m      2\u001b[0m \u001b[1;32mfor\u001b[0m \u001b[0mpa\u001b[0m \u001b[1;32min\u001b[0m \u001b[0mpremium_adds\u001b[0m\u001b[1;33m:\u001b[0m\u001b[1;33m\u001b[0m\u001b[0m\n\u001b[0;32m      3\u001b[0m     \u001b[0mfirm_city\u001b[0m \u001b[1;33m=\u001b[0m \u001b[0mpa\u001b[0m\u001b[1;33m.\u001b[0m\u001b[0mfind_all\u001b[0m\u001b[1;33m(\u001b[0m\u001b[1;34m'div'\u001b[0m\u001b[1;33m,\u001b[0m\u001b[0mclass_\u001b[0m\u001b[1;33m=\u001b[0m\u001b[1;34m\"listing-ime-firme\"\u001b[0m\u001b[1;33m)\u001b[0m\u001b[1;33m\u001b[0m\u001b[0m\n\u001b[1;32m----> 4\u001b[1;33m     \u001b[1;32mprint\u001b[0m \u001b[0mstr\u001b[0m\u001b[1;33m(\u001b[0m\u001b[0mpremium_adds\u001b[0m\u001b[1;33m.\u001b[0m\u001b[0mindex\u001b[0m\u001b[1;33m(\u001b[0m\u001b[0mpa\u001b[0m\u001b[1;33m)\u001b[0m\u001b[1;33m)\u001b[0m\u001b[1;33m+\u001b[0m\u001b[1;34m\" \"\u001b[0m\u001b[1;33m+\u001b[0m\u001b[0mget_position\u001b[0m\u001b[1;33m(\u001b[0m\u001b[0mpa\u001b[0m\u001b[1;33m)\u001b[0m\u001b[1;33m+\u001b[0m\u001b[1;34m\" \"\u001b[0m\u001b[1;33m+\u001b[0m\u001b[0mget_firm\u001b[0m\u001b[1;33m(\u001b[0m\u001b[0mfirm_city\u001b[0m\u001b[1;33m)\u001b[0m\u001b[1;33m+\u001b[0m\u001b[1;34m\" \"\u001b[0m\u001b[1;33m+\u001b[0m\u001b[0mget_city\u001b[0m\u001b[1;33m(\u001b[0m\u001b[0mfirm_city\u001b[0m\u001b[1;33m)\u001b[0m\u001b[1;33m+\u001b[0m\u001b[1;34m\" \"\u001b[0m\u001b[1;33m+\u001b[0m\u001b[0mget_tags\u001b[0m\u001b[1;33m(\u001b[0m\u001b[0mpa\u001b[0m\u001b[1;33m)\u001b[0m\u001b[1;33m+\u001b[0m\u001b[1;34m\"\\n\"\u001b[0m\u001b[1;33m\u001b[0m\u001b[0m\n\u001b[0m",
      "\u001b[1;31mNameError\u001b[0m: name 'get_position' is not defined"
     ]
    }
   ],
   "source": [
    "premium_adds = soup.find_all(\"div\", class_=\"listing-oglas-premium\")\n",
    "for pa in premium_adds:\n",
    "    firm_city = pa.find_all('div',class_=\"listing-ime-firme\")\n",
    "    print str(premium_adds.index(pa))+\" \"+get_position(pa)+\" \"+get_firm(firm_city)+\" \"+get_city(firm_city)+\" \"+get_tags(pa)+\"\\n\""
   ]
  },
  {
   "cell_type": "code",
   "execution_count": 13,
   "metadata": {
    "collapsed": false
   },
   "outputs": [
    {
     "data": {
      "text/plain": [
       "[<a href=\"http://startit.rs/poslovi-oglasi/web-designer-eontek/\" target=\"_blank\"><img src=\"http://startit.rs/wp-content/uploads/eontek_standard.png\"/></a>,\n",
       " <a href=\"http://startit.rs/poslovi-oglasi/web-designer-eontek/\" target=\"_blank\">Web Designer</a>,\n",
       " <a href=\"http://eontek.co\" target=\"_blank\">Eontek</a>,\n",
       " <a href=\"http://startit.rs/poslovi/css\">css</a>,\n",
       " <a href=\"http://startit.rs/poslovi/design\">design</a>,\n",
       " <a href=\"http://startit.rs/poslovi/dizajn-poslovi\">dizajn</a>,\n",
       " <a href=\"http://startit.rs/poslovi/html\">html</a>]"
      ]
     },
     "execution_count": 13,
     "metadata": {},
     "output_type": "execute_result"
    }
   ],
   "source": [
    "standard_adds = soup.find_all(\"div\", class_=\"listing-oglas-standard\")\n",
    "ad = standard_adds[0].find_all('a')\n",
    "ad"
   ]
  },
  {
   "cell_type": "code",
   "execution_count": null,
   "metadata": {
    "collapsed": false
   },
   "outputs": [],
   "source": [
    "firm_city = "
   ]
  },
  {
   "cell_type": "code",
   "execution_count": 14,
   "metadata": {
    "collapsed": false
   },
   "outputs": [
    {
     "data": {
      "text/plain": [
       "u'Web Designer'"
      ]
     },
     "execution_count": 14,
     "metadata": {},
     "output_type": "execute_result"
    }
   ],
   "source": [
    "def get_position(ad):\n",
    "    return ad[1].get_text()\n",
    "pos = get_position(ad)\n",
    "pos"
   ]
  },
  {
   "cell_type": "code",
   "execution_count": 15,
   "metadata": {
    "collapsed": false
   },
   "outputs": [
    {
     "data": {
      "text/plain": [
       "u'Eontek'"
      ]
     },
     "execution_count": 15,
     "metadata": {},
     "output_type": "execute_result"
    }
   ],
   "source": [
    "def get_firm(ad):\n",
    "    return ad[2].get_text()\n",
    "firm = get_firm(ad)\n",
    "firm"
   ]
  },
  {
   "cell_type": "code",
   "execution_count": 16,
   "metadata": {
    "collapsed": false
   },
   "outputs": [
    {
     "data": {
      "text/plain": [
       "'css design dizajn html '"
      ]
     },
     "execution_count": 16,
     "metadata": {},
     "output_type": "execute_result"
    }
   ],
   "source": [
    "def get_tags(ad):\n",
    "    tags = ad[3:]\n",
    "    tag_str = \"\"\n",
    "    for tag in tags:\n",
    "        tag_str = tag_str + str(tag.get_text())+\" \"\n",
    "    tag_str = tag_str.lower()\n",
    "    return tag_str\n",
    "tags = get_tags(ad)\n",
    "tags"
   ]
  },
  {
   "cell_type": "code",
   "execution_count": 17,
   "metadata": {
    "collapsed": false
   },
   "outputs": [
    {
     "data": {
      "text/plain": [
       "<div class=\"listing-oglas-standard\">\n",
       "<a href=\"http://startit.rs/poslovi-oglasi/web-designer-eontek/\" target=\"_blank\"><img src=\"http://startit.rs/wp-content/uploads/eontek_standard.png\"/></a>\n",
       "<!-- -->\n",
       "<div class=\"listing-oglas-standard-text\">\n",
       "<h1><a href=\"http://startit.rs/poslovi-oglasi/web-designer-eontek/\" target=\"_blank\">Web Designer</a></h1>\n",
       "<div class=\"listing-ime-firme\"><a href=\"http://eontek.co\" target=\"_blank\">Eontek</a></div><div class=\"listing-ime-firme\" style=\"color: #999; \">do 26/05 · Beograd</div><small><a href=\"http://startit.rs/poslovi/css\">css</a></small><small><a href=\"http://startit.rs/poslovi/design\">design</a></small><small><a href=\"http://startit.rs/poslovi/dizajn-poslovi\">dizajn</a></small><small><a href=\"http://startit.rs/poslovi/html\">html</a></small>\n",
       "</div>\n",
       "</div>"
      ]
     },
     "execution_count": 17,
     "metadata": {},
     "output_type": "execute_result"
    }
   ],
   "source": [
    "standard_adds[0]"
   ]
  },
  {
   "cell_type": "code",
   "execution_count": 18,
   "metadata": {
    "collapsed": false
   },
   "outputs": [
    {
     "data": {
      "text/plain": [
       "'Beograd'"
      ]
     },
     "execution_count": 18,
     "metadata": {},
     "output_type": "execute_result"
    }
   ],
   "source": [
    "get_city(standard_adds[0])"
   ]
  },
  {
   "cell_type": "code",
   "execution_count": 19,
   "metadata": {
    "collapsed": true
   },
   "outputs": [],
   "source": [
    "standard_adds_list = []\n"
   ]
  },
  {
   "cell_type": "code",
   "execution_count": 20,
   "metadata": {
    "collapsed": false
   },
   "outputs": [
    {
     "data": {
      "text/plain": [
       "[{'city': 'Beograd',\n",
       "  'firm': u'Eontek',\n",
       "  'position': u'Web Designer',\n",
       "  'tags': 'css design dizajn html '},\n",
       " {'city': 'Beograd',\n",
       "  'firm': u'New Frontier Innova',\n",
       "  'position': u'.NET Developer',\n",
       "  'tags': '.net csharp '},\n",
       " {'city': 'Beograd',\n",
       "  'firm': u'IMRepublic Inc',\n",
       "  'position': u'Web Developer',\n",
       "  'tags': 'js mysql php restful '},\n",
       " {'city': 'NoviSad/Beograd',\n",
       "  'firm': u'QA Cube',\n",
       "  'position': u'Senior Frontend Developer',\n",
       "  'tags': 'angularjs compass css3 frontend html5 js reactjs sass '},\n",
       " {'city': 'Beograd',\n",
       "  'firm': u'Codebehind doo',\n",
       "  'position': u'Junior Web Developer',\n",
       "  'tags': 'css html javascript js nodejs '},\n",
       " {'city': 'Beograd',\n",
       "  'firm': u'Cosmic Development',\n",
       "  'position': u'PHP Developer',\n",
       "  'tags': 'laravel mysql php '},\n",
       " {'city': 'NoviSad',\n",
       "  'firm': u'A51',\n",
       "  'position': u'Senior JavaScript Developer',\n",
       "  'tags': 'angular frontend js json senior socket io sr '},\n",
       " {'city': 'Beograd',\n",
       "  'firm': u'TeleTrader',\n",
       "  'position': u'Software Developer .NET / C#',\n",
       "  'tags': '.net csharp oop sql '},\n",
       " {'city': 'Beograd/NoviSad',\n",
       "  'firm': u'Ivy Exec',\n",
       "  'position': u'Senior PHP Software Developer',\n",
       "  'tags': 'javascript js mvc mysql php symphony zend '}]"
      ]
     },
     "execution_count": 20,
     "metadata": {},
     "output_type": "execute_result"
    }
   ],
   "source": [
    "def get_ad_list(ad_type):\n",
    "    i = 0\n",
    "    for ad in standard_adds:\n",
    "        std_add_dict = {}\n",
    "        add = ad.find_all('a')\n",
    "        std_add_dict['position'] = get_position(add)\n",
    "        #print get_position(add)\n",
    "        std_add_dict['firm'] = get_firm(add)\n",
    "        #print get_firm(add)\n",
    "        std_add_dict['city'] = get_city(ad)\n",
    "        std_add_dict['tags'] = get_tags(add)\n",
    "        #print std_add_dict\n",
    "        standard_adds_list.append(std_add_dict)\n",
    "        #print standard_adds_list\n",
    "        #i = i+1\n",
    "        #print i\n",
    "    \n",
    "    return standard_adds_list\n",
    "\n",
    "k = get_ad_list(standard_adds)\n",
    "k"
   ]
  },
  {
   "cell_type": "code",
   "execution_count": 21,
   "metadata": {
    "collapsed": false
   },
   "outputs": [
    {
     "data": {
      "text/plain": [
       "[<a href=\"http://www.bms.co.rs/index.php?option=com_aicontactsafe&amp;view=message&amp;layout=message&amp;pf=1&amp;Itemid=95\" target=\"_blank\">Hardware Designer</a>,\n",
       " <a href=\"http://startit.rs/poslovi/Beograd\">Beograd</a>,\n",
       " <a href=\"http://startit.rs/poslovi/dizajn-poslovi\">dizajn</a>]"
      ]
     },
     "execution_count": 21,
     "metadata": {},
     "output_type": "execute_result"
    }
   ],
   "source": [
    "mini_adds = soup.find_all(\"div\", class_=\"oglas-mini\")\n",
    "ad = mini_adds[0].find_all('a')\n",
    "ad"
   ]
  },
  {
   "cell_type": "code",
   "execution_count": 22,
   "metadata": {
    "collapsed": false
   },
   "outputs": [
    {
     "data": {
      "text/plain": [
       "''"
      ]
     },
     "execution_count": 22,
     "metadata": {},
     "output_type": "execute_result"
    }
   ],
   "source": [
    "def get_city_s(ad):\n",
    "    return ad[1].get_text()\n",
    "def get_position_s(ad):\n",
    "    return ad[0].get_text()\n",
    "def get_tags_s(ad):\n",
    "    tags = ad[2:]\n",
    "    tag_str = \"\"\n",
    "    for tag in tags:\n",
    "        tag_str = tag_str + str(tag.get_text())+\" \"\n",
    "    tag_str = tag_str.lower()\n",
    "    return tag_str\n",
    "tags = get_tags(ad)\n",
    "tags"
   ]
  },
  {
   "cell_type": "code",
   "execution_count": 23,
   "metadata": {
    "collapsed": false
   },
   "outputs": [
    {
     "data": {
      "text/plain": [
       "u'Beograd'"
      ]
     },
     "execution_count": 23,
     "metadata": {},
     "output_type": "execute_result"
    }
   ],
   "source": [
    "k = get_city_s(ad)\n",
    "k"
   ]
  },
  {
   "cell_type": "code",
   "execution_count": 24,
   "metadata": {
    "collapsed": false
   },
   "outputs": [
    {
     "data": {
      "text/plain": [
       "u'Hardware Designer'"
      ]
     },
     "execution_count": 24,
     "metadata": {},
     "output_type": "execute_result"
    }
   ],
   "source": [
    "get_position_s(ad)"
   ]
  },
  {
   "cell_type": "code",
   "execution_count": 25,
   "metadata": {
    "collapsed": false
   },
   "outputs": [
    {
     "data": {
      "text/plain": [
       "u'BMS'"
      ]
     },
     "execution_count": 25,
     "metadata": {},
     "output_type": "execute_result"
    }
   ],
   "source": [
    "mini_adds = soup.find_all(\"div\", class_=\"oglas-mini\")\n",
    "#mini_adds[0].find('div',class_=\"oglas-mini-header\").get_text\n",
    "def get_firm_s(ad):\n",
    "    return ad.find('div',class_=\"oglas-mini-header\").get_text()\n",
    "get_firm_s(mini_adds[0])"
   ]
  },
  {
   "cell_type": "code",
   "execution_count": 26,
   "metadata": {
    "collapsed": false
   },
   "outputs": [],
   "source": [
    "def find_ads(css_class_name, soup):\n",
    "    return soup.find_all(\"div\", class_=\"css_class_name\")\n",
    "\n",
    "premium_ads = soup.find_all(\"div\", class_=\"listing-oglas-premium\")\n",
    "standard_ads = soup.find_all(\"div\", class_=\"listing-oglas-standard\")\n",
    "mini_ads = soup.find_all(\"div\", class_=\"oglas-mini\")"
   ]
  },
  {
   "cell_type": "code",
   "execution_count": 27,
   "metadata": {
    "collapsed": false
   },
   "outputs": [
    {
     "name": "stdout",
     "output_type": "stream",
     "text": [
      "Web Designer\n",
      "Engineer — Intern\n",
      "Mid-Level Ruby on Rails Developer\n",
      "Core Platform Engineer\n",
      "Ruby Engineer\n",
      "Senior Software (Java) Developer\n",
      "Technical Lead .NET f/m\n",
      "Java Developer\n",
      "Senior Active Directory Systems Engineer\n",
      "Frontend Engineer  (HTML/CSS/JS) f/m\n",
      "Datacenter Automation Developer\n",
      "Art Director Online (f/m)\n",
      "Desktop Support Technician\n",
      "Software Engineer Java Senior f/m\n",
      "Python Developer\n",
      "SEO / Organic Search Specialist\n",
      "Data Visualization Engineer\n",
      "Senior Front End Developer\n",
      "Backend Web Developer\n",
      "iOS Software Developer\n",
      "Senior iOS Programer\n",
      "QA Engineer\n",
      "Bioinformatics Engineer\n",
      "Android Engineer\n",
      "R&D Software Engineer\n",
      "Mid-Level Javascript Developer\n",
      "Software Engineer Java ­ Mid-level f/m\n",
      "JavaScript Engineer\n",
      "Frontend Developer\n",
      "IT Technical Writer\n",
      "Web Designer/Developer\n",
      "Senior Web Application Developer\n",
      "Senior PHP Developer\n",
      "Customer Support Specialist\n",
      "Senior C++ Software Developer\n",
      "Software Engineer .NET ­ Senior  f/m\n",
      "Senior Software Architect\n"
     ]
    }
   ],
   "source": [
    "for p in premium_ads:\n",
    "    ad = p.find_all('a')\n",
    "    print get_position(ad)"
   ]
  },
  {
   "cell_type": "code",
   "execution_count": 28,
   "metadata": {
    "collapsed": false
   },
   "outputs": [
    {
     "data": {
      "text/plain": [
       "'.'"
      ]
     },
     "execution_count": 28,
     "metadata": {},
     "output_type": "execute_result"
    }
   ],
   "source": [
    "import os\n",
    "os.curdir"
   ]
  },
  {
   "cell_type": "code",
   "execution_count": 29,
   "metadata": {
    "collapsed": true
   },
   "outputs": [],
   "source": [
    "f = open('fajl.txt','w')"
   ]
  },
  {
   "cell_type": "code",
   "execution_count": 30,
   "metadata": {
    "collapsed": true
   },
   "outputs": [],
   "source": [
    "f.write(\"cevap\")"
   ]
  },
  {
   "cell_type": "code",
   "execution_count": 31,
   "metadata": {
    "collapsed": false
   },
   "outputs": [
    {
     "data": {
      "text/plain": [
       "<open file 'fajl.txt', mode 'w' at 0x00000000068F9300>"
      ]
     },
     "execution_count": 31,
     "metadata": {},
     "output_type": "execute_result"
    }
   ],
   "source": [
    "f"
   ]
  },
  {
   "cell_type": "code",
   "execution_count": null,
   "metadata": {
    "collapsed": true
   },
   "outputs": [],
   "source": [
    "2+2"
   ]
  },
  {
   "cell_type": "code",
   "execution_count": 41,
   "metadata": {
    "collapsed": false
   },
   "outputs": [
    {
     "data": {
      "text/plain": [
       "<method 'ctime' of 'datetime.date' objects>"
      ]
     },
     "execution_count": 41,
     "metadata": {},
     "output_type": "execute_result"
    }
   ],
   "source": [
    "from datetime import date\n",
    "date.ctime"
   ]
  },
  {
   "cell_type": "code",
   "execution_count": 43,
   "metadata": {
    "collapsed": false
   },
   "outputs": [
    {
     "name": "stdout",
     "output_type": "stream",
     "text": [
      "2016-05-09\n"
     ]
    }
   ],
   "source": [
    "d = date.today()\n",
    "print d"
   ]
  },
  {
   "cell_type": "code",
   "execution_count": 44,
   "metadata": {
    "collapsed": false
   },
   "outputs": [
    {
     "data": {
      "text/plain": [
       "'09/05/16'"
      ]
     },
     "execution_count": 44,
     "metadata": {},
     "output_type": "execute_result"
    }
   ],
   "source": [
    "d.strftime(\"%d/%m/%y\")"
   ]
  },
  {
   "cell_type": "code",
   "execution_count": 46,
   "metadata": {
    "collapsed": false
   },
   "outputs": [],
   "source": [
    "from datetime import date\n",
    "\n",
    "def curent_date_str():\n",
    "    d = date.today()\n",
    "    d = d.strftime(\"%d/%m/%y\")\n",
    "    return d\n",
    "k = curent_date_str()"
   ]
  },
  {
   "cell_type": "code",
   "execution_count": 47,
   "metadata": {
    "collapsed": false
   },
   "outputs": [
    {
     "data": {
      "text/plain": [
       "'09/05/16'"
      ]
     },
     "execution_count": 47,
     "metadata": {},
     "output_type": "execute_result"
    }
   ],
   "source": [
    "k"
   ]
  },
  {
   "cell_type": "code",
   "execution_count": null,
   "metadata": {
    "collapsed": true
   },
   "outputs": [],
   "source": []
  }
 ],
 "metadata": {
  "kernelspec": {
   "display_name": "Python 2",
   "language": "python",
   "name": "python2"
  },
  "language_info": {
   "codemirror_mode": {
    "name": "ipython",
    "version": 2
   },
   "file_extension": ".py",
   "mimetype": "text/x-python",
   "name": "python",
   "nbconvert_exporter": "python",
   "pygments_lexer": "ipython2",
   "version": "2.7.11"
  }
 },
 "nbformat": 4,
 "nbformat_minor": 0
}
