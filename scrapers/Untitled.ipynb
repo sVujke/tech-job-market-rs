{
 "cells": [
  {
   "cell_type": "code",
   "execution_count": 1,
   "metadata": {
    "collapsed": true
   },
   "outputs": [],
   "source": [
    "from bs4 import BeautifulSoup\n",
    "import requests, time\n",
    "import scrape_lib"
   ]
  },
  {
   "cell_type": "code",
   "execution_count": 2,
   "metadata": {
    "collapsed": true
   },
   "outputs": [],
   "source": [
    "url=\"http://startit.rs/poslovi/\"\n",
    "\n",
    "\n",
    "response = requests.get(url)\n",
    "\n",
    "result = response.content\n",
    "\n",
    "soup = BeautifulSoup(result, 'html.parser')"
   ]
  },
  {
   "cell_type": "code",
   "execution_count": 164,
   "metadata": {
    "collapsed": false
   },
   "outputs": [
    {
     "data": {
      "text/plain": [
       "<div class=\"listing-oglas-premium\">\n",
       "<a href=\"http://startit.rs/poslovi-oglasi/ruby-engineer-supplyframe/\" target=\"_blank\"><img src=\"http://startit.rs/wp-content/uploads/supplyframe2.jpg\"/></a>\n",
       "<!--\n",
       "-->\n",
       "<!-- -->\n",
       "<div class=\"listing-oglas-premium-text\">\n",
       "<h1><a href=\"http://startit.rs/poslovi-oglasi/ruby-engineer-supplyframe/\" target=\"_blank\">Ruby Engineer</a></h1>\n",
       "<div class=\"listing-ime-firme\"><a href=\"http://supplyframe.com/\" target=\"_blank\">SupplyFrame</a></div><div class=\"listing-ime-firme\" style=\"color: #999; \">do 05/06 · Beograd</div><small><a href=\"http://startit.rs/poslovi/padrino\">Padrino</a></small><small><a href=\"http://startit.rs/poslovi/ruby\">ruby</a></small><small><a href=\"http://startit.rs/poslovi/rubyonrails\">RubyOnRails</a></small><small><a href=\"http://startit.rs/poslovi/sinatra\">Sinatra</a></small> </div>\n",
       "</div>"
      ]
     },
     "execution_count": 164,
     "metadata": {},
     "output_type": "execute_result"
    }
   ],
   "source": [
    "premium_oglasi = soup.find_all(\"div\", class_=\"listing-oglas-premium\")\n",
    "po = premium_oglasi[0]\n",
    "po"
   ]
  },
  {
   "cell_type": "code",
   "execution_count": 165,
   "metadata": {
    "collapsed": false
   },
   "outputs": [
    {
     "data": {
      "text/plain": [
       "[<a href=\"http://startit.rs/poslovi-oglasi/ruby-engineer-supplyframe/\" target=\"_blank\"><img src=\"http://startit.rs/wp-content/uploads/supplyframe2.jpg\"/></a>,\n",
       " <a href=\"http://startit.rs/poslovi-oglasi/ruby-engineer-supplyframe/\" target=\"_blank\">Ruby Engineer</a>,\n",
       " <a href=\"http://supplyframe.com/\" target=\"_blank\">SupplyFrame</a>,\n",
       " <a href=\"http://startit.rs/poslovi/padrino\">Padrino</a>,\n",
       " <a href=\"http://startit.rs/poslovi/ruby\">ruby</a>,\n",
       " <a href=\"http://startit.rs/poslovi/rubyonrails\">RubyOnRails</a>,\n",
       " <a href=\"http://startit.rs/poslovi/sinatra\">Sinatra</a>]"
      ]
     },
     "execution_count": 165,
     "metadata": {},
     "output_type": "execute_result"
    }
   ],
   "source": [
    "po.find_all('a')"
   ]
  },
  {
   "cell_type": "code",
   "execution_count": 166,
   "metadata": {
    "collapsed": false
   },
   "outputs": [
    {
     "data": {
      "text/plain": [
       "u'Ruby Engineer'"
      ]
     },
     "execution_count": 166,
     "metadata": {},
     "output_type": "execute_result"
    }
   ],
   "source": [
    "def get_position(pa):\n",
    "    return pa.h1.get_text()\n",
    "\n",
    "position = get_position(po)\n",
    "position"
   ]
  },
  {
   "cell_type": "code",
   "execution_count": 167,
   "metadata": {
    "collapsed": false
   },
   "outputs": [],
   "source": [
    "firm_city = po.find_all('div',class_=\"listing-ime-firme\")"
   ]
  },
  {
   "cell_type": "code",
   "execution_count": 170,
   "metadata": {
    "collapsed": false
   },
   "outputs": [
    {
     "data": {
      "text/plain": [
       "u'SupplyFrame'"
      ]
     },
     "execution_count": 170,
     "metadata": {},
     "output_type": "execute_result"
    }
   ],
   "source": [
    "def get_firm(po):\n",
    "    firm_city = po.find_all('div',class_=\"listing-ime-firme\")\n",
    "    return firm_city[0].get_text()\n",
    "firm = get_firm(po)\n",
    "firm"
   ]
  },
  {
   "cell_type": "code",
   "execution_count": 169,
   "metadata": {
    "collapsed": false
   },
   "outputs": [
    {
     "data": {
      "text/plain": [
       "'Beograd'"
      ]
     },
     "execution_count": 169,
     "metadata": {},
     "output_type": "execute_result"
    }
   ],
   "source": [
    "def get_city(po):\n",
    "    firm_city = po.find_all('div',class_=\"listing-ime-firme\")\n",
    "    city = firm_city[1].get_text()\n",
    "    city = city.split(' ')[3:]\n",
    "    cities = \"\"\n",
    "    for c in city:\n",
    "        cities = cities+str(c)\n",
    "    return cities\n",
    "city = get_city(po)\n",
    "city"
   ]
  },
  {
   "cell_type": "code",
   "execution_count": 171,
   "metadata": {
    "collapsed": false
   },
   "outputs": [
    {
     "data": {
      "text/plain": [
       "'padrino ruby rubyonrails sinatra '"
      ]
     },
     "execution_count": 171,
     "metadata": {},
     "output_type": "execute_result"
    }
   ],
   "source": [
    "def get_tags(po):\n",
    "    tags = po.find_all('a')[3:]\n",
    "    tag_str = \"\"\n",
    "    for tag in tags:\n",
    "        tag_str = tag_str + str(tag.get_text())+\" \"\n",
    "    tag_str = tag_str.lower()\n",
    "    return tag_str\n",
    "tags = get_tags(po)\n",
    "tags"
   ]
  },
  {
   "cell_type": "code",
   "execution_count": 61,
   "metadata": {
    "collapsed": false
   },
   "outputs": [
    {
     "name": "stdout",
     "output_type": "stream",
     "text": [
      "0 Ruby Engineer SupplyFrame Beograd Padrino ruby RubyOnRails Sinatra \n",
      "\n",
      "1 Customer Support Specialist CCBill Beograd linux support \n",
      "\n",
      "2 JavaScript Engineer Seven Bridges  Beograd angular backbone canvas frontend js marionette node sass \n",
      "\n",
      "3 Frontend Engineer  (HTML/CSS/JS) f/m Namics Beograd css frontend html js \n",
      "\n",
      "4 Backend Web Developer Spoiled Milk Beograd backend js php symfony \n",
      "\n",
      "5 Software Engineer Java Senior f/m Namics Beograd aem j2ee java spring \n",
      "\n",
      "6 Java Developer Eyefreight Beograd git hibernate java scrum spring \n",
      "\n",
      "7 Senior Front End Developer Humanity Inc. Beograd angular frontend js optimization saas senior \n",
      "\n",
      "8 Data Visualization Engineer Seven Bridges  Beograd javascript js visualization \n",
      "\n",
      "9 Senior Software Architect CCBill NoviSad html java js mysql oop spring uml \n",
      "\n",
      "10 Android Engineer Endava Beograd android cplusplus java mobile \n",
      "\n",
      "11 Software Engineer Java ­ Mid-level f/m Namics Beograd aem java spring \n",
      "\n",
      "12 IT Technical Writer CCBill NoviSad/Beograd journalism writer \n",
      "\n",
      "13 QA Engineer Seven Bridges  Beograd python qa testing \n",
      "\n",
      "14 Integration Specialist Centili Beograd frontend http integration sql \n",
      "\n",
      "15 Web Designer/Developer Seven Bridges  Beograd css design dizajn html \n",
      "\n",
      "16 JavaScript Developer Vast Beograd frontend js \n",
      "\n",
      "17 Desktop Support Technician CCBill Beograd administration installation support technician test \n",
      "\n",
      "18 Datacenter Automation Developer CCBill Beograd,NoviSad java mysql php sql \n",
      "\n",
      "19 Python Developer Seven Bridges  Beograd django python \n",
      "\n",
      "20 Senior iOS Programer MERA Beograd ios mobile senior \n",
      "\n",
      "21 Mid-Level Javascript Developer Toschas Beograd AngularJS frontend js nodejs \n",
      "\n",
      "22 Senior Software (Java) Developer CCBill NoviSad/Beograd html java jquery js \n",
      "\n",
      "23 Java Software Engineer Centili Beograd backend java JavaEE \n",
      "\n",
      "24 Mid-Level Ruby on Rails Developer Toschas Beograd rest ruby Ruby on Rails \n",
      "\n",
      "25 Senior Web Application Developer CCBill NoviSad/Beograd AngularJS css3 frontend html5 javascript jquery js scrum \n",
      "\n",
      "26 Art Director Online (f/m) Namics Beograd css dizajn html js \n",
      "\n",
      "27 Senior C++ Software Developer Endava Beograd boost c++ cplusplus senior \n",
      "\n",
      "28 Software Engineer .NET ­ Senior  f/m Namics Beograd .net senior Sitecore \n",
      "\n",
      "29 SEO / Organic Search Specialist DMO Investments Beograd marketing SEO \n",
      "\n",
      "30 Senior PHP Developer esome advertising technologies d.o.o. Beograd AngularJS js nodejs php senior \n",
      "\n",
      "31 Bioinformatics Engineer Seven Bridges Genomics Beograd analysis bioinformatika python \n",
      "\n",
      "32 Engineer — Intern Endava Beograd android cplusplus csharp ios java mobile \n",
      "\n",
      "33 Senior Active Directory Systems Engineer CCBill NoviSad/Beograd infrastructure Powershell security senior \n",
      "\n",
      "34 iOS Software Developer Endava Beograd ios mobile objective-c \n",
      "\n",
      "35 R&D Software Engineer Seven Bridges  Beograd c++ cplusplus \n",
      "\n",
      "36 Technical Lead .NET f/m Namics Beograd .net lead senior Sitecore \n",
      "\n",
      "37 Core Platform Engineer Seven Bridges Beograd AWS java linux python \n",
      "\n"
     ]
    }
   ],
   "source": [
    "premium_adds = soup.find_all(\"div\", class_=\"listing-oglas-premium\")\n",
    "for pa in premium_adds:\n",
    "    firm_city = pa.find_all('div',class_=\"listing-ime-firme\")\n",
    "    print str(premium_adds.index(pa))+\" \"+get_position(pa)+\" \"+get_firm(firm_city)+\" \"+get_city(firm_city)+\" \"+get_tags(pa)+\"\\n\""
   ]
  },
  {
   "cell_type": "code",
   "execution_count": 88,
   "metadata": {
    "collapsed": false
   },
   "outputs": [
    {
     "data": {
      "text/plain": [
       "[<a href=\"http://startit.rs/poslovi-oglasi/junior-web-developer-codebehind/\" target=\"_blank\"><img src=\"http://startit.rs/wp-content/uploads/codebehind-standard.png\"/></a>,\n",
       " <a href=\"http://startit.rs/poslovi-oglasi/junior-web-developer-codebehind/\" target=\"_blank\">Junior Web Developer</a>,\n",
       " <a href=\"http://codebehind.rs/\" target=\"_blank\">Codebehind doo</a>,\n",
       " <a href=\"http://startit.rs/poslovi/css\">css</a>,\n",
       " <a href=\"http://startit.rs/poslovi/html\">html</a>,\n",
       " <a href=\"http://startit.rs/poslovi/javascript\">javascript</a>,\n",
       " <a href=\"http://startit.rs/poslovi/js\">js</a>,\n",
       " <a href=\"http://startit.rs/poslovi/nodejs\">nodejs</a>]"
      ]
     },
     "execution_count": 88,
     "metadata": {},
     "output_type": "execute_result"
    }
   ],
   "source": [
    "standard_adds = soup.find_all(\"div\", class_=\"listing-oglas-standard\")\n",
    "ad = standard_adds[0].find_all('a')\n",
    "ad"
   ]
  },
  {
   "cell_type": "code",
   "execution_count": 80,
   "metadata": {
    "collapsed": false
   },
   "outputs": [
    {
     "data": {
      "text/plain": [
       "u'do 18/05 \\xb7 Beograd'"
      ]
     },
     "execution_count": 80,
     "metadata": {},
     "output_type": "execute_result"
    }
   ],
   "source": [
    "firm_city = "
   ]
  },
  {
   "cell_type": "code",
   "execution_count": 89,
   "metadata": {
    "collapsed": false
   },
   "outputs": [
    {
     "data": {
      "text/plain": [
       "u'Junior Web Developer'"
      ]
     },
     "execution_count": 89,
     "metadata": {},
     "output_type": "execute_result"
    }
   ],
   "source": [
    "def get_position(ad):\n",
    "    return ad[1].get_text()\n",
    "pos = get_position(ad)\n",
    "pos"
   ]
  },
  {
   "cell_type": "code",
   "execution_count": 90,
   "metadata": {
    "collapsed": false
   },
   "outputs": [
    {
     "data": {
      "text/plain": [
       "u'Codebehind doo'"
      ]
     },
     "execution_count": 90,
     "metadata": {},
     "output_type": "execute_result"
    }
   ],
   "source": [
    "def get_firm(ad):\n",
    "    return ad[2].get_text()\n",
    "firm = get_firm(ad)\n",
    "firm"
   ]
  },
  {
   "cell_type": "code",
   "execution_count": 91,
   "metadata": {
    "collapsed": false
   },
   "outputs": [
    {
     "data": {
      "text/plain": [
       "'css html javascript js nodejs '"
      ]
     },
     "execution_count": 91,
     "metadata": {},
     "output_type": "execute_result"
    }
   ],
   "source": [
    "def get_tags(ad):\n",
    "    tags = ad[3:]\n",
    "    tag_str = \"\"\n",
    "    for tag in tags:\n",
    "        tag_str = tag_str + str(tag.get_text())+\" \"\n",
    "    tag_str = tag_str.lower()\n",
    "    return tag_str\n",
    "tags = get_tags(ad)\n",
    "tags"
   ]
  },
  {
   "cell_type": "code",
   "execution_count": 93,
   "metadata": {
    "collapsed": false
   },
   "outputs": [
    {
     "data": {
      "text/plain": [
       "<div class=\"listing-oglas-standard\">\n",
       "<a href=\"http://startit.rs/poslovi-oglasi/junior-web-developer-codebehind/\" target=\"_blank\"><img src=\"http://startit.rs/wp-content/uploads/codebehind-standard.png\"/></a>\n",
       "<!-- -->\n",
       "<div class=\"listing-oglas-standard-text\">\n",
       "<h1><a href=\"http://startit.rs/poslovi-oglasi/junior-web-developer-codebehind/\" target=\"_blank\">Junior Web Developer</a></h1>\n",
       "<div class=\"listing-ime-firme\"><a href=\"http://codebehind.rs/\" target=\"_blank\">Codebehind doo</a></div><div class=\"listing-ime-firme\" style=\"color: #999; \">do 18/05 · Beograd</div><small><a href=\"http://startit.rs/poslovi/css\">css</a></small><small><a href=\"http://startit.rs/poslovi/html\">html</a></small><small><a href=\"http://startit.rs/poslovi/javascript\">javascript</a></small><small><a href=\"http://startit.rs/poslovi/js\">js</a></small><small><a href=\"http://startit.rs/poslovi/nodejs\">nodejs</a></small>\n",
       "</div>\n",
       "</div>"
      ]
     },
     "execution_count": 93,
     "metadata": {},
     "output_type": "execute_result"
    }
   ],
   "source": [
    "standard_adds[0]"
   ]
  },
  {
   "cell_type": "code",
   "execution_count": 94,
   "metadata": {
    "collapsed": false
   },
   "outputs": [
    {
     "data": {
      "text/plain": [
       "'Beograd'"
      ]
     },
     "execution_count": 94,
     "metadata": {},
     "output_type": "execute_result"
    }
   ],
   "source": [
    "get_city(standard_adds[0])"
   ]
  },
  {
   "cell_type": "code",
   "execution_count": 118,
   "metadata": {
    "collapsed": true
   },
   "outputs": [],
   "source": [
    "standard_adds_list = []\n"
   ]
  },
  {
   "cell_type": "code",
   "execution_count": 122,
   "metadata": {
    "collapsed": false
   },
   "outputs": [
    {
     "data": {
      "text/plain": [
       "[{'city': 'Beograd',\n",
       "  'firm': u'Codebehind doo',\n",
       "  'position': u'Junior Web Developer',\n",
       "  'tags': 'css html javascript js nodejs '},\n",
       " {'city': 'Beograd',\n",
       "  'firm': u'Eontek',\n",
       "  'position': u'Web Designer',\n",
       "  'tags': 'css design dizajn html '},\n",
       " {'city': 'NoviSad/Beograd',\n",
       "  'firm': u'QA Cube',\n",
       "  'position': u'Senior Frontend Developer',\n",
       "  'tags': 'angularjs compass css3 frontend html5 js reactjs sass '},\n",
       " {'city': 'Beograd',\n",
       "  'firm': u'TeleTrader',\n",
       "  'position': u'Software Developer .NET / C#',\n",
       "  'tags': '.net csharp oop sql '},\n",
       " {'city': 'Beograd',\n",
       "  'firm': u'IMRepublic Inc',\n",
       "  'position': u'Web Developer',\n",
       "  'tags': 'js mysql php restful '},\n",
       " {'city': 'NoviSad',\n",
       "  'firm': u'A51',\n",
       "  'position': u'Senior JavaScript Developer',\n",
       "  'tags': 'angular frontend js json senior socket io sr '},\n",
       " {'city': 'Beograd',\n",
       "  'firm': u'Presta',\n",
       "  'position': u'.NET Developer',\n",
       "  'tags': '.net csharp '},\n",
       " {'city': 'Beograd',\n",
       "  'firm': u'New Frontier Innova',\n",
       "  'position': u'.NET Developer',\n",
       "  'tags': '.net csharp '},\n",
       " {'city': 'Beograd/NoviSad',\n",
       "  'firm': u'Ivy Exec',\n",
       "  'position': u'Senior PHP Software Developer',\n",
       "  'tags': 'javascript js mvc mysql php symphony zend '},\n",
       " {'city': 'Beograd',\n",
       "  'firm': u'Cosmic Development',\n",
       "  'position': u'PHP Developer',\n",
       "  'tags': 'laravel mysql php '},\n",
       " {'city': 'Beograd',\n",
       "  'firm': u'Vast',\n",
       "  'position': u'Software Engineer',\n",
       "  'tags': 'analytics big data java linux unix '},\n",
       " {'city': 'Beograd',\n",
       "  'firm': u'Codebehind doo',\n",
       "  'position': u'Junior Web Developer',\n",
       "  'tags': 'css html javascript js nodejs '},\n",
       " {'city': 'Beograd',\n",
       "  'firm': u'Eontek',\n",
       "  'position': u'Web Designer',\n",
       "  'tags': 'css design dizajn html '},\n",
       " {'city': 'NoviSad/Beograd',\n",
       "  'firm': u'QA Cube',\n",
       "  'position': u'Senior Frontend Developer',\n",
       "  'tags': 'angularjs compass css3 frontend html5 js reactjs sass '},\n",
       " {'city': 'Beograd',\n",
       "  'firm': u'TeleTrader',\n",
       "  'position': u'Software Developer .NET / C#',\n",
       "  'tags': '.net csharp oop sql '},\n",
       " {'city': 'Beograd',\n",
       "  'firm': u'IMRepublic Inc',\n",
       "  'position': u'Web Developer',\n",
       "  'tags': 'js mysql php restful '},\n",
       " {'city': 'NoviSad',\n",
       "  'firm': u'A51',\n",
       "  'position': u'Senior JavaScript Developer',\n",
       "  'tags': 'angular frontend js json senior socket io sr '},\n",
       " {'city': 'Beograd',\n",
       "  'firm': u'Presta',\n",
       "  'position': u'.NET Developer',\n",
       "  'tags': '.net csharp '},\n",
       " {'city': 'Beograd',\n",
       "  'firm': u'New Frontier Innova',\n",
       "  'position': u'.NET Developer',\n",
       "  'tags': '.net csharp '},\n",
       " {'city': 'Beograd/NoviSad',\n",
       "  'firm': u'Ivy Exec',\n",
       "  'position': u'Senior PHP Software Developer',\n",
       "  'tags': 'javascript js mvc mysql php symphony zend '},\n",
       " {'city': 'Beograd',\n",
       "  'firm': u'Cosmic Development',\n",
       "  'position': u'PHP Developer',\n",
       "  'tags': 'laravel mysql php '},\n",
       " {'city': 'Beograd',\n",
       "  'firm': u'Vast',\n",
       "  'position': u'Software Engineer',\n",
       "  'tags': 'analytics big data java linux unix '},\n",
       " {'city': 'Beograd',\n",
       "  'firm': u'Codebehind doo',\n",
       "  'position': u'Junior Web Developer',\n",
       "  'tags': 'css html javascript js nodejs '},\n",
       " {'city': 'Beograd',\n",
       "  'firm': u'Eontek',\n",
       "  'position': u'Web Designer',\n",
       "  'tags': 'css design dizajn html '},\n",
       " {'city': 'NoviSad/Beograd',\n",
       "  'firm': u'QA Cube',\n",
       "  'position': u'Senior Frontend Developer',\n",
       "  'tags': 'angularjs compass css3 frontend html5 js reactjs sass '},\n",
       " {'city': 'Beograd',\n",
       "  'firm': u'TeleTrader',\n",
       "  'position': u'Software Developer .NET / C#',\n",
       "  'tags': '.net csharp oop sql '},\n",
       " {'city': 'Beograd',\n",
       "  'firm': u'IMRepublic Inc',\n",
       "  'position': u'Web Developer',\n",
       "  'tags': 'js mysql php restful '},\n",
       " {'city': 'NoviSad',\n",
       "  'firm': u'A51',\n",
       "  'position': u'Senior JavaScript Developer',\n",
       "  'tags': 'angular frontend js json senior socket io sr '},\n",
       " {'city': 'Beograd',\n",
       "  'firm': u'Presta',\n",
       "  'position': u'.NET Developer',\n",
       "  'tags': '.net csharp '},\n",
       " {'city': 'Beograd',\n",
       "  'firm': u'New Frontier Innova',\n",
       "  'position': u'.NET Developer',\n",
       "  'tags': '.net csharp '},\n",
       " {'city': 'Beograd/NoviSad',\n",
       "  'firm': u'Ivy Exec',\n",
       "  'position': u'Senior PHP Software Developer',\n",
       "  'tags': 'javascript js mvc mysql php symphony zend '},\n",
       " {'city': 'Beograd',\n",
       "  'firm': u'Cosmic Development',\n",
       "  'position': u'PHP Developer',\n",
       "  'tags': 'laravel mysql php '},\n",
       " {'city': 'Beograd',\n",
       "  'firm': u'Vast',\n",
       "  'position': u'Software Engineer',\n",
       "  'tags': 'analytics big data java linux unix '},\n",
       " {'city': 'Beograd',\n",
       "  'firm': u'Codebehind doo',\n",
       "  'position': u'Junior Web Developer',\n",
       "  'tags': 'css html javascript js nodejs '},\n",
       " {'city': 'Beograd',\n",
       "  'firm': u'Eontek',\n",
       "  'position': u'Web Designer',\n",
       "  'tags': 'css design dizajn html '},\n",
       " {'city': 'NoviSad/Beograd',\n",
       "  'firm': u'QA Cube',\n",
       "  'position': u'Senior Frontend Developer',\n",
       "  'tags': 'angularjs compass css3 frontend html5 js reactjs sass '},\n",
       " {'city': 'Beograd',\n",
       "  'firm': u'TeleTrader',\n",
       "  'position': u'Software Developer .NET / C#',\n",
       "  'tags': '.net csharp oop sql '},\n",
       " {'city': 'Beograd',\n",
       "  'firm': u'IMRepublic Inc',\n",
       "  'position': u'Web Developer',\n",
       "  'tags': 'js mysql php restful '},\n",
       " {'city': 'NoviSad',\n",
       "  'firm': u'A51',\n",
       "  'position': u'Senior JavaScript Developer',\n",
       "  'tags': 'angular frontend js json senior socket io sr '},\n",
       " {'city': 'Beograd',\n",
       "  'firm': u'Presta',\n",
       "  'position': u'.NET Developer',\n",
       "  'tags': '.net csharp '},\n",
       " {'city': 'Beograd',\n",
       "  'firm': u'New Frontier Innova',\n",
       "  'position': u'.NET Developer',\n",
       "  'tags': '.net csharp '},\n",
       " {'city': 'Beograd/NoviSad',\n",
       "  'firm': u'Ivy Exec',\n",
       "  'position': u'Senior PHP Software Developer',\n",
       "  'tags': 'javascript js mvc mysql php symphony zend '},\n",
       " {'city': 'Beograd',\n",
       "  'firm': u'Cosmic Development',\n",
       "  'position': u'PHP Developer',\n",
       "  'tags': 'laravel mysql php '},\n",
       " {'city': 'Beograd',\n",
       "  'firm': u'Vast',\n",
       "  'position': u'Software Engineer',\n",
       "  'tags': 'analytics big data java linux unix '}]"
      ]
     },
     "execution_count": 122,
     "metadata": {},
     "output_type": "execute_result"
    }
   ],
   "source": [
    "def get_ad_list(ad_type):\n",
    "    i = 0\n",
    "    for ad in standard_adds:\n",
    "        std_add_dict = {}\n",
    "        add = ad.find_all('a')\n",
    "        std_add_dict['position'] = get_position(add)\n",
    "        #print get_position(add)\n",
    "        std_add_dict['firm'] = get_firm(add)\n",
    "        #print get_firm(add)\n",
    "        std_add_dict['city'] = get_city(ad)\n",
    "        std_add_dict['tags'] = get_tags(add)\n",
    "        #print std_add_dict\n",
    "        standard_adds_list.append(std_add_dict)\n",
    "        #print standard_adds_list\n",
    "        #i = i+1\n",
    "        #print i\n",
    "    \n",
    "    return standard_adds_list\n",
    "\n",
    "k = get_ad_list(standard_adds)\n",
    "k"
   ]
  },
  {
   "cell_type": "code",
   "execution_count": 153,
   "metadata": {
    "collapsed": false
   },
   "outputs": [
    {
     "data": {
      "text/plain": [
       "[<a href=\"http://www.smartschool.rs/Start/Stranice/Posao.aspx\" target=\"_blank\">Predavač za obuke osnova programiranja</a>,\n",
       " <a href=\"http://startit.rs/poslovi/Novi Sad\">Novi Sad</a>,\n",
       " <a href=\"http://startit.rs/poslovi/net\">.net</a>,\n",
       " <a href=\"http://startit.rs/poslovi/csharp\">csharp</a>,\n",
       " <a href=\"http://startit.rs/poslovi/java\">java</a>,\n",
       " <a href=\"http://startit.rs/poslovi/javascript\">javascript</a>,\n",
       " <a href=\"http://startit.rs/poslovi/js\">js</a>,\n",
       " <a href=\"http://startit.rs/poslovi/php\">php</a>]"
      ]
     },
     "execution_count": 153,
     "metadata": {},
     "output_type": "execute_result"
    }
   ],
   "source": [
    "mini_adds = soup.find_all(\"div\", class_=\"oglas-mini\")\n",
    "ad = mini_adds[0].find_all('a')\n",
    "ad"
   ]
  },
  {
   "cell_type": "code",
   "execution_count": 154,
   "metadata": {
    "collapsed": false
   },
   "outputs": [
    {
     "data": {
      "text/plain": [
       "'csharp java javascript js php '"
      ]
     },
     "execution_count": 154,
     "metadata": {},
     "output_type": "execute_result"
    }
   ],
   "source": [
    "def get_city_s(ad):\n",
    "    return ad[1].get_text()\n",
    "def get_position_s(ad):\n",
    "    return ad[0].get_text()\n",
    "def get_tags_s(ad):\n",
    "    tags = ad[2:]\n",
    "    tag_str = \"\"\n",
    "    for tag in tags:\n",
    "        tag_str = tag_str + str(tag.get_text())+\" \"\n",
    "    tag_str = tag_str.lower()\n",
    "    return tag_str\n",
    "tags = get_tags(ad)\n",
    "tags"
   ]
  },
  {
   "cell_type": "code",
   "execution_count": 134,
   "metadata": {
    "collapsed": false
   },
   "outputs": [
    {
     "data": {
      "text/plain": [
       "u'Novi Sad'"
      ]
     },
     "execution_count": 134,
     "metadata": {},
     "output_type": "execute_result"
    }
   ],
   "source": [
    "k = get_city_s(ad)\n",
    "k"
   ]
  },
  {
   "cell_type": "code",
   "execution_count": 135,
   "metadata": {
    "collapsed": false
   },
   "outputs": [
    {
     "data": {
      "text/plain": [
       "u'Predava\\u010d za obuke osnova programiranja'"
      ]
     },
     "execution_count": 135,
     "metadata": {},
     "output_type": "execute_result"
    }
   ],
   "source": [
    "get_position_s(ad)"
   ]
  },
  {
   "cell_type": "code",
   "execution_count": 161,
   "metadata": {
    "collapsed": false
   },
   "outputs": [
    {
     "data": {
      "text/plain": [
       "u'SMART d.o.o.'"
      ]
     },
     "execution_count": 161,
     "metadata": {},
     "output_type": "execute_result"
    }
   ],
   "source": [
    "mini_adds = soup.find_all(\"div\", class_=\"oglas-mini\")\n",
    "#mini_adds[0].find('div',class_=\"oglas-mini-header\").get_text\n",
    "def get_firm_s(ad):\n",
    "    return ad.find('div',class_=\"oglas-mini-header\").get_text()\n",
    "get_firm_s(mini_adds[0])"
   ]
  },
  {
   "cell_type": "code",
   "execution_count": 187,
   "metadata": {
    "collapsed": false
   },
   "outputs": [],
   "source": [
    "def find_ads(css_class_name, soup):\n",
    "    return soup.find_all(\"div\", class_=\"css_class_name\")\n",
    "\n",
    "premium_ads = find_ads(\"listing-oglas-premium\", soup)\n",
    "standard_ads = find_ads(\"listing-oglas-standard\", soup)\n",
    "mini_ads = find_ads(\"oglas-mini\", soup)"
   ]
  },
  {
   "cell_type": "code",
   "execution_count": 189,
   "metadata": {
    "collapsed": false
   },
   "outputs": [
    {
     "data": {
      "text/plain": [
       "[]"
      ]
     },
     "execution_count": 189,
     "metadata": {},
     "output_type": "execute_result"
    }
   ],
   "source": [
    "find_ads(\"listing-oglas-premium\",soup)"
   ]
  },
  {
   "cell_type": "code",
   "execution_count": 178,
   "metadata": {
    "collapsed": false
   },
   "outputs": [
    {
     "data": {
      "text/plain": [
       "[]"
      ]
     },
     "execution_count": 178,
     "metadata": {},
     "output_type": "execute_result"
    }
   ],
   "source": [
    "standard_ads"
   ]
  },
  {
   "cell_type": "code",
   "execution_count": 179,
   "metadata": {
    "collapsed": false
   },
   "outputs": [
    {
     "data": {
      "text/plain": [
       "[<div class=\"listing-oglas-premium\">\n",
       " <a href=\"http://startit.rs/poslovi-oglasi/ruby-engineer-supplyframe/\" target=\"_blank\"><img src=\"http://startit.rs/wp-content/uploads/supplyframe2.jpg\"/></a>\n",
       " <!--\n",
       " -->\n",
       " <!-- -->\n",
       " <div class=\"listing-oglas-premium-text\">\n",
       " <h1><a href=\"http://startit.rs/poslovi-oglasi/ruby-engineer-supplyframe/\" target=\"_blank\">Ruby Engineer</a></h1>\n",
       " <div class=\"listing-ime-firme\"><a href=\"http://supplyframe.com/\" target=\"_blank\">SupplyFrame</a></div><div class=\"listing-ime-firme\" style=\"color: #999; \">do 05/06 · Beograd</div><small><a href=\"http://startit.rs/poslovi/padrino\">Padrino</a></small><small><a href=\"http://startit.rs/poslovi/ruby\">ruby</a></small><small><a href=\"http://startit.rs/poslovi/rubyonrails\">RubyOnRails</a></small><small><a href=\"http://startit.rs/poslovi/sinatra\">Sinatra</a></small> </div>\n",
       " </div>, <div class=\"listing-oglas-premium\">\n",
       " <a href=\"http://startit.rs/poslovi-oglasi/customer-support-specialist-3-ccbill/\" target=\"_blank\"><img src=\"http://startit.rs/wp-content/uploads/ccbill-premium.png\"/></a>\n",
       " <!--\n",
       " -->\n",
       " <!-- -->\n",
       " <div class=\"listing-oglas-premium-text\">\n",
       " <h1><a href=\"http://startit.rs/poslovi-oglasi/customer-support-specialist-3-ccbill/\" target=\"_blank\">Customer Support Specialist</a></h1>\n",
       " <div class=\"listing-ime-firme\"><a href=\"http://www.ccbilleu.com/\" target=\"_blank\">CCBill</a></div><div class=\"listing-ime-firme\" style=\"color: #999; \">do 05/06 · Beograd</div><small><a href=\"http://startit.rs/poslovi/linux\">linux</a></small><small><a href=\"http://startit.rs/poslovi/support\">support</a></small> </div>\n",
       " </div>, <div class=\"listing-oglas-premium\">\n",
       " <a href=\"http://startit.rs/poslovi-oglasi/javascript-engineer/\" target=\"_blank\"><img src=\"http://startit.rs/wp-content/uploads/SBG-premium1.png\"/></a>\n",
       " <!--\n",
       " -->\n",
       " <!-- -->\n",
       " <div class=\"listing-oglas-premium-text\">\n",
       " <h1><a href=\"http://startit.rs/poslovi-oglasi/javascript-engineer/\" target=\"_blank\">JavaScript Engineer</a></h1>\n",
       " <div class=\"listing-ime-firme\"><a href=\"http://sbgenomics.com/\" target=\"_blank\">Seven Bridges </a></div><div class=\"listing-ime-firme\" style=\"color: #999; \">do 25/05 · Beograd</div><small><a href=\"http://startit.rs/poslovi/angular\">angular</a></small><small><a href=\"http://startit.rs/poslovi/backbone\">backbone</a></small><small><a href=\"http://startit.rs/poslovi/canvas\">canvas</a></small><small><a href=\"http://startit.rs/poslovi/frontend\">frontend</a></small><small><a href=\"http://startit.rs/poslovi/js\">js</a></small><small><a href=\"http://startit.rs/poslovi/marionette\">marionette</a></small><small><a href=\"http://startit.rs/poslovi/node\">node</a></small><small><a href=\"http://startit.rs/poslovi/sass\">sass</a></small> </div>\n",
       " </div>, <div class=\"listing-oglas-premium\">\n",
       " <a href=\"http://startit.rs/poslovi-oglasi/frontend-engineer-namics/\" target=\"_blank\"><img src=\"http://startit.rs/wp-content/uploads/namics-premium1.png\"/></a>\n",
       " <!--\n",
       " -->\n",
       " <!-- -->\n",
       " <div class=\"listing-oglas-premium-text\">\n",
       " <h1><a href=\"http://startit.rs/poslovi-oglasi/frontend-engineer-namics/\" target=\"_blank\">Frontend Engineer  (HTML/CSS/JS) f/m</a></h1>\n",
       " <div class=\"listing-ime-firme\"><a href=\"http://startit.rs/kompanije/namics/\" target=\"_blank\"><span style=\"background: #ffff90; padding: 3px 5px 1px; border-bottom: 2px solid #ffde00; color: #000; font-style: none;\">Namics</span></a></div><div class=\"listing-ime-firme\" style=\"color: #999; \">do 30/05 · Beograd</div><small><a href=\"http://startit.rs/poslovi/css\">css</a></small><small><a href=\"http://startit.rs/poslovi/frontend\">frontend</a></small><small><a href=\"http://startit.rs/poslovi/html\">html</a></small><small><a href=\"http://startit.rs/poslovi/js\">js</a></small> </div>\n",
       " </div>, <div class=\"listing-oglas-premium\">\n",
       " <a href=\"http://startit.rs/poslovi-oglasi/backend-web-developer-spoiled-milk/\" target=\"_blank\"><img src=\"http://startit.rs/wp-content/uploads/spoiled-milk-premium.png\"/></a>\n",
       " <!--\n",
       " -->\n",
       " <!-- -->\n",
       " <div class=\"listing-oglas-premium-text\">\n",
       " <h1><a href=\"http://startit.rs/poslovi-oglasi/backend-web-developer-spoiled-milk/\" target=\"_blank\">Backend Web Developer</a></h1>\n",
       " <div class=\"listing-ime-firme\"><a href=\"http://spoiledmilk.com\" target=\"_blank\">Spoiled Milk</a></div><div class=\"listing-ime-firme\" style=\"color: #999; \">do 11/05 · Beograd</div><small><a href=\"http://startit.rs/poslovi/backend\">backend</a></small><small><a href=\"http://startit.rs/poslovi/js\">js</a></small><small><a href=\"http://startit.rs/poslovi/php\">php</a></small><small><a href=\"http://startit.rs/poslovi/symfony\">symfony</a></small> </div>\n",
       " </div>, <div class=\"listing-oglas-premium\">\n",
       " <a href=\"http://startit.rs/poslovi-oglasi/software-engineer-java-senior-namics/\" target=\"_blank\"><img src=\"http://startit.rs/wp-content/uploads/namics-premium1.png\"/></a>\n",
       " <!--\n",
       " -->\n",
       " <!-- -->\n",
       " <div class=\"listing-oglas-premium-text\">\n",
       " <h1><a href=\"http://startit.rs/poslovi-oglasi/software-engineer-java-senior-namics/\" target=\"_blank\">Software Engineer Java Senior f/m</a></h1>\n",
       " <div class=\"listing-ime-firme\"><a href=\"http://startit.rs/kompanije/namics/\" target=\"_blank\"><span style=\"background: #ffff90; padding: 3px 5px 1px; border-bottom: 2px solid #ffde00; color: #000; font-style: none;\">Namics</span></a></div><div class=\"listing-ime-firme\" style=\"color: #999; \">do 30/05 · Beograd</div><small><a href=\"http://startit.rs/poslovi/aem\">aem</a></small><small><a href=\"http://startit.rs/poslovi/j2ee\">j2ee</a></small><small><a href=\"http://startit.rs/poslovi/java\">java</a></small><small><a href=\"http://startit.rs/poslovi/spring\">spring</a></small> </div>\n",
       " </div>, <div class=\"listing-oglas-premium\">\n",
       " <a href=\"http://startit.rs/poslovi-oglasi/java-developer-eyefreight/\" target=\"_blank\"><img src=\"http://startit.rs/wp-content/uploads/eyefright-premium.png\"/></a>\n",
       " <!--\n",
       " -->\n",
       " <!-- -->\n",
       " <div class=\"listing-oglas-premium-text\">\n",
       " <h1><a href=\"http://startit.rs/poslovi-oglasi/java-developer-eyefreight/\" target=\"_blank\">Java Developer</a></h1>\n",
       " <div class=\"listing-ime-firme\"><a href=\"http://eyefreight.com/\" target=\"_blank\">Eyefreight</a></div><div class=\"listing-ime-firme\" style=\"color: #999; \">do 13/05 · Beograd</div><small><a href=\"http://startit.rs/poslovi/git\">git</a></small><small><a href=\"http://startit.rs/poslovi/hibernate\">hibernate</a></small><small><a href=\"http://startit.rs/poslovi/java\">java</a></small><small><a href=\"http://startit.rs/poslovi/scrum\">scrum</a></small><small><a href=\"http://startit.rs/poslovi/spring\">spring</a></small> </div>\n",
       " </div>, <div class=\"listing-oglas-premium\">\n",
       " <a href=\"http://startit.rs/poslovi-oglasi/senior-front-end-developer-humanity/\" target=\"_blank\"><img src=\"http://startit.rs/wp-content/uploads/humanity-premium1.png\"/></a>\n",
       " <!--\n",
       " -->\n",
       " <!-- -->\n",
       " <div class=\"listing-oglas-premium-text\">\n",
       " <h1><a href=\"http://startit.rs/poslovi-oglasi/senior-front-end-developer-humanity/\" target=\"_blank\">Senior Front End Developer</a></h1>\n",
       " <div class=\"listing-ime-firme\"><a href=\"http://humanity.com/\" target=\"_blank\">Humanity Inc.</a></div><div class=\"listing-ime-firme\" style=\"color: #999; \">do 28/05 · Beograd</div><small><a href=\"http://startit.rs/poslovi/angular\">angular</a></small><small><a href=\"http://startit.rs/poslovi/frontend\">frontend</a></small><small><a href=\"http://startit.rs/poslovi/js\">js</a></small><small><a href=\"http://startit.rs/poslovi/optimization\">optimization</a></small><small><a href=\"http://startit.rs/poslovi/saas\">saas</a></small><small><a href=\"http://startit.rs/poslovi/senior\">senior</a></small> </div>\n",
       " </div>, <div class=\"listing-oglas-premium\">\n",
       " <a href=\"http://startit.rs/poslovi-oglasi/data-visualization-engineer-seven-bridges/\" target=\"_blank\"><img src=\"http://startit.rs/wp-content/uploads/SBG-premium1.png\"/></a>\n",
       " <!--\n",
       " -->\n",
       " <!-- -->\n",
       " <div class=\"listing-oglas-premium-text\">\n",
       " <h1><a href=\"http://startit.rs/poslovi-oglasi/data-visualization-engineer-seven-bridges/\" target=\"_blank\">Data Visualization Engineer</a></h1>\n",
       " <div class=\"listing-ime-firme\"><a href=\"http://sbgenomics.com/\" target=\"_blank\">Seven Bridges </a></div><div class=\"listing-ime-firme\" style=\"color: #999; \">do 20/05 · Beograd</div><small><a href=\"http://startit.rs/poslovi/javascript\">javascript</a></small><small><a href=\"http://startit.rs/poslovi/js\">js</a></small><small><a href=\"http://startit.rs/poslovi/visualization\">visualization</a></small> </div>\n",
       " </div>, <div class=\"listing-oglas-premium\">\n",
       " <a href=\"http://startit.rs/poslovi-oglasi/senior-software-architect/\" target=\"_blank\"><img src=\"http://startit.rs/wp-content/uploads/ccbill-premium.png\"/></a>\n",
       " <!--\n",
       " -->\n",
       " <!-- -->\n",
       " <div class=\"listing-oglas-premium-text\">\n",
       " <h1><a href=\"http://startit.rs/poslovi-oglasi/senior-software-architect/\" target=\"_blank\">Senior Software Architect</a></h1>\n",
       " <div class=\"listing-ime-firme\"><a href=\"http://www.ccbilleu.com/\" target=\"_blank\">CCBill</a></div><div class=\"listing-ime-firme\" style=\"color: #999; \">do 29/05 · Novi Sad</div><small><a href=\"http://startit.rs/poslovi/html\">html</a></small><small><a href=\"http://startit.rs/poslovi/java\">java</a></small><small><a href=\"http://startit.rs/poslovi/js\">js</a></small><small><a href=\"http://startit.rs/poslovi/mysql\">mysql</a></small><small><a href=\"http://startit.rs/poslovi/oop\">oop</a></small><small><a href=\"http://startit.rs/poslovi/spring\">spring</a></small><small><a href=\"http://startit.rs/poslovi/uml\">uml</a></small> </div>\n",
       " </div>, <div class=\"listing-oglas-premium\">\n",
       " <a href=\"http://startit.rs/poslovi-oglasi/android-engineer-3/\" target=\"_blank\"><img src=\"http://startit.rs/wp-content/uploads/endava-premium.png\"/></a>\n",
       " <!--\n",
       " -->\n",
       " <!-- -->\n",
       " <div class=\"listing-oglas-premium-text\">\n",
       " <h1><a href=\"http://startit.rs/poslovi-oglasi/android-engineer-3/\" target=\"_blank\">Android Engineer</a></h1>\n",
       " <div class=\"listing-ime-firme\"><a href=\"http://startit.rs/kompanije/endava/\" target=\"_blank\"><span style=\"background: #ffff90; padding: 3px 5px 1px; border-bottom: 2px solid #ffde00; color: #000; font-style: none;\">Endava</span></a></div><div class=\"listing-ime-firme\" style=\"color: #999; \">do 30/05 · Beograd</div><small><a href=\"http://startit.rs/poslovi/android\">android</a></small><small><a href=\"http://startit.rs/poslovi/cplusplus\">cplusplus</a></small><small><a href=\"http://startit.rs/poslovi/java\">java</a></small><small><a href=\"http://startit.rs/poslovi/mobile\">mobile</a></small> </div>\n",
       " </div>, <div class=\"listing-oglas-premium\">\n",
       " <a href=\"http://startit.rs/poslovi-oglasi/software-engineer-java-mid-level-namics/\" target=\"_blank\"><img src=\"http://startit.rs/wp-content/uploads/namics-premium1.png\"/></a>\n",
       " <!--\n",
       " -->\n",
       " <!-- -->\n",
       " <div class=\"listing-oglas-premium-text\">\n",
       " <h1><a href=\"http://startit.rs/poslovi-oglasi/software-engineer-java-mid-level-namics/\" target=\"_blank\">Software Engineer Java ­ Mid-level f/m</a></h1>\n",
       " <div class=\"listing-ime-firme\"><a href=\"http://startit.rs/kompanije/namics/\" target=\"_blank\"><span style=\"background: #ffff90; padding: 3px 5px 1px; border-bottom: 2px solid #ffde00; color: #000; font-style: none;\">Namics</span></a></div><div class=\"listing-ime-firme\" style=\"color: #999; \">do 30/05 · Beograd</div><small><a href=\"http://startit.rs/poslovi/aem\">aem</a></small><small><a href=\"http://startit.rs/poslovi/java\">java</a></small><small><a href=\"http://startit.rs/poslovi/spring\">spring</a></small> </div>\n",
       " </div>, <div class=\"listing-oglas-premium\">\n",
       " <a href=\"http://startit.rs/poslovi-oglasi/it-technical-writer-ccbill/\" target=\"_blank\"><img src=\"http://startit.rs/wp-content/uploads/ccbill-premium.png\"/></a>\n",
       " <!--\n",
       " -->\n",
       " <!-- -->\n",
       " <div class=\"listing-oglas-premium-text\">\n",
       " <h1><a href=\"http://startit.rs/poslovi-oglasi/it-technical-writer-ccbill/\" target=\"_blank\">IT Technical Writer</a></h1>\n",
       " <div class=\"listing-ime-firme\"><a href=\"http://www.ccbilleu.com/\" target=\"_blank\">CCBill</a></div><div class=\"listing-ime-firme\" style=\"color: #999; \">do 29/05 · Novi Sad/Beograd</div><small><a href=\"http://startit.rs/poslovi/journalism\">journalism</a></small><small><a href=\"http://startit.rs/poslovi/writer\">writer</a></small> </div>\n",
       " </div>, <div class=\"listing-oglas-premium\">\n",
       " <a href=\"http://startit.rs/poslovi-oglasi/qa-engineer-seven-bridges/\" target=\"_blank\"><img src=\"http://startit.rs/wp-content/uploads/SBG-premium1.png\"/></a>\n",
       " <!--\n",
       " -->\n",
       " <!-- -->\n",
       " <div class=\"listing-oglas-premium-text\">\n",
       " <h1><a href=\"http://startit.rs/poslovi-oglasi/qa-engineer-seven-bridges/\" target=\"_blank\">QA Engineer</a></h1>\n",
       " <div class=\"listing-ime-firme\"><a href=\"http://sbgenomics.com/\" target=\"_blank\">Seven Bridges </a></div><div class=\"listing-ime-firme\" style=\"color: #999; \">do 05/05 · Beograd</div><small><a href=\"http://startit.rs/poslovi/python\">python</a></small><small><a href=\"http://startit.rs/poslovi/qa\">qa</a></small><small><a href=\"http://startit.rs/poslovi/testing\">testing</a></small> </div>\n",
       " </div>, <div class=\"listing-oglas-premium\">\n",
       " <a href=\"http://startit.rs/poslovi-oglasi/integration-specialist-centili/\" target=\"_blank\"><img src=\"http://startit.rs/wp-content/uploads/centili-premium.png\"/></a>\n",
       " <!--\n",
       " -->\n",
       " <!-- -->\n",
       " <div class=\"listing-oglas-premium-text\">\n",
       " <h1><a href=\"http://startit.rs/poslovi-oglasi/integration-specialist-centili/\" target=\"_blank\">Integration Specialist</a></h1>\n",
       " <div class=\"listing-ime-firme\"><a href=\"https://www.centili.com/\" target=\"_blank\">Centili</a></div><div class=\"listing-ime-firme\" style=\"color: #999; \">do 06/05 · Beograd</div><small><a href=\"http://startit.rs/poslovi/frontend\">frontend</a></small><small><a href=\"http://startit.rs/poslovi/http\">http</a></small><small><a href=\"http://startit.rs/poslovi/integration\">integration</a></small><small><a href=\"http://startit.rs/poslovi/sql\">sql</a></small> </div>\n",
       " </div>, <div class=\"listing-oglas-premium\">\n",
       " <a href=\"http://startit.rs/poslovi-oglasi/web-designerdeveloper-seven-bridges-2/\" target=\"_blank\"><img src=\"http://startit.rs/wp-content/uploads/SBG-premium1.png\"/></a>\n",
       " <!--\n",
       " -->\n",
       " <!-- -->\n",
       " <div class=\"listing-oglas-premium-text\">\n",
       " <h1><a href=\"http://startit.rs/poslovi-oglasi/web-designerdeveloper-seven-bridges-2/\" target=\"_blank\">Web Designer/Developer</a></h1>\n",
       " <div class=\"listing-ime-firme\"><a href=\"http://sbgenomics.com/\" target=\"_blank\">Seven Bridges </a></div><div class=\"listing-ime-firme\" style=\"color: #999; \">do 20/05 · Beograd</div><small><a href=\"http://startit.rs/poslovi/css\">css</a></small><small><a href=\"http://startit.rs/poslovi/design\">design</a></small><small><a href=\"http://startit.rs/poslovi/dizajn-poslovi\">dizajn</a></small><small><a href=\"http://startit.rs/poslovi/html\">html</a></small> </div>\n",
       " </div>, <div class=\"listing-oglas-premium\">\n",
       " <a href=\"http://startit.rs/poslovi-oglasi/javascript-developer-vast-2/\" target=\"_blank\"><img src=\"http://startit.rs/wp-content/uploads/vast-premium1.png\"/></a>\n",
       " <!--\n",
       " -->\n",
       " <!-- -->\n",
       " <div class=\"listing-oglas-premium-text\">\n",
       " <h1><a href=\"http://startit.rs/poslovi-oglasi/javascript-developer-vast-2/\" target=\"_blank\">JavaScript Developer</a></h1>\n",
       " <div class=\"listing-ime-firme\"><a href=\"http://vast.com/\" target=\"_blank\">Vast</a></div><div class=\"listing-ime-firme\" style=\"color: #999; \">do 07/05 · Beograd</div><small><a href=\"http://startit.rs/poslovi/frontend\">frontend</a></small><small><a href=\"http://startit.rs/poslovi/js\">js</a></small> </div>\n",
       " </div>, <div class=\"listing-oglas-premium\">\n",
       " <a href=\"http://startit.rs/poslovi-oglasi/desktop-support-technician-ccbill/\" target=\"_blank\"><img src=\"http://startit.rs/wp-content/uploads/ccbill-premium.png\"/></a>\n",
       " <!--\n",
       " -->\n",
       " <!-- -->\n",
       " <div class=\"listing-oglas-premium-text\">\n",
       " <h1><a href=\"http://startit.rs/poslovi-oglasi/desktop-support-technician-ccbill/\" target=\"_blank\">Desktop Support Technician</a></h1>\n",
       " <div class=\"listing-ime-firme\"><a href=\"http://www.ccbilleu.com/\" target=\"_blank\">CCBill</a></div><div class=\"listing-ime-firme\" style=\"color: #999; \">do 12/05 · Beograd</div><small><a href=\"http://startit.rs/poslovi/administration\">administration</a></small><small><a href=\"http://startit.rs/poslovi/installation\">installation</a></small><small><a href=\"http://startit.rs/poslovi/support\">support</a></small><small><a href=\"http://startit.rs/poslovi/technician\">technician</a></small><small><a href=\"http://startit.rs/poslovi/test\">test</a></small> </div>\n",
       " </div>, <div class=\"listing-oglas-premium\">\n",
       " <a href=\"http://startit.rs/poslovi-oglasi/datacenter-automation-developer-ccbill/\" target=\"_blank\"><img src=\"http://startit.rs/wp-content/uploads/ccbill-premium.png\"/></a>\n",
       " <!--\n",
       " -->\n",
       " <!-- -->\n",
       " <div class=\"listing-oglas-premium-text\">\n",
       " <h1><a href=\"http://startit.rs/poslovi-oglasi/datacenter-automation-developer-ccbill/\" target=\"_blank\">Datacenter Automation Developer</a></h1>\n",
       " <div class=\"listing-ime-firme\"><a href=\"http://www.ccbilleu.com/\" target=\"_blank\">CCBill</a></div><div class=\"listing-ime-firme\" style=\"color: #999; \">do 06/06 · Beograd, Novi Sad</div><small><a href=\"http://startit.rs/poslovi/java\">java</a></small><small><a href=\"http://startit.rs/poslovi/mysql\">mysql</a></small><small><a href=\"http://startit.rs/poslovi/php\">php</a></small><small><a href=\"http://startit.rs/poslovi/sql\">sql</a></small> </div>\n",
       " </div>, <div class=\"listing-oglas-premium\">\n",
       " <a href=\"http://startit.rs/poslovi-oglasi/python-develope-seven-bridges/\" target=\"_blank\"><img src=\"http://startit.rs/wp-content/uploads/SBG-premium1.png\"/></a>\n",
       " <!--\n",
       " -->\n",
       " <!-- \t\t\t\t\t\t\t\t<div class=\"oglas-nov-premium\" title=\"Nov oglas\"></div>\t\t\t -->\n",
       " <div class=\"listing-oglas-premium-text\">\n",
       " <h1><a href=\"http://startit.rs/poslovi-oglasi/python-develope-seven-bridges/\" target=\"_blank\">Python Developer</a></h1>\n",
       " <div class=\"listing-ime-firme\"><a href=\"http://sbgenomics.com/\" target=\"_blank\">Seven Bridges </a></div><div class=\"listing-ime-firme\" style=\"color: #999; \">do 07/06 · Beograd</div><small><a href=\"http://startit.rs/poslovi/django\">django</a></small><small><a href=\"http://startit.rs/poslovi/python\">python</a></small> </div>\n",
       " </div>, <div class=\"listing-oglas-premium\">\n",
       " <a href=\"http://startit.rs/poslovi-oglasi/senior-ios-programer/\" target=\"_blank\"><img src=\"http://startit.rs/wp-content/uploads/mera-premium2.png\"/></a>\n",
       " <!--\n",
       " -->\n",
       " <!-- -->\n",
       " <div class=\"listing-oglas-premium-text\">\n",
       " <h1><a href=\"http://startit.rs/poslovi-oglasi/senior-ios-programer/\" target=\"_blank\">Senior iOS Programer</a></h1>\n",
       " <div class=\"listing-ime-firme\"><a href=\"http://startit.rs/kompanije/mera/\" target=\"_blank\"><span style=\"background: #ffff90; padding: 3px 5px 1px; border-bottom: 2px solid #ffde00; color: #000; font-style: none;\">MERA</span></a></div><div class=\"listing-ime-firme\" style=\"color: #999; \">do 27/05 · Beograd</div><small><a href=\"http://startit.rs/poslovi/ios\">ios</a></small><small><a href=\"http://startit.rs/poslovi/mobile\">mobile</a></small><small><a href=\"http://startit.rs/poslovi/senior\">senior</a></small> </div>\n",
       " </div>, <div class=\"listing-oglas-premium\">\n",
       " <a href=\"http://startit.rs/poslovi-oglasi/mid-level-javascript-developer-toschas/\" target=\"_blank\"><img src=\"http://startit.rs/wp-content/uploads/toschas-premium3.png\"/></a>\n",
       " <!--\n",
       " -->\n",
       " <!-- -->\n",
       " <div class=\"listing-oglas-premium-text\">\n",
       " <h1><a href=\"http://startit.rs/poslovi-oglasi/mid-level-javascript-developer-toschas/\" target=\"_blank\">Mid-Level Javascript Developer</a></h1>\n",
       " <div class=\"listing-ime-firme\"><a href=\"http://toschas.com/\" target=\"_blank\">Toschas</a></div><div class=\"listing-ime-firme\" style=\"color: #999; \">do 26/05 · Beograd</div><small><a href=\"http://startit.rs/poslovi/angularjs\">AngularJS</a></small><small><a href=\"http://startit.rs/poslovi/frontend\">frontend</a></small><small><a href=\"http://startit.rs/poslovi/js\">js</a></small><small><a href=\"http://startit.rs/poslovi/nodejs\">nodejs</a></small> </div>\n",
       " </div>, <div class=\"listing-oglas-premium\">\n",
       " <a href=\"http://startit.rs/poslovi-oglasi/senior-software-java-developer/\" target=\"_blank\"><img src=\"http://startit.rs/wp-content/uploads/ccbill-premium.png\"/></a>\n",
       " <!--\n",
       " -->\n",
       " <!-- -->\n",
       " <div class=\"listing-oglas-premium-text\">\n",
       " <h1><a href=\"http://startit.rs/poslovi-oglasi/senior-software-java-developer/\" target=\"_blank\">Senior Software (Java) Developer</a></h1>\n",
       " <div class=\"listing-ime-firme\"><a href=\"http://www.ccbilleu.com/\" target=\"_blank\">CCBill</a></div><div class=\"listing-ime-firme\" style=\"color: #999; \">do 29/05 · Novi Sad/Beograd</div><small><a href=\"http://startit.rs/poslovi/html\">html</a></small><small><a href=\"http://startit.rs/poslovi/java\">java</a></small><small><a href=\"http://startit.rs/poslovi/jquery\">jquery</a></small><small><a href=\"http://startit.rs/poslovi/js\">js</a></small> </div>\n",
       " </div>, <div class=\"listing-oglas-premium\">\n",
       " <a href=\"http://startit.rs/poslovi-oglasi/java-software-engineer-centili/\" target=\"_blank\"><img src=\"http://startit.rs/wp-content/uploads/centili-premium.png\"/></a>\n",
       " <!--\n",
       " -->\n",
       " <!-- -->\n",
       " <div class=\"listing-oglas-premium-text\">\n",
       " <h1><a href=\"http://startit.rs/poslovi-oglasi/java-software-engineer-centili/\" target=\"_blank\">Java Software Engineer</a></h1>\n",
       " <div class=\"listing-ime-firme\"><a href=\"https://www.centili.com/\" target=\"_blank\">Centili</a></div><div class=\"listing-ime-firme\" style=\"color: #999; \">do 06/05 · Beograd</div><small><a href=\"http://startit.rs/poslovi/backend\">backend</a></small><small><a href=\"http://startit.rs/poslovi/java\">java</a></small><small><a href=\"http://startit.rs/poslovi/javaee\">JavaEE</a></small> </div>\n",
       " </div>, <div class=\"listing-oglas-premium\">\n",
       " <a href=\"http://startit.rs/poslovi-oglasi/mid-level-ruby-on-rails-developer-toschas/\" target=\"_blank\"><img src=\"http://startit.rs/wp-content/uploads/toschas-premium3.png\"/></a>\n",
       " <!--\n",
       " -->\n",
       " <!-- -->\n",
       " <div class=\"listing-oglas-premium-text\">\n",
       " <h1><a href=\"http://startit.rs/poslovi-oglasi/mid-level-ruby-on-rails-developer-toschas/\" target=\"_blank\">Mid-Level Ruby on Rails Developer</a></h1>\n",
       " <div class=\"listing-ime-firme\"><a href=\"http://toschas.com/\" target=\"_blank\">Toschas</a></div><div class=\"listing-ime-firme\" style=\"color: #999; \">do 26/05 · Beograd</div><small><a href=\"http://startit.rs/poslovi/rest\">rest</a></small><small><a href=\"http://startit.rs/poslovi/ruby\">ruby</a></small><small><a href=\"http://startit.rs/poslovi/ruby-on-rails-2\">Ruby on Rails</a></small> </div>\n",
       " </div>, <div class=\"listing-oglas-premium\">\n",
       " <a href=\"http://startit.rs/poslovi-oglasi/senior-web-application-developer-ccbill/\" target=\"_blank\"><img src=\"http://startit.rs/wp-content/uploads/ccbill-premium.png\"/></a>\n",
       " <!--\n",
       " -->\n",
       " <!-- -->\n",
       " <div class=\"listing-oglas-premium-text\">\n",
       " <h1><a href=\"http://startit.rs/poslovi-oglasi/senior-web-application-developer-ccbill/\" target=\"_blank\">Senior Web Application Developer</a></h1>\n",
       " <div class=\"listing-ime-firme\"><a href=\"http://www.ccbilleu.com/\" target=\"_blank\">CCBill</a></div><div class=\"listing-ime-firme\" style=\"color: #999; \">do 29/05 · Novi Sad/Beograd</div><small><a href=\"http://startit.rs/poslovi/angularjs\">AngularJS</a></small><small><a href=\"http://startit.rs/poslovi/css3\">css3</a></small><small><a href=\"http://startit.rs/poslovi/frontend\">frontend</a></small><small><a href=\"http://startit.rs/poslovi/html5\">html5</a></small><small><a href=\"http://startit.rs/poslovi/javascript\">javascript</a></small><small><a href=\"http://startit.rs/poslovi/jquery\">jquery</a></small><small><a href=\"http://startit.rs/poslovi/js\">js</a></small><small><a href=\"http://startit.rs/poslovi/scrum\">scrum</a></small> </div>\n",
       " </div>, <div class=\"listing-oglas-premium\">\n",
       " <a href=\"http://startit.rs/poslovi-oglasi/art-director-online-fm-namics/\" target=\"_blank\"><img src=\"http://startit.rs/wp-content/uploads/namics-premium1.png\"/></a>\n",
       " <!--\n",
       " -->\n",
       " <!-- -->\n",
       " <div class=\"listing-oglas-premium-text\">\n",
       " <h1><a href=\"http://startit.rs/poslovi-oglasi/art-director-online-fm-namics/\" target=\"_blank\">Art Director Online (f/m)</a></h1>\n",
       " <div class=\"listing-ime-firme\"><a href=\"http://startit.rs/kompanije/namics/\" target=\"_blank\"><span style=\"background: #ffff90; padding: 3px 5px 1px; border-bottom: 2px solid #ffde00; color: #000; font-style: none;\">Namics</span></a></div><div class=\"listing-ime-firme\" style=\"color: #999; \">do 22/05 · Beograd</div><small><a href=\"http://startit.rs/poslovi/css\">css</a></small><small><a href=\"http://startit.rs/poslovi/dizajn-poslovi\">dizajn</a></small><small><a href=\"http://startit.rs/poslovi/html\">html</a></small><small><a href=\"http://startit.rs/poslovi/js\">js</a></small> </div>\n",
       " </div>, <div class=\"listing-oglas-premium\">\n",
       " <a href=\"http://startit.rs/poslovi-oglasi/senior-c-software-developer-unified-communications/\" target=\"_blank\"><img src=\"http://startit.rs/wp-content/uploads/endava-premium.png\"/></a>\n",
       " <!--\n",
       " -->\n",
       " <!-- -->\n",
       " <div class=\"listing-oglas-premium-text\">\n",
       " <h1><a href=\"http://startit.rs/poslovi-oglasi/senior-c-software-developer-unified-communications/\" target=\"_blank\">Senior C++ Software Developer</a></h1>\n",
       " <div class=\"listing-ime-firme\"><a href=\"http://startit.rs/kompanije/endava/\" target=\"_blank\"><span style=\"background: #ffff90; padding: 3px 5px 1px; border-bottom: 2px solid #ffde00; color: #000; font-style: none;\">Endava</span></a></div><div class=\"listing-ime-firme\" style=\"color: #999; \">do 30/05 · Beograd</div><small><a href=\"http://startit.rs/poslovi/boost\">boost</a></small><small><a href=\"http://startit.rs/poslovi/c\">c++</a></small><small><a href=\"http://startit.rs/poslovi/cplusplus\">cplusplus</a></small><small><a href=\"http://startit.rs/poslovi/senior\">senior</a></small> </div>\n",
       " </div>, <div class=\"listing-oglas-premium\">\n",
       " <a href=\"http://startit.rs/poslovi-oglasi/senior-software-engineer-net-namics/\" target=\"_blank\"><img src=\"http://startit.rs/wp-content/uploads/namics-premium1.png\"/></a>\n",
       " <!--\n",
       " -->\n",
       " <!-- -->\n",
       " <div class=\"listing-oglas-premium-text\">\n",
       " <h1><a href=\"http://startit.rs/poslovi-oglasi/senior-software-engineer-net-namics/\" target=\"_blank\">Software Engineer .NET ­ Senior  f/m</a></h1>\n",
       " <div class=\"listing-ime-firme\"><a href=\"http://startit.rs/kompanije/namics/\" target=\"_blank\"><span style=\"background: #ffff90; padding: 3px 5px 1px; border-bottom: 2px solid #ffde00; color: #000; font-style: none;\">Namics</span></a></div><div class=\"listing-ime-firme\" style=\"color: #999; \">do 30/05 · Beograd</div><small><a href=\"http://startit.rs/poslovi/net\">.net</a></small><small><a href=\"http://startit.rs/poslovi/senior\">senior</a></small><small><a href=\"http://startit.rs/poslovi/sitecore\">Sitecore</a></small> </div>\n",
       " </div>, <div class=\"listing-oglas-premium\">\n",
       " <a href=\"http://startit.rs/poslovi-oglasi/seo-organic-search-specialist-dmo-investments/\" target=\"_blank\"><img src=\"http://startit.rs/wp-content/uploads/dmo-investments-premium.jpg\"/></a>\n",
       " <!--\n",
       " -->\n",
       " <!-- -->\n",
       " <div class=\"listing-oglas-premium-text\">\n",
       " <h1><a href=\"http://startit.rs/poslovi-oglasi/seo-organic-search-specialist-dmo-investments/\" target=\"_blank\">SEO / Organic Search Specialist</a></h1>\n",
       " <div class=\"listing-ime-firme\"><a href=\"http://www.dmoinvestments.com/\" target=\"_blank\">DMO Investments</a></div><div class=\"listing-ime-firme\" style=\"color: #999; \">do 11/05 · Beograd</div><small><a href=\"http://startit.rs/poslovi/marketing\">marketing</a></small><small><a href=\"http://startit.rs/poslovi/seo-2\">SEO</a></small> </div>\n",
       " </div>, <div class=\"listing-oglas-premium\">\n",
       " <a href=\"http://startit.rs/poslovi-oglasi/senior-php-developer-esome/\" target=\"_blank\"><img src=\"http://startit.rs/wp-content/uploads/esome-premium21.png\"/></a>\n",
       " <!--\n",
       " -->\n",
       " <!-- -->\n",
       " <div class=\"listing-oglas-premium-text\">\n",
       " <h1><a href=\"http://startit.rs/poslovi-oglasi/senior-php-developer-esome/\" target=\"_blank\">Senior PHP Developer</a></h1>\n",
       " <div class=\"listing-ime-firme\"><a href=\"https://esome.com/\" target=\"_blank\">esome advertising technologies d.o.o.</a></div><div class=\"listing-ime-firme\" style=\"color: #999; \">do 15/05 · Beograd</div><small><a href=\"http://startit.rs/poslovi/angularjs\">AngularJS</a></small><small><a href=\"http://startit.rs/poslovi/js\">js</a></small><small><a href=\"http://startit.rs/poslovi/nodejs\">nodejs</a></small><small><a href=\"http://startit.rs/poslovi/php\">php</a></small><small><a href=\"http://startit.rs/poslovi/senior\">senior</a></small> </div>\n",
       " </div>, <div class=\"listing-oglas-premium\">\n",
       " <a href=\"http://startit.rs/poslovi-oglasi/bioinformatics-engineer-seven-bridges/\" target=\"_blank\"><img src=\"http://startit.rs/wp-content/uploads/SBG-premium1.png\"/></a>\n",
       " <!--\n",
       " -->\n",
       " <!-- -->\n",
       " <div class=\"listing-oglas-premium-text\">\n",
       " <h1><a href=\"http://startit.rs/poslovi-oglasi/bioinformatics-engineer-seven-bridges/\" target=\"_blank\">Bioinformatics Engineer</a></h1>\n",
       " <div class=\"listing-ime-firme\"><a href=\"http://sbgenomics.com/\" target=\"_blank\">Seven Bridges Genomics</a></div><div class=\"listing-ime-firme\" style=\"color: #999; \">do 15/05 · Beograd</div><small><a href=\"http://startit.rs/poslovi/analysis\">analysis</a></small><small><a href=\"http://startit.rs/poslovi/bioinformatika\">bioinformatika</a></small><small><a href=\"http://startit.rs/poslovi/python\">python</a></small> </div>\n",
       " </div>, <div class=\"listing-oglas-premium\">\n",
       " <a href=\"http://startit.rs/poslovi-oglasi/engineer-intern/\" target=\"_blank\"><img src=\"http://startit.rs/wp-content/uploads/endava-premium.png\"/></a>\n",
       " <!--\n",
       " -->\n",
       " <!-- -->\n",
       " <div class=\"listing-oglas-premium-text\">\n",
       " <h1><a href=\"http://startit.rs/poslovi-oglasi/engineer-intern/\" target=\"_blank\">Engineer — Intern</a></h1>\n",
       " <div class=\"listing-ime-firme\"><a href=\"http://startit.rs/kompanije/endava/\" target=\"_blank\"><span style=\"background: #ffff90; padding: 3px 5px 1px; border-bottom: 2px solid #ffde00; color: #000; font-style: none;\">Endava</span></a></div><div class=\"listing-ime-firme\" style=\"color: #999; \">do 30/05 · Beograd</div><small><a href=\"http://startit.rs/poslovi/android\">android</a></small><small><a href=\"http://startit.rs/poslovi/cplusplus\">cplusplus</a></small><small><a href=\"http://startit.rs/poslovi/csharp\">csharp</a></small><small><a href=\"http://startit.rs/poslovi/ios\">ios</a></small><small><a href=\"http://startit.rs/poslovi/java\">java</a></small><small><a href=\"http://startit.rs/poslovi/mobile\">mobile</a></small> </div>\n",
       " </div>, <div class=\"listing-oglas-premium\">\n",
       " <a href=\"http://startit.rs/poslovi-oglasi/senior-active-directory-systems-engineer-ccbill/\" target=\"_blank\"><img src=\"http://startit.rs/wp-content/uploads/ccbill-premium.png\"/></a>\n",
       " <!--\n",
       " -->\n",
       " <!-- -->\n",
       " <div class=\"listing-oglas-premium-text\">\n",
       " <h1><a href=\"http://startit.rs/poslovi-oglasi/senior-active-directory-systems-engineer-ccbill/\" target=\"_blank\">Senior Active Directory Systems Engineer</a></h1>\n",
       " <div class=\"listing-ime-firme\"><a href=\"http://www.ccbilleu.com/\" target=\"_blank\">CCBill</a></div><div class=\"listing-ime-firme\" style=\"color: #999; \">do 29/05 · Novi Sad / Beograd</div><small><a href=\"http://startit.rs/poslovi/infrastructure\">infrastructure</a></small><small><a href=\"http://startit.rs/poslovi/powershell\">Powershell</a></small><small><a href=\"http://startit.rs/poslovi/security\">security</a></small><small><a href=\"http://startit.rs/poslovi/senior\">senior</a></small> </div>\n",
       " </div>, <div class=\"listing-oglas-premium\">\n",
       " <a href=\"http://startit.rs/poslovi-oglasi/ios-software-developer-4/\" target=\"_blank\"><img src=\"http://startit.rs/wp-content/uploads/endava-premium.png\"/></a>\n",
       " <!--\n",
       " -->\n",
       " <!-- -->\n",
       " <div class=\"listing-oglas-premium-text\">\n",
       " <h1><a href=\"http://startit.rs/poslovi-oglasi/ios-software-developer-4/\" target=\"_blank\">iOS Software Developer</a></h1>\n",
       " <div class=\"listing-ime-firme\"><a href=\"http://startit.rs/kompanije/endava/\" target=\"_blank\"><span style=\"background: #ffff90; padding: 3px 5px 1px; border-bottom: 2px solid #ffde00; color: #000; font-style: none;\">Endava</span></a></div><div class=\"listing-ime-firme\" style=\"color: #999; \">do 30/05 · Beograd</div><small><a href=\"http://startit.rs/poslovi/ios\">ios</a></small><small><a href=\"http://startit.rs/poslovi/mobile\">mobile</a></small><small><a href=\"http://startit.rs/poslovi/objective-c\">objective-c</a></small> </div>\n",
       " </div>, <div class=\"listing-oglas-premium\">\n",
       " <a href=\"http://startit.rs/poslovi-oglasi/rd-engineer-seven-bridges/\" target=\"_blank\"><img src=\"http://startit.rs/wp-content/uploads/SBG-premium1.png\"/></a>\n",
       " <!--\n",
       " -->\n",
       " <!-- -->\n",
       " <div class=\"listing-oglas-premium-text\">\n",
       " <h1><a href=\"http://startit.rs/poslovi-oglasi/rd-engineer-seven-bridges/\" target=\"_blank\">R&amp;D Software Engineer</a></h1>\n",
       " <div class=\"listing-ime-firme\"><a href=\"http://sbgenomics.com/\" target=\"_blank\">Seven Bridges </a></div><div class=\"listing-ime-firme\" style=\"color: #999; \">do 25/05 · Beograd</div><small><a href=\"http://startit.rs/poslovi/c\">c++</a></small><small><a href=\"http://startit.rs/poslovi/cplusplus\">cplusplus</a></small> </div>\n",
       " </div>, <div class=\"listing-oglas-premium\">\n",
       " <a href=\"http://startit.rs/poslovi-oglasi/technical-lead-net-namics/\" target=\"_blank\"><img src=\"http://startit.rs/wp-content/uploads/namics-premium1.png\"/></a>\n",
       " <!--\n",
       " -->\n",
       " <!-- -->\n",
       " <div class=\"listing-oglas-premium-text\">\n",
       " <h1><a href=\"http://startit.rs/poslovi-oglasi/technical-lead-net-namics/\" target=\"_blank\">Technical Lead .NET f/m</a></h1>\n",
       " <div class=\"listing-ime-firme\"><a href=\"http://startit.rs/kompanije/namics/\" target=\"_blank\"><span style=\"background: #ffff90; padding: 3px 5px 1px; border-bottom: 2px solid #ffde00; color: #000; font-style: none;\">Namics</span></a></div><div class=\"listing-ime-firme\" style=\"color: #999; \">do 30/05 · Beograd</div><small><a href=\"http://startit.rs/poslovi/net\">.net</a></small><small><a href=\"http://startit.rs/poslovi/lead\">lead</a></small><small><a href=\"http://startit.rs/poslovi/senior\">senior</a></small><small><a href=\"http://startit.rs/poslovi/sitecore\">Sitecore</a></small> </div>\n",
       " </div>, <div class=\"listing-oglas-premium\">\n",
       " <a href=\"http://startit.rs/poslovi-oglasi/core-platform-engineer/\" target=\"_blank\"><img src=\"http://startit.rs/wp-content/uploads/SBG-premium1.png\"/></a>\n",
       " <!--\n",
       " -->\n",
       " <!-- -->\n",
       " <div class=\"listing-oglas-premium-text\">\n",
       " <h1><a href=\"http://startit.rs/poslovi-oglasi/core-platform-engineer/\" target=\"_blank\">Core Platform Engineer</a></h1>\n",
       " <div class=\"listing-ime-firme\"><a href=\"http://sbgenomics.com/\" target=\"_blank\">Seven Bridges</a></div><div class=\"listing-ime-firme\" style=\"color: #999; \">do 25/05 · Beograd</div><small><a href=\"http://startit.rs/poslovi/aws-2\">AWS</a></small><small><a href=\"http://startit.rs/poslovi/java\">java</a></small><small><a href=\"http://startit.rs/poslovi/linux\">linux</a></small><small><a href=\"http://startit.rs/poslovi/python\">python</a></small> </div>\n",
       " </div>]"
      ]
     },
     "execution_count": 179,
     "metadata": {},
     "output_type": "execute_result"
    }
   ],
   "source": [
    "soup.find_all(\"div\", class_=\"listing-oglas-premium\")"
   ]
  },
  {
   "cell_type": "code",
   "execution_count": null,
   "metadata": {
    "collapsed": true
   },
   "outputs": [],
   "source": []
  }
 ],
 "metadata": {
  "kernelspec": {
   "display_name": "Python 2",
   "language": "python",
   "name": "python2"
  },
  "language_info": {
   "codemirror_mode": {
    "name": "ipython",
    "version": 2
   },
   "file_extension": ".py",
   "mimetype": "text/x-python",
   "name": "python",
   "nbconvert_exporter": "python",
   "pygments_lexer": "ipython2",
   "version": "2.7.11"
  }
 },
 "nbformat": 4,
 "nbformat_minor": 0
}
