{
 "cells": [
  {
   "cell_type": "code",
   "execution_count": 200,
   "metadata": {
    "collapsed": true
   },
   "outputs": [],
   "source": [
    "from bs4 import BeautifulSoup\n",
    "import requests, time\n",
    "import scrape_lib"
   ]
  },
  {
   "cell_type": "code",
   "execution_count": 201,
   "metadata": {
    "collapsed": false
   },
   "outputs": [],
   "source": [
    "url=\"http://startit.rs/poslovi/\"\n",
    "\n",
    "\n",
    "response = requests.get(url)\n",
    "\n",
    "result = response.content\n",
    "\n",
    "soup = BeautifulSoup(result, 'html.parser')"
   ]
  },
  {
   "cell_type": "code",
   "execution_count": 202,
   "metadata": {
    "collapsed": false
   },
   "outputs": [
    {
     "data": {
      "text/plain": [
       "<div class=\"listing-oglas-premium\">\n",
       "<a href=\"http://startit.rs/poslovi-oglasi/senior-ios-programer/\" target=\"_blank\"><img src=\"http://startit.rs/wp-content/uploads/mera-premium2.png\"/></a>\n",
       "<!--\n",
       "-->\n",
       "<!-- -->\n",
       "<div class=\"listing-oglas-premium-text\">\n",
       "<h1><a href=\"http://startit.rs/poslovi-oglasi/senior-ios-programer/\" target=\"_blank\">Senior iOS Programer</a></h1>\n",
       "<div class=\"listing-ime-firme\"><a href=\"http://startit.rs/kompanije/mera/\" target=\"_blank\"><span style=\"background: #ffff90; padding: 3px 5px 1px; border-bottom: 2px solid #ffde00; color: #000; font-style: none;\">MERA</span></a></div><div class=\"listing-ime-firme\" style=\"color: #999; \">do 27/05 ┬╖ Beograd</div><small><a href=\"http://startit.rs/poslovi/ios\">ios</a></small><small><a href=\"http://startit.rs/poslovi/mobile\">mobile</a></small><small><a href=\"http://startit.rs/poslovi/senior\">senior</a></small> </div>\n",
       "</div>"
      ]
     },
     "execution_count": 202,
     "metadata": {},
     "output_type": "execute_result"
    }
   ],
   "source": [
    "premium_oglasi = soup.find_all(\"div\", class_=\"listing-oglas-premium\")\n",
    "po = premium_oglasi[0]\n",
    "po"
   ]
  },
  {
   "cell_type": "code",
   "execution_count": 203,
   "metadata": {
    "collapsed": false
   },
   "outputs": [
    {
     "data": {
      "text/plain": [
       "[<a href=\"http://startit.rs/poslovi-oglasi/senior-ios-programer/\" target=\"_blank\"><img src=\"http://startit.rs/wp-content/uploads/mera-premium2.png\"/></a>,\n",
       " <a href=\"http://startit.rs/poslovi-oglasi/senior-ios-programer/\" target=\"_blank\">Senior iOS Programer</a>,\n",
       " <a href=\"http://startit.rs/kompanije/mera/\" target=\"_blank\"><span style=\"background: #ffff90; padding: 3px 5px 1px; border-bottom: 2px solid #ffde00; color: #000; font-style: none;\">MERA</span></a>,\n",
       " <a href=\"http://startit.rs/poslovi/ios\">ios</a>,\n",
       " <a href=\"http://startit.rs/poslovi/mobile\">mobile</a>,\n",
       " <a href=\"http://startit.rs/poslovi/senior\">senior</a>]"
      ]
     },
     "execution_count": 203,
     "metadata": {},
     "output_type": "execute_result"
    }
   ],
   "source": [
    "po.find_all('a')"
   ]
  },
  {
   "cell_type": "code",
   "execution_count": 204,
   "metadata": {
    "collapsed": false
   },
   "outputs": [],
   "source": [
    "#def get_position(pa):\n",
    "#    return pa.h1.get_text()\n",
    "\n",
    "#position = get_position(po)\n",
    "#position"
   ]
  },
  {
   "cell_type": "code",
   "execution_count": 205,
   "metadata": {
    "collapsed": false
   },
   "outputs": [],
   "source": [
    "firm_city = po.find_all('div',class_=\"listing-ime-firme\")"
   ]
  },
  {
   "cell_type": "code",
   "execution_count": 206,
   "metadata": {
    "collapsed": false
   },
   "outputs": [
    {
     "data": {
      "text/plain": [
       "u'MERA'"
      ]
     },
     "execution_count": 206,
     "metadata": {},
     "output_type": "execute_result"
    }
   ],
   "source": [
    "def get_firm(po):\n",
    "    firm_city = po.find_all('div',class_=\"listing-ime-firme\")\n",
    "    return firm_city[0].get_text()\n",
    "firm = get_firm(po)\n",
    "firm"
   ]
  },
  {
   "cell_type": "code",
   "execution_count": 207,
   "metadata": {
    "collapsed": false
   },
   "outputs": [
    {
     "data": {
      "text/plain": [
       "'Beograd'"
      ]
     },
     "execution_count": 207,
     "metadata": {},
     "output_type": "execute_result"
    }
   ],
   "source": [
    "def get_city(po):\n",
    "    firm_city = po.find_all('div',class_=\"listing-ime-firme\")\n",
    "    city = firm_city[1].get_text()\n",
    "    city = city.split(' ')[3:]\n",
    "    cities = \"\"\n",
    "    for c in city:\n",
    "        cities = cities+str(c)\n",
    "    return cities\n",
    "city = get_city(po)\n",
    "city"
   ]
  },
  {
   "cell_type": "code",
   "execution_count": 208,
   "metadata": {
    "collapsed": false
   },
   "outputs": [
    {
     "data": {
      "text/plain": [
       "'ios mobile senior '"
      ]
     },
     "execution_count": 208,
     "metadata": {},
     "output_type": "execute_result"
    }
   ],
   "source": [
    "def get_tags(po):\n",
    "    tags = po.find_all('a')[3:]\n",
    "    tag_str = \"\"\n",
    "    for tag in tags:\n",
    "        tag_str = tag_str + str(tag.get_text())+\" \"\n",
    "    tag_str = tag_str.lower()\n",
    "    return tag_str\n",
    "tags = get_tags(po)\n",
    "tags"
   ]
  },
  {
   "cell_type": "code",
   "execution_count": 209,
   "metadata": {
    "collapsed": false
   },
   "outputs": [
    {
     "data": {
      "text/plain": [
       "[<a href=\"http://startit.rs/poslovi-oglasi/senior-javascript-developer-2/\" target=\"_blank\"><img src=\"http://startit.rs/wp-content/uploads/ac-standard.png\"/></a>,\n",
       " <a href=\"http://startit.rs/poslovi-oglasi/senior-javascript-developer-2/\" target=\"_blank\">Senior JavaScript Developer</a>,\n",
       " <a href=\"https://activecollab.com/\" target=\"_blank\">A51</a>,\n",
       " <a href=\"http://startit.rs/poslovi/angular\">angular</a>,\n",
       " <a href=\"http://startit.rs/poslovi/frontend\">frontend</a>,\n",
       " <a href=\"http://startit.rs/poslovi/js\">js</a>,\n",
       " <a href=\"http://startit.rs/poslovi/json\">json</a>,\n",
       " <a href=\"http://startit.rs/poslovi/senior\">senior</a>,\n",
       " <a href=\"http://startit.rs/poslovi/socket-io\">socket io</a>,\n",
       " <a href=\"http://startit.rs/poslovi/sr\">sr</a>]"
      ]
     },
     "execution_count": 209,
     "metadata": {},
     "output_type": "execute_result"
    }
   ],
   "source": [
    "standard_adds = soup.find_all(\"div\", class_=\"listing-oglas-standard\")\n",
    "ad = standard_adds[0].find_all('a')\n",
    "ad"
   ]
  },
  {
   "cell_type": "code",
   "execution_count": 210,
   "metadata": {
    "collapsed": false
   },
   "outputs": [
    {
     "data": {
      "text/plain": [
       "u'Senior JavaScript Developer'"
      ]
     },
     "execution_count": 210,
     "metadata": {},
     "output_type": "execute_result"
    }
   ],
   "source": [
    "def get_position(ad):\n",
    "    return ad[1].get_text()\n",
    "pos = get_position(ad)\n",
    "pos"
   ]
  },
  {
   "cell_type": "code",
   "execution_count": 211,
   "metadata": {
    "collapsed": false
   },
   "outputs": [
    {
     "data": {
      "text/plain": [
       "u'A51'"
      ]
     },
     "execution_count": 211,
     "metadata": {},
     "output_type": "execute_result"
    }
   ],
   "source": [
    "def get_firm(ad):\n",
    "    return ad[2].get_text()\n",
    "firm = get_firm(ad)\n",
    "firm"
   ]
  },
  {
   "cell_type": "code",
   "execution_count": 212,
   "metadata": {
    "collapsed": false
   },
   "outputs": [
    {
     "data": {
      "text/plain": [
       "'angular frontend js json senior socket io sr '"
      ]
     },
     "execution_count": 212,
     "metadata": {},
     "output_type": "execute_result"
    }
   ],
   "source": [
    "def get_tags(ad):\n",
    "    tags = ad[3:]\n",
    "    tag_str = \"\"\n",
    "    for tag in tags:\n",
    "        tag_str = tag_str + str(tag.get_text())+\" \"\n",
    "    tag_str = tag_str.lower()\n",
    "    return tag_str\n",
    "tags = get_tags(ad)\n",
    "tags"
   ]
  },
  {
   "cell_type": "code",
   "execution_count": 213,
   "metadata": {
    "collapsed": false
   },
   "outputs": [
    {
     "data": {
      "text/plain": [
       "<div class=\"listing-oglas-standard\">\n",
       "<a href=\"http://startit.rs/poslovi-oglasi/senior-javascript-developer-2/\" target=\"_blank\"><img src=\"http://startit.rs/wp-content/uploads/ac-standard.png\"/></a>\n",
       "<!-- -->\n",
       "<div class=\"listing-oglas-standard-text\">\n",
       "<h1><a href=\"http://startit.rs/poslovi-oglasi/senior-javascript-developer-2/\" target=\"_blank\">Senior JavaScript Developer</a></h1>\n",
       "<div class=\"listing-ime-firme\"><a href=\"https://activecollab.com/\" target=\"_blank\">A51</a></div><div class=\"listing-ime-firme\" style=\"color: #999; \">do 27/05 ┬╖ Novi Sad</div><small><a href=\"http://startit.rs/poslovi/angular\">angular</a></small><small><a href=\"http://startit.rs/poslovi/frontend\">frontend</a></small><small><a href=\"http://startit.rs/poslovi/js\">js</a></small><small><a href=\"http://startit.rs/poslovi/json\">json</a></small><small><a href=\"http://startit.rs/poslovi/senior\">senior</a></small><small><a href=\"http://startit.rs/poslovi/socket-io\">socket io</a></small><small><a href=\"http://startit.rs/poslovi/sr\">sr</a></small>\n",
       "</div>\n",
       "</div>"
      ]
     },
     "execution_count": 213,
     "metadata": {},
     "output_type": "execute_result"
    }
   ],
   "source": [
    "standard_adds[0]"
   ]
  },
  {
   "cell_type": "code",
   "execution_count": 214,
   "metadata": {
    "collapsed": false
   },
   "outputs": [
    {
     "data": {
      "text/plain": [
       "'NoviSad'"
      ]
     },
     "execution_count": 214,
     "metadata": {},
     "output_type": "execute_result"
    }
   ],
   "source": [
    "get_city(standard_adds[0])"
   ]
  },
  {
   "cell_type": "code",
   "execution_count": 215,
   "metadata": {
    "collapsed": true
   },
   "outputs": [],
   "source": [
    "standard_adds_list = []\n"
   ]
  },
  {
   "cell_type": "code",
   "execution_count": 216,
   "metadata": {
    "collapsed": false
   },
   "outputs": [
    {
     "data": {
      "text/plain": [
       "[{'city': 'NoviSad',\n",
       "  'firm': u'A51',\n",
       "  'position': u'Senior JavaScript Developer',\n",
       "  'tags': 'angular frontend js json senior socket io sr '},\n",
       " {'city': 'Beograd',\n",
       "  'firm': u'Spark451',\n",
       "  'position': u'Back-End Web Developer',\n",
       "  'tags': 'backend laravel oop php symfony '},\n",
       " {'city': 'Beograd/NoviSad',\n",
       "  'firm': u'Ivy Exec',\n",
       "  'position': u'Senior PHP Software Developer',\n",
       "  'tags': 'javascript js mvc mysql php symphony zend '},\n",
       " {'city': 'Beograd',\n",
       "  'firm': u'Codebehind doo',\n",
       "  'position': u'Junior Web Developer',\n",
       "  'tags': 'css html javascript js nodejs '},\n",
       " {'city': 'Beograd',\n",
       "  'firm': u'Eontek',\n",
       "  'position': u'Web Designer',\n",
       "  'tags': 'css design dizajn html '},\n",
       " {'city': 'NoviSad/Beograd',\n",
       "  'firm': u'QA Cube',\n",
       "  'position': u'Senior Frontend Developer',\n",
       "  'tags': 'angularjs compass css3 frontend html5 js reactjs sass '},\n",
       " {'city': 'Beograd',\n",
       "  'firm': u'Cosmic Development',\n",
       "  'position': u'PHP Developer',\n",
       "  'tags': 'laravel mysql php '},\n",
       " {'city': 'Beograd',\n",
       "  'firm': u'New Frontier Innova',\n",
       "  'position': u'.NET Developer',\n",
       "  'tags': '.net csharp '},\n",
       " {'city': 'Beograd',\n",
       "  'firm': u'IMRepublic Inc',\n",
       "  'position': u'Web Developer',\n",
       "  'tags': 'js mysql php restful '},\n",
       " {'city': 'Beograd',\n",
       "  'firm': u'TeleTrader',\n",
       "  'position': u'Software Developer .NET / C#',\n",
       "  'tags': '.net csharp oop sql '}]"
      ]
     },
     "execution_count": 216,
     "metadata": {},
     "output_type": "execute_result"
    }
   ],
   "source": [
    "def get_ad_list(ad_type):\n",
    "    i = 0\n",
    "    for ad in standard_adds:\n",
    "        std_add_dict = {}\n",
    "        add = ad.find_all('a')\n",
    "        std_add_dict['position'] = get_position(add)\n",
    "        #print get_position(add)\n",
    "        std_add_dict['firm'] = get_firm(add)\n",
    "        #print get_firm(add)\n",
    "        std_add_dict['city'] = get_city(ad)\n",
    "        std_add_dict['tags'] = get_tags(add)\n",
    "        #print std_add_dict\n",
    "        standard_adds_list.append(std_add_dict)\n",
    "        #print standard_adds_list\n",
    "        #i = i+1\n",
    "        #print i\n",
    "    \n",
    "    return standard_adds_list\n",
    "\n",
    "k = get_ad_list(standard_adds)\n",
    "k"
   ]
  },
  {
   "cell_type": "code",
   "execution_count": 217,
   "metadata": {
    "collapsed": false
   },
   "outputs": [
    {
     "data": {
      "text/plain": [
       "[<a href=\"http://www.rt-rk.com/careers/open-positions\" target=\"_blank\">Automotive and Aerospace Software Developer</a>,\n",
       " <a href=\"http://startit.rs/poslovi/Novi Sad\">Novi Sad</a>,\n",
       " <a href=\"http://startit.rs/poslovi/cplusplus\">cplusplus</a>]"
      ]
     },
     "execution_count": 217,
     "metadata": {},
     "output_type": "execute_result"
    }
   ],
   "source": [
    "mini_adds = soup.find_all(\"div\", class_=\"oglas-mini\")\n",
    "ad = mini_adds[0].find_all('a')\n",
    "ad"
   ]
  },
  {
   "cell_type": "code",
   "execution_count": 218,
   "metadata": {
    "collapsed": false
   },
   "outputs": [
    {
     "data": {
      "text/plain": [
       "''"
      ]
     },
     "execution_count": 218,
     "metadata": {},
     "output_type": "execute_result"
    }
   ],
   "source": [
    "def get_city_s(ad):\n",
    "    return ad[1].get_text()\n",
    "def get_position_s(ad):\n",
    "    return ad[0].get_text()\n",
    "def get_tags_s(ad):\n",
    "    tags = ad[2:]\n",
    "    tag_str = \"\"\n",
    "    for tag in tags:\n",
    "        tag_str = tag_str + str(tag.get_text())+\" \"\n",
    "    tag_str = tag_str.lower()\n",
    "    return tag_str\n",
    "tags = get_tags(ad)\n",
    "tags"
   ]
  },
  {
   "cell_type": "code",
   "execution_count": 219,
   "metadata": {
    "collapsed": false
   },
   "outputs": [
    {
     "data": {
      "text/plain": [
       "u'Novi Sad'"
      ]
     },
     "execution_count": 219,
     "metadata": {},
     "output_type": "execute_result"
    }
   ],
   "source": [
    "k = get_city_s(ad)\n",
    "k"
   ]
  },
  {
   "cell_type": "code",
   "execution_count": 220,
   "metadata": {
    "collapsed": false
   },
   "outputs": [
    {
     "data": {
      "text/plain": [
       "u'Automotive and Aerospace Software Developer'"
      ]
     },
     "execution_count": 220,
     "metadata": {},
     "output_type": "execute_result"
    }
   ],
   "source": [
    "get_position_s(ad)"
   ]
  },
  {
   "cell_type": "code",
   "execution_count": 221,
   "metadata": {
    "collapsed": false
   },
   "outputs": [
    {
     "data": {
      "text/plain": [
       "u'RT-RK'"
      ]
     },
     "execution_count": 221,
     "metadata": {},
     "output_type": "execute_result"
    }
   ],
   "source": [
    "mini_adds = soup.find_all(\"div\", class_=\"oglas-mini\")\n",
    "#mini_adds[0].find('div',class_=\"oglas-mini-header\").get_text\n",
    "def get_firm_s(ad):\n",
    "    return ad.find('div',class_=\"oglas-mini-header\").get_text()\n",
    "get_firm_s(mini_adds[0])"
   ]
  },
  {
   "cell_type": "code",
   "execution_count": 222,
   "metadata": {
    "collapsed": false
   },
   "outputs": [],
   "source": [
    "def find_ads(css_class_name, soup):\n",
    "    return soup.find_all(\"div\", class_=\"css_class_name\")\n",
    "\n",
    "premium_ads = soup.find_all(\"div\", class_=\"listing-oglas-premium\")\n",
    "standard_ads = soup.find_all(\"div\", class_=\"listing-oglas-standard\")\n",
    "mini_ads = soup.find_all(\"div\", class_=\"oglas-mini\")"
   ]
  },
  {
   "cell_type": "code",
   "execution_count": 224,
   "metadata": {
    "collapsed": false
   },
   "outputs": [
    {
     "data": {
      "text/plain": [
       "'.'"
      ]
     },
     "execution_count": 224,
     "metadata": {},
     "output_type": "execute_result"
    }
   ],
   "source": [
    "import os\n",
    "os.curdir"
   ]
  },
  {
   "cell_type": "code",
   "execution_count": 239,
   "metadata": {
    "collapsed": true
   },
   "outputs": [],
   "source": [
    "f = open('fajl2.txt','w+')"
   ]
  },
  {
   "cell_type": "code",
   "execution_count": 240,
   "metadata": {
    "collapsed": true
   },
   "outputs": [],
   "source": [
    "f.write(\"cevap\")"
   ]
  },
  {
   "cell_type": "code",
   "execution_count": 259,
   "metadata": {
    "collapsed": false
   },
   "outputs": [],
   "source": [
    "for p in premium_ads:\n",
    "    print \"mrs\""
   ]
  },
  {
   "cell_type": "code",
   "execution_count": 245,
   "metadata": {
    "collapsed": false
   },
   "outputs": [
    {
     "data": {
      "text/plain": [
       "4"
      ]
     },
     "execution_count": 245,
     "metadata": {},
     "output_type": "execute_result"
    }
   ],
   "source": [
    "2+2"
   ]
  },
  {
   "cell_type": "code",
   "execution_count": 246,
   "metadata": {
    "collapsed": false
   },
   "outputs": [
    {
     "data": {
      "text/plain": [
       "<method 'ctime' of 'datetime.date' objects>"
      ]
     },
     "execution_count": 246,
     "metadata": {},
     "output_type": "execute_result"
    }
   ],
   "source": [
    "from datetime import date\n",
    "date.ctime"
   ]
  },
  {
   "cell_type": "code",
   "execution_count": 247,
   "metadata": {
    "collapsed": false
   },
   "outputs": [],
   "source": [
    "d = date.today()\n",
    "print d"
   ]
  },
  {
   "cell_type": "code",
   "execution_count": 248,
   "metadata": {
    "collapsed": false
   },
   "outputs": [
    {
     "data": {
      "text/plain": [
       "'09/05/16'"
      ]
     },
     "execution_count": 248,
     "metadata": {},
     "output_type": "execute_result"
    }
   ],
   "source": [
    "d.strftime(\"%d/%m/%y\")"
   ]
  },
  {
   "cell_type": "code",
   "execution_count": 249,
   "metadata": {
    "collapsed": false
   },
   "outputs": [],
   "source": [
    "from datetime import date\n",
    "\n",
    "def curent_date_str():\n",
    "    d = date.today()\n",
    "    d = d.strftime(\"%d/%m/%y\")\n",
    "    return d\n",
    "k = curent_date_str()"
   ]
  },
  {
   "cell_type": "code",
   "execution_count": 250,
   "metadata": {
    "collapsed": false
   },
   "outputs": [
    {
     "data": {
      "text/plain": [
       "'09/05/16'"
      ]
     },
     "execution_count": 250,
     "metadata": {},
     "output_type": "execute_result"
    }
   ],
   "source": [
    "k"
   ]
  },
  {
   "cell_type": "code",
   "execution_count": 252,
   "metadata": {
    "collapsed": false
   },
   "outputs": [],
   "source": [
    "f = open(\"fajl3.txt\",'w+')"
   ]
  },
  {
   "cell_type": "code",
   "execution_count": 257,
   "metadata": {
    "collapsed": false
   },
   "outputs": [],
   "source": [
    "\n",
    "print 1\n",
    "for pa in premium_ads:\n",
    "    k = pa.find_all('a')\n",
    "    firm_city = po.find_all('div',class_=\"listing-ime-firme\")\n",
    "    print \"1\"\n",
    "    print str(get_position(k))+\"1\"\n",
    "    f.write(get_position(k))"
   ]
  },
  {
   "cell_type": "code",
   "execution_count": null,
   "metadata": {
    "collapsed": false
   },
   "outputs": [],
   "source": [
    "2+2"
   ]
  },
  {
   "cell_type": "code",
   "execution_count": 258,
   "metadata": {
    "collapsed": true
   },
   "outputs": [],
   "source": [
    "for pa in premium_ads:\n",
    "    k = pa.find_all('a')\n",
    "    firm_city = po.find_all('div',class_=\"listing-ime-firme\")\n",
    "    print \"1\""
   ]
  },
  {
   "cell_type": "code",
   "execution_count": null,
   "metadata": {
    "collapsed": true
   },
   "outputs": [],
   "source": [
    "for i in range"
   ]
  }
 ],
 "metadata": {
  "kernelspec": {
   "display_name": "Python 2",
   "language": "python",
   "name": "python2"
  },
  "language_info": {
   "codemirror_mode": {
    "name": "ipython",
    "version": 2
   },
   "file_extension": ".py",
   "mimetype": "text/x-python",
   "name": "python",
   "nbconvert_exporter": "python",
   "pygments_lexer": "ipython2",
   "version": "2.7.11"
  }
 },
 "nbformat": 4,
 "nbformat_minor": 0
}
