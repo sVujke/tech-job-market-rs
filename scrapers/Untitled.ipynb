{
 "cells": [
  {
   "cell_type": "code",
   "execution_count": 1,
   "metadata": {
    "collapsed": true
   },
   "outputs": [],
   "source": [
    "from bs4 import BeautifulSoup\n",
    "import requests, time\n",
    "import scrape_lib"
   ]
  },
  {
   "cell_type": "code",
   "execution_count": 2,
   "metadata": {
    "collapsed": true
   },
   "outputs": [],
   "source": [
    "url=\"http://startit.rs/poslovi/\"\n",
    "\n",
    "\n",
    "response = requests.get(url)\n",
    "\n",
    "result = response.content\n",
    "\n",
    "soup = BeautifulSoup(result, 'html.parser')"
   ]
  },
  {
   "cell_type": "code",
   "execution_count": 3,
   "metadata": {
    "collapsed": false
   },
   "outputs": [
    {
     "data": {
      "text/plain": [
       "<div class=\"listing-oglas-premium\">\n",
       "<a href=\"http://startit.rs/poslovi-oglasi/ruby-engineer-supplyframe/\" target=\"_blank\"><img src=\"http://startit.rs/wp-content/uploads/supplyframe2.jpg\"/></a>\n",
       "<!--\n",
       "-->\n",
       "<!-- -->\n",
       "<div class=\"listing-oglas-premium-text\">\n",
       "<h1><a href=\"http://startit.rs/poslovi-oglasi/ruby-engineer-supplyframe/\" target=\"_blank\">Ruby Engineer</a></h1>\n",
       "<div class=\"listing-ime-firme\"><a href=\"http://supplyframe.com/\" target=\"_blank\">SupplyFrame</a></div><div class=\"listing-ime-firme\" style=\"color: #999; \">do 05/06 · Beograd</div><small><a href=\"http://startit.rs/poslovi/padrino\">Padrino</a></small><small><a href=\"http://startit.rs/poslovi/ruby\">ruby</a></small><small><a href=\"http://startit.rs/poslovi/rubyonrails\">RubyOnRails</a></small><small><a href=\"http://startit.rs/poslovi/sinatra\">Sinatra</a></small> </div>\n",
       "</div>"
      ]
     },
     "execution_count": 3,
     "metadata": {},
     "output_type": "execute_result"
    }
   ],
   "source": [
    "premium_oglasi = soup.find_all(\"div\", class_=\"listing-oglas-premium\")\n",
    "po = premium_oglasi[0]\n",
    "po"
   ]
  },
  {
   "cell_type": "code",
   "execution_count": 39,
   "metadata": {
    "collapsed": false
   },
   "outputs": [
    {
     "data": {
      "text/plain": [
       "u'Ruby Engineer'"
      ]
     },
     "execution_count": 39,
     "metadata": {},
     "output_type": "execute_result"
    }
   ],
   "source": [
    "def get_position(pa):\n",
    "    return pa.h1.get_text()\n",
    "\n",
    "position = get_position(po)\n",
    "position"
   ]
  },
  {
   "cell_type": "code",
   "execution_count": 19,
   "metadata": {
    "collapsed": false
   },
   "outputs": [],
   "source": [
    "firm_city = po.find_all('div',class_=\"listing-ime-firme\")"
   ]
  },
  {
   "cell_type": "code",
   "execution_count": 41,
   "metadata": {
    "collapsed": false
   },
   "outputs": [
    {
     "data": {
      "text/plain": [
       "u'SupplyFrame'"
      ]
     },
     "execution_count": 41,
     "metadata": {},
     "output_type": "execute_result"
    }
   ],
   "source": [
    "def get_firm(firm_city):\n",
    "    return firm_city[0].get_text()\n",
    "firm = get_firm(firm_city)\n",
    "firm"
   ]
  },
  {
   "cell_type": "code",
   "execution_count": 84,
   "metadata": {
    "collapsed": false
   },
   "outputs": [
    {
     "data": {
      "text/plain": [
       "'Beograd'"
      ]
     },
     "execution_count": 84,
     "metadata": {},
     "output_type": "execute_result"
    }
   ],
   "source": [
    "def get_city(po):\n",
    "    firm_city = po.find_all('div',class_=\"listing-ime-firme\")\n",
    "    city = firm_city[1].get_text()\n",
    "    city = city.split(' ')[3:]\n",
    "    cities = \"\"\n",
    "    for c in city:\n",
    "        cities = cities+str(c)\n",
    "    return cities\n",
    "city = get_city(po)\n",
    "city"
   ]
  },
  {
   "cell_type": "code",
   "execution_count": 60,
   "metadata": {
    "collapsed": false
   },
   "outputs": [
    {
     "data": {
      "text/plain": [
       "'Padrino ruby RubyOnRails Sinatra '"
      ]
     },
     "execution_count": 60,
     "metadata": {},
     "output_type": "execute_result"
    }
   ],
   "source": [
    "def get_tags(po):\n",
    "    tags = po.find_all('a')[3:]\n",
    "    tag_str = \"\"\n",
    "    for tag in tags:\n",
    "        tag_str = tag_str + str(tag.get_text())+\" \"\n",
    "    return tag_str\n",
    "tags = get_tags(po)\n",
    "tags"
   ]
  },
  {
   "cell_type": "code",
   "execution_count": 61,
   "metadata": {
    "collapsed": false
   },
   "outputs": [
    {
     "name": "stdout",
     "output_type": "stream",
     "text": [
      "0 Ruby Engineer SupplyFrame Beograd Padrino ruby RubyOnRails Sinatra \n",
      "\n",
      "1 Customer Support Specialist CCBill Beograd linux support \n",
      "\n",
      "2 JavaScript Engineer Seven Bridges  Beograd angular backbone canvas frontend js marionette node sass \n",
      "\n",
      "3 Frontend Engineer  (HTML/CSS/JS) f/m Namics Beograd css frontend html js \n",
      "\n",
      "4 Backend Web Developer Spoiled Milk Beograd backend js php symfony \n",
      "\n",
      "5 Software Engineer Java Senior f/m Namics Beograd aem j2ee java spring \n",
      "\n",
      "6 Java Developer Eyefreight Beograd git hibernate java scrum spring \n",
      "\n",
      "7 Senior Front End Developer Humanity Inc. Beograd angular frontend js optimization saas senior \n",
      "\n",
      "8 Data Visualization Engineer Seven Bridges  Beograd javascript js visualization \n",
      "\n",
      "9 Senior Software Architect CCBill NoviSad html java js mysql oop spring uml \n",
      "\n",
      "10 Android Engineer Endava Beograd android cplusplus java mobile \n",
      "\n",
      "11 Software Engineer Java ­ Mid-level f/m Namics Beograd aem java spring \n",
      "\n",
      "12 IT Technical Writer CCBill NoviSad/Beograd journalism writer \n",
      "\n",
      "13 QA Engineer Seven Bridges  Beograd python qa testing \n",
      "\n",
      "14 Integration Specialist Centili Beograd frontend http integration sql \n",
      "\n",
      "15 Web Designer/Developer Seven Bridges  Beograd css design dizajn html \n",
      "\n",
      "16 JavaScript Developer Vast Beograd frontend js \n",
      "\n",
      "17 Desktop Support Technician CCBill Beograd administration installation support technician test \n",
      "\n",
      "18 Datacenter Automation Developer CCBill Beograd,NoviSad java mysql php sql \n",
      "\n",
      "19 Python Developer Seven Bridges  Beograd django python \n",
      "\n",
      "20 Senior iOS Programer MERA Beograd ios mobile senior \n",
      "\n",
      "21 Mid-Level Javascript Developer Toschas Beograd AngularJS frontend js nodejs \n",
      "\n",
      "22 Senior Software (Java) Developer CCBill NoviSad/Beograd html java jquery js \n",
      "\n",
      "23 Java Software Engineer Centili Beograd backend java JavaEE \n",
      "\n",
      "24 Mid-Level Ruby on Rails Developer Toschas Beograd rest ruby Ruby on Rails \n",
      "\n",
      "25 Senior Web Application Developer CCBill NoviSad/Beograd AngularJS css3 frontend html5 javascript jquery js scrum \n",
      "\n",
      "26 Art Director Online (f/m) Namics Beograd css dizajn html js \n",
      "\n",
      "27 Senior C++ Software Developer Endava Beograd boost c++ cplusplus senior \n",
      "\n",
      "28 Software Engineer .NET ­ Senior  f/m Namics Beograd .net senior Sitecore \n",
      "\n",
      "29 SEO / Organic Search Specialist DMO Investments Beograd marketing SEO \n",
      "\n",
      "30 Senior PHP Developer esome advertising technologies d.o.o. Beograd AngularJS js nodejs php senior \n",
      "\n",
      "31 Bioinformatics Engineer Seven Bridges Genomics Beograd analysis bioinformatika python \n",
      "\n",
      "32 Engineer — Intern Endava Beograd android cplusplus csharp ios java mobile \n",
      "\n",
      "33 Senior Active Directory Systems Engineer CCBill NoviSad/Beograd infrastructure Powershell security senior \n",
      "\n",
      "34 iOS Software Developer Endava Beograd ios mobile objective-c \n",
      "\n",
      "35 R&D Software Engineer Seven Bridges  Beograd c++ cplusplus \n",
      "\n",
      "36 Technical Lead .NET f/m Namics Beograd .net lead senior Sitecore \n",
      "\n",
      "37 Core Platform Engineer Seven Bridges Beograd AWS java linux python \n",
      "\n"
     ]
    }
   ],
   "source": [
    "premium_adds = soup.find_all(\"div\", class_=\"listing-oglas-premium\")\n",
    "for pa in premium_adds:\n",
    "    firm_city = pa.find_all('div',class_=\"listing-ime-firme\")\n",
    "    print str(premium_adds.index(pa))+\" \"+get_position(pa)+\" \"+get_firm(firm_city)+\" \"+get_city(firm_city)+\" \"+get_tags(pa)+\"\\n\""
   ]
  },
  {
   "cell_type": "code",
   "execution_count": 88,
   "metadata": {
    "collapsed": false
   },
   "outputs": [
    {
     "data": {
      "text/plain": [
       "[<a href=\"http://startit.rs/poslovi-oglasi/junior-web-developer-codebehind/\" target=\"_blank\"><img src=\"http://startit.rs/wp-content/uploads/codebehind-standard.png\"/></a>,\n",
       " <a href=\"http://startit.rs/poslovi-oglasi/junior-web-developer-codebehind/\" target=\"_blank\">Junior Web Developer</a>,\n",
       " <a href=\"http://codebehind.rs/\" target=\"_blank\">Codebehind doo</a>,\n",
       " <a href=\"http://startit.rs/poslovi/css\">css</a>,\n",
       " <a href=\"http://startit.rs/poslovi/html\">html</a>,\n",
       " <a href=\"http://startit.rs/poslovi/javascript\">javascript</a>,\n",
       " <a href=\"http://startit.rs/poslovi/js\">js</a>,\n",
       " <a href=\"http://startit.rs/poslovi/nodejs\">nodejs</a>]"
      ]
     },
     "execution_count": 88,
     "metadata": {},
     "output_type": "execute_result"
    }
   ],
   "source": [
    "standard_adds = soup.find_all(\"div\", class_=\"listing-oglas-standard\")\n",
    "ad = standard_adds[0].find_all('a')\n",
    "ad"
   ]
  },
  {
   "cell_type": "code",
   "execution_count": 80,
   "metadata": {
    "collapsed": false
   },
   "outputs": [
    {
     "data": {
      "text/plain": [
       "u'do 18/05 \\xb7 Beograd'"
      ]
     },
     "execution_count": 80,
     "metadata": {},
     "output_type": "execute_result"
    }
   ],
   "source": [
    "firm_city = "
   ]
  },
  {
   "cell_type": "code",
   "execution_count": 89,
   "metadata": {
    "collapsed": false
   },
   "outputs": [
    {
     "data": {
      "text/plain": [
       "u'Junior Web Developer'"
      ]
     },
     "execution_count": 89,
     "metadata": {},
     "output_type": "execute_result"
    }
   ],
   "source": [
    "def get_position(ad):\n",
    "    return ad[1].get_text()\n",
    "pos = get_position(ad)\n",
    "pos"
   ]
  },
  {
   "cell_type": "code",
   "execution_count": 90,
   "metadata": {
    "collapsed": false
   },
   "outputs": [
    {
     "data": {
      "text/plain": [
       "u'Codebehind doo'"
      ]
     },
     "execution_count": 90,
     "metadata": {},
     "output_type": "execute_result"
    }
   ],
   "source": [
    "def get_firm(ad):\n",
    "    return ad[2].get_text()\n",
    "firm = get_firm(ad)\n",
    "firm"
   ]
  },
  {
   "cell_type": "code",
   "execution_count": 91,
   "metadata": {
    "collapsed": false
   },
   "outputs": [
    {
     "data": {
      "text/plain": [
       "'css html javascript js nodejs '"
      ]
     },
     "execution_count": 91,
     "metadata": {},
     "output_type": "execute_result"
    }
   ],
   "source": [
    "def get_tags(ad):\n",
    "    tags = ad[3:]\n",
    "    tag_str = \"\"\n",
    "    for tag in tags:\n",
    "        tag_str = tag_str + str(tag.get_text())+\" \"\n",
    "    tag_str = tag_str.lower()\n",
    "    return tag_str\n",
    "tags = get_tags(ad)\n",
    "tags"
   ]
  },
  {
   "cell_type": "code",
   "execution_count": 93,
   "metadata": {
    "collapsed": false
   },
   "outputs": [
    {
     "data": {
      "text/plain": [
       "<div class=\"listing-oglas-standard\">\n",
       "<a href=\"http://startit.rs/poslovi-oglasi/junior-web-developer-codebehind/\" target=\"_blank\"><img src=\"http://startit.rs/wp-content/uploads/codebehind-standard.png\"/></a>\n",
       "<!-- -->\n",
       "<div class=\"listing-oglas-standard-text\">\n",
       "<h1><a href=\"http://startit.rs/poslovi-oglasi/junior-web-developer-codebehind/\" target=\"_blank\">Junior Web Developer</a></h1>\n",
       "<div class=\"listing-ime-firme\"><a href=\"http://codebehind.rs/\" target=\"_blank\">Codebehind doo</a></div><div class=\"listing-ime-firme\" style=\"color: #999; \">do 18/05 · Beograd</div><small><a href=\"http://startit.rs/poslovi/css\">css</a></small><small><a href=\"http://startit.rs/poslovi/html\">html</a></small><small><a href=\"http://startit.rs/poslovi/javascript\">javascript</a></small><small><a href=\"http://startit.rs/poslovi/js\">js</a></small><small><a href=\"http://startit.rs/poslovi/nodejs\">nodejs</a></small>\n",
       "</div>\n",
       "</div>"
      ]
     },
     "execution_count": 93,
     "metadata": {},
     "output_type": "execute_result"
    }
   ],
   "source": [
    "standard_adds[0]"
   ]
  },
  {
   "cell_type": "code",
   "execution_count": 94,
   "metadata": {
    "collapsed": false
   },
   "outputs": [
    {
     "data": {
      "text/plain": [
       "'Beograd'"
      ]
     },
     "execution_count": 94,
     "metadata": {},
     "output_type": "execute_result"
    }
   ],
   "source": [
    "get_city(standard_adds[0])"
   ]
  },
  {
   "cell_type": "code",
   "execution_count": 118,
   "metadata": {
    "collapsed": true
   },
   "outputs": [],
   "source": [
    "standard_adds_list = []\n"
   ]
  },
  {
   "cell_type": "code",
   "execution_count": 122,
   "metadata": {
    "collapsed": false
   },
   "outputs": [
    {
     "data": {
      "text/plain": [
       "[{'city': 'Beograd',\n",
       "  'firm': u'Codebehind doo',\n",
       "  'position': u'Junior Web Developer',\n",
       "  'tags': 'css html javascript js nodejs '},\n",
       " {'city': 'Beograd',\n",
       "  'firm': u'Eontek',\n",
       "  'position': u'Web Designer',\n",
       "  'tags': 'css design dizajn html '},\n",
       " {'city': 'NoviSad/Beograd',\n",
       "  'firm': u'QA Cube',\n",
       "  'position': u'Senior Frontend Developer',\n",
       "  'tags': 'angularjs compass css3 frontend html5 js reactjs sass '},\n",
       " {'city': 'Beograd',\n",
       "  'firm': u'TeleTrader',\n",
       "  'position': u'Software Developer .NET / C#',\n",
       "  'tags': '.net csharp oop sql '},\n",
       " {'city': 'Beograd',\n",
       "  'firm': u'IMRepublic Inc',\n",
       "  'position': u'Web Developer',\n",
       "  'tags': 'js mysql php restful '},\n",
       " {'city': 'NoviSad',\n",
       "  'firm': u'A51',\n",
       "  'position': u'Senior JavaScript Developer',\n",
       "  'tags': 'angular frontend js json senior socket io sr '},\n",
       " {'city': 'Beograd',\n",
       "  'firm': u'Presta',\n",
       "  'position': u'.NET Developer',\n",
       "  'tags': '.net csharp '},\n",
       " {'city': 'Beograd',\n",
       "  'firm': u'New Frontier Innova',\n",
       "  'position': u'.NET Developer',\n",
       "  'tags': '.net csharp '},\n",
       " {'city': 'Beograd/NoviSad',\n",
       "  'firm': u'Ivy Exec',\n",
       "  'position': u'Senior PHP Software Developer',\n",
       "  'tags': 'javascript js mvc mysql php symphony zend '},\n",
       " {'city': 'Beograd',\n",
       "  'firm': u'Cosmic Development',\n",
       "  'position': u'PHP Developer',\n",
       "  'tags': 'laravel mysql php '},\n",
       " {'city': 'Beograd',\n",
       "  'firm': u'Vast',\n",
       "  'position': u'Software Engineer',\n",
       "  'tags': 'analytics big data java linux unix '},\n",
       " {'city': 'Beograd',\n",
       "  'firm': u'Codebehind doo',\n",
       "  'position': u'Junior Web Developer',\n",
       "  'tags': 'css html javascript js nodejs '},\n",
       " {'city': 'Beograd',\n",
       "  'firm': u'Eontek',\n",
       "  'position': u'Web Designer',\n",
       "  'tags': 'css design dizajn html '},\n",
       " {'city': 'NoviSad/Beograd',\n",
       "  'firm': u'QA Cube',\n",
       "  'position': u'Senior Frontend Developer',\n",
       "  'tags': 'angularjs compass css3 frontend html5 js reactjs sass '},\n",
       " {'city': 'Beograd',\n",
       "  'firm': u'TeleTrader',\n",
       "  'position': u'Software Developer .NET / C#',\n",
       "  'tags': '.net csharp oop sql '},\n",
       " {'city': 'Beograd',\n",
       "  'firm': u'IMRepublic Inc',\n",
       "  'position': u'Web Developer',\n",
       "  'tags': 'js mysql php restful '},\n",
       " {'city': 'NoviSad',\n",
       "  'firm': u'A51',\n",
       "  'position': u'Senior JavaScript Developer',\n",
       "  'tags': 'angular frontend js json senior socket io sr '},\n",
       " {'city': 'Beograd',\n",
       "  'firm': u'Presta',\n",
       "  'position': u'.NET Developer',\n",
       "  'tags': '.net csharp '},\n",
       " {'city': 'Beograd',\n",
       "  'firm': u'New Frontier Innova',\n",
       "  'position': u'.NET Developer',\n",
       "  'tags': '.net csharp '},\n",
       " {'city': 'Beograd/NoviSad',\n",
       "  'firm': u'Ivy Exec',\n",
       "  'position': u'Senior PHP Software Developer',\n",
       "  'tags': 'javascript js mvc mysql php symphony zend '},\n",
       " {'city': 'Beograd',\n",
       "  'firm': u'Cosmic Development',\n",
       "  'position': u'PHP Developer',\n",
       "  'tags': 'laravel mysql php '},\n",
       " {'city': 'Beograd',\n",
       "  'firm': u'Vast',\n",
       "  'position': u'Software Engineer',\n",
       "  'tags': 'analytics big data java linux unix '},\n",
       " {'city': 'Beograd',\n",
       "  'firm': u'Codebehind doo',\n",
       "  'position': u'Junior Web Developer',\n",
       "  'tags': 'css html javascript js nodejs '},\n",
       " {'city': 'Beograd',\n",
       "  'firm': u'Eontek',\n",
       "  'position': u'Web Designer',\n",
       "  'tags': 'css design dizajn html '},\n",
       " {'city': 'NoviSad/Beograd',\n",
       "  'firm': u'QA Cube',\n",
       "  'position': u'Senior Frontend Developer',\n",
       "  'tags': 'angularjs compass css3 frontend html5 js reactjs sass '},\n",
       " {'city': 'Beograd',\n",
       "  'firm': u'TeleTrader',\n",
       "  'position': u'Software Developer .NET / C#',\n",
       "  'tags': '.net csharp oop sql '},\n",
       " {'city': 'Beograd',\n",
       "  'firm': u'IMRepublic Inc',\n",
       "  'position': u'Web Developer',\n",
       "  'tags': 'js mysql php restful '},\n",
       " {'city': 'NoviSad',\n",
       "  'firm': u'A51',\n",
       "  'position': u'Senior JavaScript Developer',\n",
       "  'tags': 'angular frontend js json senior socket io sr '},\n",
       " {'city': 'Beograd',\n",
       "  'firm': u'Presta',\n",
       "  'position': u'.NET Developer',\n",
       "  'tags': '.net csharp '},\n",
       " {'city': 'Beograd',\n",
       "  'firm': u'New Frontier Innova',\n",
       "  'position': u'.NET Developer',\n",
       "  'tags': '.net csharp '},\n",
       " {'city': 'Beograd/NoviSad',\n",
       "  'firm': u'Ivy Exec',\n",
       "  'position': u'Senior PHP Software Developer',\n",
       "  'tags': 'javascript js mvc mysql php symphony zend '},\n",
       " {'city': 'Beograd',\n",
       "  'firm': u'Cosmic Development',\n",
       "  'position': u'PHP Developer',\n",
       "  'tags': 'laravel mysql php '},\n",
       " {'city': 'Beograd',\n",
       "  'firm': u'Vast',\n",
       "  'position': u'Software Engineer',\n",
       "  'tags': 'analytics big data java linux unix '},\n",
       " {'city': 'Beograd',\n",
       "  'firm': u'Codebehind doo',\n",
       "  'position': u'Junior Web Developer',\n",
       "  'tags': 'css html javascript js nodejs '},\n",
       " {'city': 'Beograd',\n",
       "  'firm': u'Eontek',\n",
       "  'position': u'Web Designer',\n",
       "  'tags': 'css design dizajn html '},\n",
       " {'city': 'NoviSad/Beograd',\n",
       "  'firm': u'QA Cube',\n",
       "  'position': u'Senior Frontend Developer',\n",
       "  'tags': 'angularjs compass css3 frontend html5 js reactjs sass '},\n",
       " {'city': 'Beograd',\n",
       "  'firm': u'TeleTrader',\n",
       "  'position': u'Software Developer .NET / C#',\n",
       "  'tags': '.net csharp oop sql '},\n",
       " {'city': 'Beograd',\n",
       "  'firm': u'IMRepublic Inc',\n",
       "  'position': u'Web Developer',\n",
       "  'tags': 'js mysql php restful '},\n",
       " {'city': 'NoviSad',\n",
       "  'firm': u'A51',\n",
       "  'position': u'Senior JavaScript Developer',\n",
       "  'tags': 'angular frontend js json senior socket io sr '},\n",
       " {'city': 'Beograd',\n",
       "  'firm': u'Presta',\n",
       "  'position': u'.NET Developer',\n",
       "  'tags': '.net csharp '},\n",
       " {'city': 'Beograd',\n",
       "  'firm': u'New Frontier Innova',\n",
       "  'position': u'.NET Developer',\n",
       "  'tags': '.net csharp '},\n",
       " {'city': 'Beograd/NoviSad',\n",
       "  'firm': u'Ivy Exec',\n",
       "  'position': u'Senior PHP Software Developer',\n",
       "  'tags': 'javascript js mvc mysql php symphony zend '},\n",
       " {'city': 'Beograd',\n",
       "  'firm': u'Cosmic Development',\n",
       "  'position': u'PHP Developer',\n",
       "  'tags': 'laravel mysql php '},\n",
       " {'city': 'Beograd',\n",
       "  'firm': u'Vast',\n",
       "  'position': u'Software Engineer',\n",
       "  'tags': 'analytics big data java linux unix '}]"
      ]
     },
     "execution_count": 122,
     "metadata": {},
     "output_type": "execute_result"
    }
   ],
   "source": [
    "def get_ad_list(ad_type):\n",
    "    i = 0\n",
    "    for ad in standard_adds:\n",
    "        std_add_dict = {}\n",
    "        add = ad.find_all('a')\n",
    "        std_add_dict['position'] = get_position(add)\n",
    "        #print get_position(add)\n",
    "        std_add_dict['firm'] = get_firm(add)\n",
    "        #print get_firm(add)\n",
    "        std_add_dict['city'] = get_city(ad)\n",
    "        std_add_dict['tags'] = get_tags(add)\n",
    "        #print std_add_dict\n",
    "        standard_adds_list.append(std_add_dict)\n",
    "        #print standard_adds_list\n",
    "        #i = i+1\n",
    "        #print i\n",
    "    \n",
    "    return standard_adds_list\n",
    "\n",
    "k = get_ad_list(standard_adds)\n",
    "k"
   ]
  },
  {
   "cell_type": "code",
   "execution_count": null,
   "metadata": {
    "collapsed": true
   },
   "outputs": [],
   "source": []
  }
 ],
 "metadata": {
  "kernelspec": {
   "display_name": "Python 2",
   "language": "python",
   "name": "python2"
  },
  "language_info": {
   "codemirror_mode": {
    "name": "ipython",
    "version": 2
   },
   "file_extension": ".py",
   "mimetype": "text/x-python",
   "name": "python",
   "nbconvert_exporter": "python",
   "pygments_lexer": "ipython2",
   "version": "2.7.11"
  }
 },
 "nbformat": 4,
 "nbformat_minor": 0
}
