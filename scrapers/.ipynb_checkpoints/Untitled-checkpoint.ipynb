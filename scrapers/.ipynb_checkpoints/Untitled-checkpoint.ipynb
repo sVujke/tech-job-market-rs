{
 "cells": [
  {
   "cell_type": "code",
   "execution_count": 1,
   "metadata": {
    "collapsed": true
   },
   "outputs": [],
   "source": [
    "from bs4 import BeautifulSoup\n",
    "import requests, time\n",
    "import scrape_lib"
   ]
  },
  {
   "cell_type": "code",
   "execution_count": 2,
   "metadata": {
    "collapsed": false
   },
   "outputs": [],
   "source": [
    "url=\"http://startit.rs/poslovi/\"\n",
    "\n",
    "\n",
    "response = requests.get(url)\n",
    "\n",
    "result = response.content\n",
    "\n",
    "soup = BeautifulSoup(result, 'html.parser')"
   ]
  },
  {
   "cell_type": "code",
   "execution_count": 3,
   "metadata": {
    "collapsed": false
   },
   "outputs": [
    {
     "data": {
      "text/plain": [
       "<div class=\"listing-oglas-premium\">\n",
       "<a href=\"http://startit.rs/poslovi-oglasi/software-engineer-java-mid-level-namics/\" target=\"_blank\"><img src=\"http://startit.rs/wp-content/uploads/namics-premium1.png\"/></a>\n",
       "<!--\n",
       "-->\n",
       "<!-- -->\n",
       "<div class=\"listing-oglas-premium-text\">\n",
       "<h1><a href=\"http://startit.rs/poslovi-oglasi/software-engineer-java-mid-level-namics/\" target=\"_blank\">Software Engineer Java ­ Mid-level f/m</a></h1>\n",
       "<div class=\"listing-ime-firme\"><a href=\"http://startit.rs/?post_type=page&amp;p=36841\" target=\"_blank\"><span style=\"background: #ffff90; padding: 3px 5px 1px; border-bottom: 2px solid #ffde00; color: #000; font-style: none;\">Namics → profil kompanije</span></a></div><div class=\"listing-ime-firme\" style=\"color: #999; \">do 21/08 · Beograd</div><small><a href=\"http://startit.rs/poslovi/aem\">aem</a></small><small><a href=\"http://startit.rs/poslovi/java\">java</a></small><small><a href=\"http://startit.rs/poslovi/spring\">spring</a></small> </div>\n",
       "</div>"
      ]
     },
     "execution_count": 3,
     "metadata": {},
     "output_type": "execute_result"
    }
   ],
   "source": [
    "premium_oglasi = soup.find_all(\"div\", class_=\"listing-oglas-premium\")\n",
    "po = premium_oglasi[0]\n",
    "po"
   ]
  },
  {
   "cell_type": "code",
   "execution_count": 4,
   "metadata": {
    "collapsed": false
   },
   "outputs": [
    {
     "data": {
      "text/plain": [
       "[<a href=\"http://startit.rs/poslovi-oglasi/software-engineer-java-mid-level-namics/\" target=\"_blank\"><img src=\"http://startit.rs/wp-content/uploads/namics-premium1.png\"/></a>,\n",
       " <a href=\"http://startit.rs/poslovi-oglasi/software-engineer-java-mid-level-namics/\" target=\"_blank\">Software Engineer Java ­ Mid-level f/m</a>,\n",
       " <a href=\"http://startit.rs/?post_type=page&amp;p=36841\" target=\"_blank\"><span style=\"background: #ffff90; padding: 3px 5px 1px; border-bottom: 2px solid #ffde00; color: #000; font-style: none;\">Namics → profil kompanije</span></a>,\n",
       " <a href=\"http://startit.rs/poslovi/aem\">aem</a>,\n",
       " <a href=\"http://startit.rs/poslovi/java\">java</a>,\n",
       " <a href=\"http://startit.rs/poslovi/spring\">spring</a>]"
      ]
     },
     "execution_count": 4,
     "metadata": {},
     "output_type": "execute_result"
    }
   ],
   "source": [
    "po.find_all('a')"
   ]
  },
  {
   "cell_type": "code",
   "execution_count": 5,
   "metadata": {
    "collapsed": false
   },
   "outputs": [],
   "source": [
    "#def get_position(pa):\n",
    "#    return pa.h1.get_text()\n",
    "\n",
    "#position = get_position(po)\n",
    "#position"
   ]
  },
  {
   "cell_type": "code",
   "execution_count": 6,
   "metadata": {
    "collapsed": false
   },
   "outputs": [],
   "source": [
    "firm_city = po.find_all('div',class_=\"listing-ime-firme\")"
   ]
  },
  {
   "cell_type": "code",
   "execution_count": 7,
   "metadata": {
    "collapsed": false
   },
   "outputs": [
    {
     "data": {
      "text/plain": [
       "u'Namics \\u2192 profil kompanije'"
      ]
     },
     "execution_count": 7,
     "metadata": {},
     "output_type": "execute_result"
    }
   ],
   "source": [
    "def get_firm(po):\n",
    "    firm_city = po.find_all('div',class_=\"listing-ime-firme\")\n",
    "    return firm_city[0].get_text()\n",
    "firm = get_firm(po)\n",
    "firm"
   ]
  },
  {
   "cell_type": "code",
   "execution_count": 8,
   "metadata": {
    "collapsed": false
   },
   "outputs": [
    {
     "data": {
      "text/plain": [
       "'Beograd'"
      ]
     },
     "execution_count": 8,
     "metadata": {},
     "output_type": "execute_result"
    }
   ],
   "source": [
    "def get_city(po):\n",
    "    firm_city = po.find_all('div',class_=\"listing-ime-firme\")\n",
    "    city = firm_city[1].get_text()\n",
    "    city = city.split(' ')[3:]\n",
    "    cities = \"\"\n",
    "    for c in city:\n",
    "        cities = cities+str(c)\n",
    "    return cities\n",
    "city = get_city(po)\n",
    "city"
   ]
  },
  {
   "cell_type": "code",
   "execution_count": 9,
   "metadata": {
    "collapsed": false
   },
   "outputs": [
    {
     "data": {
      "text/plain": [
       "'aem java spring '"
      ]
     },
     "execution_count": 9,
     "metadata": {},
     "output_type": "execute_result"
    }
   ],
   "source": [
    "def get_tags(po):\n",
    "    tags = po.find_all('a')[3:]\n",
    "    tag_str = \"\"\n",
    "    for tag in tags:\n",
    "        tag_str = tag_str + str(tag.get_text())+\" \"\n",
    "    tag_str = tag_str.lower()\n",
    "    return tag_str\n",
    "tags = get_tags(po)\n",
    "tags"
   ]
  },
  {
   "cell_type": "code",
   "execution_count": 10,
   "metadata": {
    "collapsed": false
   },
   "outputs": [
    {
     "name": "stdout",
     "output_type": "stream",
     "text": [
      "aem\n",
      "java\n",
      "spring\n"
     ]
    }
   ],
   "source": [
    "tags = po.find_all('a')[3:]\n",
    "for tag in tags:\n",
    "    print tag.get_text().lower()"
   ]
  },
  {
   "cell_type": "code",
   "execution_count": 11,
   "metadata": {
    "collapsed": false
   },
   "outputs": [
    {
     "data": {
      "text/plain": [
       "[u'aem', u'java', u'spring']"
      ]
     },
     "execution_count": 11,
     "metadata": {},
     "output_type": "execute_result"
    }
   ],
   "source": [
    "def get_tag_list(po):\n",
    "    tag_list = []\n",
    "    tags = po.find_all('a')[3:]\n",
    "    for tag in tags:\n",
    "         tag_list.append(tag.get_text().lower())\n",
    "    return tag_list\n",
    "tags = get_tag_list(po)\n",
    "tags"
   ]
  },
  {
   "cell_type": "code",
   "execution_count": 12,
   "metadata": {
    "collapsed": false
   },
   "outputs": [
    {
     "data": {
      "text/plain": [
       "[<a href=\"http://startit.rs/poslovi-oglasi/content-support-german-qube/\" target=\"_blank\"><img src=\"http://startit.rs/wp-content/uploads/qube-standard.png\"/></a>,\n",
       " <a href=\"http://startit.rs/poslovi-oglasi/content-support-german-qube/\" target=\"_blank\">Content &amp; Support German</a>,\n",
       " <a href=\"http://qube3dstudio.com/\" target=\"_blank\">Qube doo</a>,\n",
       " <a href=\"http://startit.rs/poslovi/content\">content</a>,\n",
       " <a href=\"http://startit.rs/poslovi/marketing\">marketing</a>,\n",
       " <a href=\"http://startit.rs/poslovi/support\">support</a>]"
      ]
     },
     "execution_count": 12,
     "metadata": {},
     "output_type": "execute_result"
    }
   ],
   "source": [
    "standard_adds = soup.find_all(\"div\", class_=\"listing-oglas-standard\")\n",
    "ad = standard_adds[0].find_all('a')\n",
    "ad"
   ]
  },
  {
   "cell_type": "code",
   "execution_count": 13,
   "metadata": {
    "collapsed": false
   },
   "outputs": [
    {
     "data": {
      "text/plain": [
       "u'Content & Support German'"
      ]
     },
     "execution_count": 13,
     "metadata": {},
     "output_type": "execute_result"
    }
   ],
   "source": [
    "def get_position(ad):\n",
    "    return ad[1].get_text()\n",
    "pos = get_position(ad)\n",
    "pos"
   ]
  },
  {
   "cell_type": "code",
   "execution_count": 34,
   "metadata": {
    "collapsed": false
   },
   "outputs": [
    {
     "name": "stdout",
     "output_type": "stream",
     "text": [
      "[u'Qube', u'doo']\n"
     ]
    }
   ],
   "source": [
    "def get_firm(ad):\n",
    "    firm = ad[2].get_text()\n",
    "    #firm = get_firm(ad)\n",
    "\n",
    "    #firm = \"Nesto trulo random profil kompanije\"\n",
    "    firm = firm.split(' ')\n",
    "    #print firm\n",
    "\n",
    "    #if \"ne\" is \"ne\":\n",
    "     #   print \"sit\"\n",
    "    x = -1\n",
    "    for f in firm:\n",
    "        if f == \"profil\":\n",
    "            x = firm.index(f) - 1\n",
    "    if x is not -1:\n",
    "        firm.pop(x)\n",
    "        firm.pop(x)\n",
    "        firm.pop(x)\n",
    "    #print ' '.join(firm)\n",
    "    return ' '.join(firm)\n",
    "\n",
    "firm = get_firm(ad)"
   ]
  },
  {
   "cell_type": "code",
   "execution_count": 35,
   "metadata": {
    "collapsed": false
   },
   "outputs": [
    {
     "data": {
      "text/plain": [
       "'content marketing support '"
      ]
     },
     "execution_count": 35,
     "metadata": {},
     "output_type": "execute_result"
    }
   ],
   "source": [
    "def get_tags(ad):\n",
    "    tags = ad[3:]\n",
    "    tag_str = \"\"\n",
    "    for tag in tags:\n",
    "        tag_str = tag_str + str(tag.get_text())+\" \"\n",
    "    tag_str = tag_str.lower()\n",
    "    return tag_str\n",
    "tags = get_tags(ad)\n",
    "tags"
   ]
  },
  {
   "cell_type": "code",
   "execution_count": 36,
   "metadata": {
    "collapsed": false
   },
   "outputs": [
    {
     "data": {
      "text/plain": [
       "[u'content', u'marketing', u'support']"
      ]
     },
     "execution_count": 36,
     "metadata": {},
     "output_type": "execute_result"
    }
   ],
   "source": [
    "def get_tags_list(ad):\n",
    "    tag_list = []\n",
    "    tags = ad[3:]\n",
    "    for tag in tags:\n",
    "        t = tag.get_text().lower()\n",
    "        tag_list.append(t)\n",
    "    return tag_list\n",
    "get_tags_list(ad)"
   ]
  },
  {
   "cell_type": "code",
   "execution_count": 37,
   "metadata": {
    "collapsed": false
   },
   "outputs": [
    {
     "data": {
      "text/plain": [
       "<div class=\"listing-oglas-standard\">\n",
       "<a href=\"http://startit.rs/poslovi-oglasi/content-support-german-qube/\" target=\"_blank\"><img src=\"http://startit.rs/wp-content/uploads/qube-standard.png\"/></a>\n",
       "<!-- -->\n",
       "<div class=\"listing-oglas-standard-text\">\n",
       "<h1><a href=\"http://startit.rs/poslovi-oglasi/content-support-german-qube/\" target=\"_blank\">Content &amp; Support German</a></h1>\n",
       "<div class=\"listing-ime-firme\"><a href=\"http://qube3dstudio.com/\" target=\"_blank\">Qube doo</a></div><div class=\"listing-ime-firme\" style=\"color: #999; \">do 27/07 · Belgrade</div><small><a href=\"http://startit.rs/poslovi/content\">content</a></small><small><a href=\"http://startit.rs/poslovi/marketing\">marketing</a></small><small><a href=\"http://startit.rs/poslovi/support\">support</a></small>\n",
       "</div>\n",
       "</div>"
      ]
     },
     "execution_count": 37,
     "metadata": {},
     "output_type": "execute_result"
    }
   ],
   "source": [
    "standard_adds[0]"
   ]
  },
  {
   "cell_type": "code",
   "execution_count": 41,
   "metadata": {
    "collapsed": false
   },
   "outputs": [
    {
     "data": {
      "text/plain": [
       "'Belgrade'"
      ]
     },
     "execution_count": 41,
     "metadata": {},
     "output_type": "execute_result"
    }
   ],
   "source": [
    "get_city(standard_adds[0])"
   ]
  },
  {
   "cell_type": "code",
   "execution_count": 42,
   "metadata": {
    "collapsed": true
   },
   "outputs": [],
   "source": [
    "standard_adds_list = []\n"
   ]
  },
  {
   "cell_type": "code",
   "execution_count": 43,
   "metadata": {
    "collapsed": false
   },
   "outputs": [
    {
     "name": "stdout",
     "output_type": "stream",
     "text": [
      "[u'Qube', u'doo']\n",
      "[u'Holycode', u'']\n",
      "[u'Qube', u'doo']\n",
      "[u'Qube', u'doo']\n",
      "[u'Ivy', u'exec', u'\\u2192', u'profil', u'kompanije']\n",
      "[u'Holycode', u'']\n",
      "[u'Qube', u'doo']\n",
      "[u'PEAK', u'Sourcing']\n",
      "[u'Eontek']\n",
      "[u'Cosmic', u'Development']\n",
      "[u'studio', u'd76', u's.r.o']\n",
      "[u'Qube', u'doo']\n"
     ]
    },
    {
     "data": {
      "text/plain": [
       "[{'city': 'Belgrade',\n",
       "  'firm': u'Qube doo',\n",
       "  'position': u'Content & Support German',\n",
       "  'tags': [u'content', u'marketing', u'support']},\n",
       " {'city': 'Belgrade',\n",
       "  'firm': u'Holycode ',\n",
       "  'position': u'Senior Frontend Developer',\n",
       "  'tags': [u'css3', u'frontend', u'html5', u'js']},\n",
       " {'city': 'Belgrade',\n",
       "  'firm': u'Qube doo',\n",
       "  'position': u'Content & Support American/English',\n",
       "  'tags': [u'content', u'marketing', u'support']},\n",
       " {'city': 'Belgrade',\n",
       "  'firm': u'Qube doo',\n",
       "  'position': u'Android Developer',\n",
       "  'tags': [u'android', u'mobile', u'qa']},\n",
       " {'city': 'Beograd/NoviSad',\n",
       "  'firm': u'Ivy exec',\n",
       "  'position': u'Project Manager',\n",
       "  'tags': [u'management', u'project']},\n",
       " {'city': 'Belgrade',\n",
       "  'firm': u'Holycode ',\n",
       "  'position': u'Senior Web Designer',\n",
       "  'tags': [u'dizajn', u'frontend']},\n",
       " {'city': 'Belgrade',\n",
       "  'firm': u'Qube doo',\n",
       "  'position': u'CMS Web Developer',\n",
       "  'tags': [u'angularjs', u'cms', u'csharp', u'frontend']},\n",
       " {'city': 'Beograd',\n",
       "  'firm': u'PEAK Sourcing',\n",
       "  'position': u'Senior Java Developer',\n",
       "  'tags': [u'java', u'rest']},\n",
       " {'city': 'Beograd',\n",
       "  'firm': u'Eontek',\n",
       "  'position': u'Web Designer',\n",
       "  'tags': [u'css', u'design', u'dizajn', u'html']},\n",
       " {'city': 'Beograd',\n",
       "  'firm': u'Cosmic Development',\n",
       "  'position': u'PHP Developer',\n",
       "  'tags': [u'laravel', u'mysql', u'php']},\n",
       " {'city': 'Remote/Prag',\n",
       "  'firm': u'studio d76 s.r.o',\n",
       "  'position': u'C++/OpenGL Software Developer',\n",
       "  'tags': [u'cplusplus', u'opengl']},\n",
       " {'city': 'Belgrade',\n",
       "  'firm': u'Qube doo',\n",
       "  'position': u'QA Tester',\n",
       "  'tags': [u'android', u'ios', u'mobile', u'qa']}]"
      ]
     },
     "execution_count": 43,
     "metadata": {},
     "output_type": "execute_result"
    }
   ],
   "source": [
    "def get_ad_list(ad_type):\n",
    "    i = 0\n",
    "    for ad in standard_adds:\n",
    "        std_add_dict = {}\n",
    "        add = ad.find_all('a')\n",
    "        std_add_dict['position'] = get_position(add)\n",
    "        #print get_position(add)\n",
    "        std_add_dict['firm'] = get_firm(add)\n",
    "        #print get_firm(add)\n",
    "        std_add_dict['city'] = get_city(ad)\n",
    "        std_add_dict['tags'] = get_tags_list(add)\n",
    "        #print std_add_dict\n",
    "        standard_adds_list.append(std_add_dict)\n",
    "        #print standard_adds_list\n",
    "        #i = i+1\n",
    "        #print i\n",
    "    \n",
    "    return standard_adds_list\n",
    "\n",
    "k = get_ad_list(standard_adds)\n",
    "k"
   ]
  },
  {
   "cell_type": "code",
   "execution_count": 217,
   "metadata": {
    "collapsed": false
   },
   "outputs": [
    {
     "data": {
      "text/plain": [
       "[<a href=\"http://www.rt-rk.com/careers/open-positions\" target=\"_blank\">Automotive and Aerospace Software Developer</a>,\n",
       " <a href=\"http://startit.rs/poslovi/Novi Sad\">Novi Sad</a>,\n",
       " <a href=\"http://startit.rs/poslovi/cplusplus\">cplusplus</a>]"
      ]
     },
     "execution_count": 217,
     "metadata": {},
     "output_type": "execute_result"
    }
   ],
   "source": [
    "mini_adds = soup.find_all(\"div\", class_=\"oglas-mini\")\n",
    "ad = mini_adds[0].find_all('a')\n",
    "ad"
   ]
  },
  {
   "cell_type": "code",
   "execution_count": 218,
   "metadata": {
    "collapsed": false
   },
   "outputs": [
    {
     "data": {
      "text/plain": [
       "''"
      ]
     },
     "execution_count": 218,
     "metadata": {},
     "output_type": "execute_result"
    }
   ],
   "source": [
    "def get_city_s(ad):\n",
    "    return ad[1].get_text()\n",
    "def get_position_s(ad):\n",
    "    return ad[0].get_text()\n",
    "def get_tags_s(ad):\n",
    "    tags = ad[2:]\n",
    "    tag_str = \"\"\n",
    "    for tag in tags:\n",
    "        tag_str = tag_str + str(tag.get_text())+\" \"\n",
    "    tag_str = tag_str.lower()\n",
    "    return tag_str\n",
    "tags = get_tags(ad)\n",
    "tags"
   ]
  },
  {
   "cell_type": "code",
   "execution_count": 219,
   "metadata": {
    "collapsed": false
   },
   "outputs": [
    {
     "data": {
      "text/plain": [
       "u'Novi Sad'"
      ]
     },
     "execution_count": 219,
     "metadata": {},
     "output_type": "execute_result"
    }
   ],
   "source": [
    "k = get_city_s(ad)\n",
    "k"
   ]
  },
  {
   "cell_type": "code",
   "execution_count": 220,
   "metadata": {
    "collapsed": false
   },
   "outputs": [
    {
     "data": {
      "text/plain": [
       "u'Automotive and Aerospace Software Developer'"
      ]
     },
     "execution_count": 220,
     "metadata": {},
     "output_type": "execute_result"
    }
   ],
   "source": [
    "get_position_s(ad)"
   ]
  },
  {
   "cell_type": "code",
   "execution_count": 221,
   "metadata": {
    "collapsed": false
   },
   "outputs": [
    {
     "data": {
      "text/plain": [
       "u'RT-RK'"
      ]
     },
     "execution_count": 221,
     "metadata": {},
     "output_type": "execute_result"
    }
   ],
   "source": [
    "mini_adds = soup.find_all(\"div\", class_=\"oglas-mini\")\n",
    "#mini_adds[0].find('div',class_=\"oglas-mini-header\").get_text\n",
    "def get_firm_s(ad):\n",
    "    return ad.find('div',class_=\"oglas-mini-header\").get_text()\n",
    "get_firm_s(mini_adds[0])"
   ]
  },
  {
   "cell_type": "code",
   "execution_count": 222,
   "metadata": {
    "collapsed": false
   },
   "outputs": [],
   "source": [
    "def find_ads(css_class_name, soup):\n",
    "    return soup.find_all(\"div\", class_=\"css_class_name\")\n",
    "\n",
    "premium_ads = soup.find_all(\"div\", class_=\"listing-oglas-premium\")\n",
    "standard_ads = soup.find_all(\"div\", class_=\"listing-oglas-standard\")\n",
    "mini_ads = soup.find_all(\"div\", class_=\"oglas-mini\")"
   ]
  },
  {
   "cell_type": "code",
   "execution_count": 224,
   "metadata": {
    "collapsed": false
   },
   "outputs": [
    {
     "data": {
      "text/plain": [
       "'.'"
      ]
     },
     "execution_count": 224,
     "metadata": {},
     "output_type": "execute_result"
    }
   ],
   "source": [
    "import os\n",
    "os.curdir"
   ]
  },
  {
   "cell_type": "code",
   "execution_count": 239,
   "metadata": {
    "collapsed": true
   },
   "outputs": [],
   "source": [
    "f = open('fajl2.txt','w+')"
   ]
  },
  {
   "cell_type": "code",
   "execution_count": 240,
   "metadata": {
    "collapsed": true
   },
   "outputs": [],
   "source": [
    "f.write(\"cevap\")"
   ]
  },
  {
   "cell_type": "code",
   "execution_count": 259,
   "metadata": {
    "collapsed": false
   },
   "outputs": [],
   "source": [
    "for p in premium_ads:\n",
    "    print \"mrs\""
   ]
  },
  {
   "cell_type": "code",
   "execution_count": 245,
   "metadata": {
    "collapsed": false
   },
   "outputs": [
    {
     "data": {
      "text/plain": [
       "4"
      ]
     },
     "execution_count": 245,
     "metadata": {},
     "output_type": "execute_result"
    }
   ],
   "source": [
    "2+2"
   ]
  },
  {
   "cell_type": "code",
   "execution_count": 246,
   "metadata": {
    "collapsed": false
   },
   "outputs": [
    {
     "data": {
      "text/plain": [
       "<method 'ctime' of 'datetime.date' objects>"
      ]
     },
     "execution_count": 246,
     "metadata": {},
     "output_type": "execute_result"
    }
   ],
   "source": [
    "from datetime import date\n",
    "date.ctime"
   ]
  },
  {
   "cell_type": "code",
   "execution_count": 247,
   "metadata": {
    "collapsed": false
   },
   "outputs": [],
   "source": [
    "d = date.today()\n",
    "print d"
   ]
  },
  {
   "cell_type": "code",
   "execution_count": 248,
   "metadata": {
    "collapsed": false
   },
   "outputs": [
    {
     "data": {
      "text/plain": [
       "'09/05/16'"
      ]
     },
     "execution_count": 248,
     "metadata": {},
     "output_type": "execute_result"
    }
   ],
   "source": [
    "d.strftime(\"%d/%m/%y\")"
   ]
  },
  {
   "cell_type": "code",
   "execution_count": 249,
   "metadata": {
    "collapsed": false
   },
   "outputs": [],
   "source": [
    "from datetime import date\n",
    "\n",
    "def curent_date_str():\n",
    "    d = date.today()\n",
    "    d = d.strftime(\"%d/%m/%y\")\n",
    "    return d\n",
    "k = curent_date_str()"
   ]
  },
  {
   "cell_type": "code",
   "execution_count": 250,
   "metadata": {
    "collapsed": false
   },
   "outputs": [
    {
     "data": {
      "text/plain": [
       "'09/05/16'"
      ]
     },
     "execution_count": 250,
     "metadata": {},
     "output_type": "execute_result"
    }
   ],
   "source": [
    "k"
   ]
  },
  {
   "cell_type": "code",
   "execution_count": 252,
   "metadata": {
    "collapsed": false
   },
   "outputs": [],
   "source": [
    "f = open(\"fajl3.txt\",'w+')"
   ]
  },
  {
   "cell_type": "code",
   "execution_count": 257,
   "metadata": {
    "collapsed": false
   },
   "outputs": [],
   "source": [
    "\n",
    "print 1\n",
    "for pa in premium_ads:\n",
    "    k = pa.find_all('a')\n",
    "    firm_city = po.find_all('div',class_=\"listing-ime-firme\")\n",
    "    print \"1\"\n",
    "    print str(get_position(k))+\"1\"\n",
    "    f.write(get_position(k))"
   ]
  },
  {
   "cell_type": "code",
   "execution_count": null,
   "metadata": {
    "collapsed": false
   },
   "outputs": [],
   "source": [
    "2+2"
   ]
  },
  {
   "cell_type": "code",
   "execution_count": 258,
   "metadata": {
    "collapsed": true
   },
   "outputs": [],
   "source": [
    "for pa in premium_ads:\n",
    "    k = pa.find_all('a')\n",
    "    firm_city = po.find_all('div',class_=\"listing-ime-firme\")\n",
    "    print \"1\""
   ]
  },
  {
   "cell_type": "code",
   "execution_count": null,
   "metadata": {
    "collapsed": true
   },
   "outputs": [],
   "source": [
    "for i in range"
   ]
  }
 ],
 "metadata": {
  "kernelspec": {
   "display_name": "Python 2",
   "language": "python",
   "name": "python2"
  },
  "language_info": {
   "codemirror_mode": {
    "name": "ipython",
    "version": 2
   },
   "file_extension": ".py",
   "mimetype": "text/x-python",
   "name": "python",
   "nbconvert_exporter": "python",
   "pygments_lexer": "ipython2",
   "version": "2.7.12"
  }
 },
 "nbformat": 4,
 "nbformat_minor": 0
}
